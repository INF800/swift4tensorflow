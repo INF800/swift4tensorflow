{
  "nbformat": 4,
  "nbformat_minor": 0,
  "metadata": {
    "colab": {
      "name": "01-02-swift-basics-part-2.ipynb",
      "provenance": [],
      "collapsed_sections": [],
      "include_colab_link": true
    },
    "kernelspec": {
      "name": "swift",
      "display_name": "Swift"
    }
  },
  "cells": [
    {
      "cell_type": "markdown",
      "metadata": {
        "id": "view-in-github",
        "colab_type": "text"
      },
      "source": [
        "<a href=\"https://colab.research.google.com/github/rakesh4real/swift4tensorflow/blob/master/01_02_swift_basics_part_2.ipynb\" target=\"_parent\"><img src=\"https://colab.research.google.com/assets/colab-badge.svg\" alt=\"Open In Colab\"/></a>"
      ]
    },
    {
      "cell_type": "markdown",
      "metadata": {
        "id": "wGFflvHjHs0m",
        "colab_type": "text"
      },
      "source": [
        "# 11. Functions"
      ]
    },
    {
      "cell_type": "code",
      "metadata": {
        "id": "kZRlD4utdPuX",
        "colab_type": "code",
        "outputId": "05884c3c-00c2-4361-aec3-209d7c18f63d",
        "colab": {
          "base_uri": "https://localhost:8080/",
          "height": 34
        }
      },
      "source": [
        "// simple\n",
        "func printHello(){\n",
        "  print(\"hello\")\n",
        "}\n",
        "\n",
        "printHello()"
      ],
      "execution_count": 0,
      "outputs": [
        {
          "output_type": "stream",
          "text": [
            "hello\r\n"
          ],
          "name": "stdout"
        }
      ]
    },
    {
      "cell_type": "code",
      "metadata": {
        "id": "YmXOFw0GIDCH",
        "colab_type": "code",
        "outputId": "6a93661a-60a8-4a6d-b1b7-bd92b520d4d4",
        "colab": {
          "base_uri": "https://localhost:8080/",
          "height": 34
        }
      },
      "source": [
        "// parameter\n",
        "func printMe(param : String){\n",
        "  print(\"\\(param) printed!\")\n",
        "}\n",
        "\n",
        "printMe(name: \"This\")"
      ],
      "execution_count": 0,
      "outputs": [
        {
          "output_type": "stream",
          "text": [
            "This printed!\r\n"
          ],
          "name": "stdout"
        }
      ]
    },
    {
      "cell_type": "code",
      "metadata": {
        "id": "c9T06FN1IaJF",
        "colab_type": "code",
        "outputId": "8ba256f4-599b-4ff6-873e-1a2cf0a1f57f",
        "colab": {
          "base_uri": "https://localhost:8080/",
          "height": 34
        }
      },
      "source": [
        "// multiple params\n",
        "func printMe2(param1 : String, param2: Int){\n",
        "  print(\"\\(param1) and \\(param2) printed!\")\n",
        "}\n",
        "\n",
        "printMe2(param1: \"This\", param2: 2)"
      ],
      "execution_count": 0,
      "outputs": [
        {
          "output_type": "stream",
          "text": [
            "This and 2 printed!\r\n"
          ],
          "name": "stdout"
        }
      ]
    },
    {
      "cell_type": "code",
      "metadata": {
        "id": "sr7pUj99I_5K",
        "colab_type": "code",
        "outputId": "0c0f559c-33f8-4ea4-c1c8-197a4aab669f",
        "colab": {
          "base_uri": "https://localhost:8080/",
          "height": 34
        }
      },
      "source": [
        "// Internal and External Parameter Names\n",
        "//--------------------------------------\n",
        "// for elegant code.\n",
        "// While that certainly works, it’s a bit wordy. \n",
        "// Plus it’s not the kind of thing you would say \n",
        "// aloud: “count letters in string string hello”.\n",
        "// Swift’s solution is to let you specify one \n",
        "// name for the parameter when it’s being called, \n",
        "// and another inside the method. \n",
        "// To use this, just write the parameter \n",
        "// name twice – once for external, one for internal.\n",
        "\n",
        "func wordcount(ExternalParamUsedForFuncCall InternalParamForFuncBody : String){\n",
        "  print(\"Number of words in \\(InternalParamForFuncBody) is \\(InternalParamForFuncBody.count)\")\n",
        "}\n",
        "\n",
        "wordcount(ExternalParamUsedForFuncCall: \"Test\")"
      ],
      "execution_count": 1,
      "outputs": [
        {
          "output_type": "stream",
          "text": [
            "Number of words in Test is 4\r\n"
          ],
          "name": "stdout"
        }
      ]
    },
    {
      "cell_type": "code",
      "metadata": {
        "id": "IB5ALIMBLntx",
        "colab_type": "code",
        "outputId": "6c5022b1-32e2-474e-afcb-bf6cd60c5ca8",
        "colab": {
          "base_uri": "https://localhost:8080/",
          "height": 34
        }
      },
      "source": [
        "// '_' for external name mean we don't\n",
        "// need external param at all\n",
        "func wordcount(_ str : String){\n",
        "  print(\"Number of words in \\(str) is \\(str.count)\")\n",
        "}\n",
        "\n",
        "// no external param\n",
        "wordcount(\"Test\")\n",
        "\n",
        "// You’ll commonly see is external parameter \n",
        "// names like “in”, “for”, and “with”, and\n",
        "// more meaningful internal names."
      ],
      "execution_count": 2,
      "outputs": [
        {
          "output_type": "stream",
          "text": [
            "Number of words in Test is 4\r\n"
          ],
          "name": "stdout"
        }
      ]
    },
    {
      "cell_type": "code",
      "metadata": {
        "id": "K7yJHPD2MfJA",
        "colab_type": "code",
        "outputId": "e0307ad8-dfa4-46fe-c0dc-8885732b265a",
        "colab": {
          "base_uri": "https://localhost:8080/",
          "height": 34
        }
      },
      "source": [
        "// Return Values\n",
        "func printFalse() -> Bool{\n",
        "  return false\n",
        "}\n",
        "\n",
        "printFalse()"
      ],
      "execution_count": 3,
      "outputs": [
        {
          "output_type": "execute_result",
          "data": {
            "text/plain": [
              "false\n"
            ]
          },
          "metadata": {
            "tags": []
          },
          "execution_count": 3
        }
      ]
    },
    {
      "cell_type": "markdown",
      "metadata": {
        "id": "ZMvA1jhISn19",
        "colab_type": "text"
      },
      "source": [
        "# 11. Optionals\n",
        "\n",
        "safe language, by which I mean it works hard to ensure your code never fails in surprising ways"
      ]
    },
    {
      "cell_type": "code",
      "metadata": {
        "id": "yIGMf8c5SPzJ",
        "colab_type": "code",
        "outputId": "b1b71899-70f6-4d8a-9b35-e391fc535495",
        "colab": {
          "base_uri": "https://localhost:8080/",
          "height": 34
        }
      },
      "source": [
        "func printFalse() -> Bool{\n",
        "  return false\n",
        "} \n",
        "\n",
        "printFalse()"
      ],
      "execution_count": 4,
      "outputs": [
        {
          "output_type": "execute_result",
          "data": {
            "text/plain": [
              "false\n"
            ]
          },
          "metadata": {
            "tags": []
          },
          "execution_count": 4
        }
      ]
    },
    {
      "cell_type": "code",
      "metadata": {
        "id": "kljTcw-DS6wr",
        "colab_type": "code",
        "outputId": "2fc04943-ba78-4d09-dfe9-3ce7f18bea57",
        "colab": {
          "base_uri": "https://localhost:8080/",
          "height": 129
        }
      },
      "source": [
        "// what if\n",
        "func printFalse() -> Bool{\n",
        "  return \"false\"\n",
        "} \n",
        "\n",
        "printFalse() // Type mismatch"
      ],
      "execution_count": 5,
      "outputs": [
        {
          "output_type": "error",
          "ename": "",
          "evalue": "ignored",
          "traceback": [
            "error: <Cell 5>:3:10: error: cannot convert return expression of type 'String' to return type 'Bool'\n  return \"false\"\n         ^~~~~~~\n\n"
          ]
        }
      ]
    },
    {
      "cell_type": "code",
      "metadata": {
        "id": "AwT_v7dsTA_S",
        "colab_type": "code",
        "outputId": "a49fd9e3-2753-4c99-efa6-db8827014bf8",
        "colab": {
          "base_uri": "https://localhost:8080/",
          "height": 34
        }
      },
      "source": [
        "// hence we use optionals\n",
        "func printFalse2() -> Bool?{\n",
        "  return nil // Only nil allowed\n",
        "} \n",
        "\n",
        "printFalse2()"
      ],
      "execution_count": 6,
      "outputs": [
        {
          "output_type": "execute_result",
          "data": {
            "text/plain": [
              "nil\n"
            ]
          },
          "metadata": {
            "tags": []
          },
          "execution_count": 6
        }
      ]
    },
    {
      "cell_type": "code",
      "metadata": {
        "id": "q69o3gxsgTyB",
        "colab_type": "code",
        "colab": {}
      },
      "source": [
        "// initalize vars with optionals \n",
        "// to work with optional returns\n",
        "var status : Bool?\n",
        "status = printFalse2()"
      ],
      "execution_count": 0,
      "outputs": []
    },
    {
      "cell_type": "markdown",
      "metadata": {
        "id": "-OjzGmPwiqcl",
        "colab_type": "text"
      },
      "source": [
        "# 12. Optional Chaining"
      ]
    },
    {
      "cell_type": "code",
      "metadata": {
        "id": "ifvYfPzPigUJ",
        "colab_type": "code",
        "colab": {}
      },
      "source": [
        "// Note : ?\n",
        "// album = albumReleased(year: 2006)?.someOptionalValue?.someOtherOptionalValue?.whatever\n",
        "// Swift will check them from left to right until it finds nil, at which point it stops."
      ],
      "execution_count": 0,
      "outputs": []
    },
    {
      "cell_type": "code",
      "metadata": {
        "id": "AtJzVOE6ocaX",
        "colab_type": "code",
        "colab": {
          "base_uri": "https://localhost:8080/",
          "height": 34
        },
        "outputId": "a0c9edc2-b50e-4838-cc69-732448bb1d6e"
      },
      "source": [
        "// The nil coalescing operator\n",
        "func returnNil() -> String?{\n",
        "  return nil\n",
        "}\n",
        "\n",
        "// ?? mean, if 'nil' variable = \"unknown\"\n",
        "let variable = returnNil() ?? \"unknown\"\n",
        "print(variable)"
      ],
      "execution_count": 9,
      "outputs": [
        {
          "output_type": "stream",
          "text": [
            "unknown\r\n"
          ],
          "name": "stdout"
        }
      ]
    },
    {
      "cell_type": "markdown",
      "metadata": {
        "id": "eCRLh1f0pIns",
        "colab_type": "text"
      },
      "source": [
        "# 13. Enumerations\n",
        "\n",
        "A way for you to define your own kind of value(data type) in Swift. Swift adds a huge amount of power to them if you want to go beyond the basics.\n",
        "\n",
        "- Best used with switch case"
      ]
    },
    {
      "cell_type": "code",
      "metadata": {
        "id": "GbiT8BUNo63v",
        "colab_type": "code",
        "colab": {
          "base_uri": "https://localhost:8080/",
          "height": 51
        },
        "outputId": "ddf15dfa-f875-4c0c-f8ad-ae754bff7bd5"
      },
      "source": [
        "enum YesNo {\n",
        "  case yes, no\n",
        "}\n",
        "// Note: Instead of 'yes' or 'no' as variables\n",
        "// now you can use them as 'YesNo.yes' or 'YesNo.no'\n",
        "// as variables. 'YesNo' is simply a data type\n",
        "\n",
        "func TellYes(status: YesNo){\n",
        "  if status==YesNo.yes{\n",
        "    print(\"Yeah!\")\n",
        "  }else{\n",
        "    print(\"Nah\")\n",
        "  }\n",
        "}\n",
        "\n",
        "TellYes(status: YesNo.yes)\n",
        "TellYes(status: YesNo.no)"
      ],
      "execution_count": 14,
      "outputs": [
        {
          "output_type": "stream",
          "text": [
            "Yeah!\r\n",
            "Nah\r\n"
          ],
          "name": "stdout"
        }
      ]
    },
    {
      "cell_type": "code",
      "metadata": {
        "id": "vXFltwOiq3R5",
        "colab_type": "code",
        "colab": {
          "base_uri": "https://localhost:8080/",
          "height": 51
        },
        "outputId": "e6f448d0-c682-4b14-f7d3-569a38eabac7"
      },
      "source": [
        "// another convinient way of definig\n",
        "enum YesNo {\n",
        "  case yes\n",
        "  case no // note difference\n",
        "}\n",
        "\n",
        "// note: .yes\n",
        "func TellYes(status: YesNo){\n",
        "  if status == .yes{\n",
        "    print(\"Yeah!\")\n",
        "  }else{\n",
        "    print(\"Nah\")\n",
        "  }\n",
        "}\n",
        "\n",
        "TellYes(status: YesNo.yes)\n",
        "TellYes(status: YesNo.no)"
      ],
      "execution_count": 18,
      "outputs": [
        {
          "output_type": "stream",
          "text": [
            "Yeah!\r\n",
            "Nah\r\n"
          ],
          "name": "stdout"
        }
      ]
    },
    {
      "cell_type": "code",
      "metadata": {
        "id": "UfcZWzm0rhmq",
        "colab_type": "code",
        "colab": {
          "base_uri": "https://localhost:8080/",
          "height": 51
        },
        "outputId": "9aee4b29-c971-4cd8-fb4f-191737a5486d"
      },
      "source": [
        "// Enum with addditional values\n",
        "enum car{\n",
        "  case speed(curSpeed: Float)\n",
        "}\n",
        "\n",
        "switch car.speed(curSpeed: 100){\n",
        "  case .speed(let x) where x > 60 :\n",
        "    print(\"Over-speeding\")\n",
        "  default:\n",
        "    print(\"nil\")\n",
        "}\n",
        "\n",
        "// behaves differently\n",
        "\n",
        "switch car.speed(curSpeed: 20){\n",
        "  case .speed(let x) where x > 60 :\n",
        "    print(\"Over-speeding\")\n",
        "  case .speed:\n",
        "    print(\"Car is moving but not over-speeding\")\n",
        "  default:\n",
        "    print(\"nil\")\n",
        "}"
      ],
      "execution_count": 23,
      "outputs": [
        {
          "output_type": "stream",
          "text": [
            "Over-speeding\r\n",
            "Car is moving but not over-speeding\r\n"
          ],
          "name": "stdout"
        }
      ]
    },
    {
      "cell_type": "markdown",
      "metadata": {
        "id": "h4oGizbcvBAO",
        "colab_type": "text"
      },
      "source": [
        "# 14. Structs\n",
        "\n",
        "-  Made up of multiple values and funcs. Unlike c structs, more like python class"
      ]
    },
    {
      "cell_type": "code",
      "metadata": {
        "id": "A8zD2q7Uuujg",
        "colab_type": "code",
        "colab": {
          "base_uri": "https://localhost:8080/",
          "height": 85
        },
        "outputId": "12716aae-3076-4437-c4aa-65fb995d5eec"
      },
      "source": [
        "struct Lang{\n",
        "  var Name: String\n",
        "  var Year: Int\n",
        "  var Level: String = \"High-level\"\n",
        "  func printName(){\n",
        "    print(Name)\n",
        "  }\n",
        "}\n",
        "\n",
        "var Swift = Lang(Name: \"Swift ios\", Year: 2014)\n",
        "print(Swift)\n",
        "print(Swift.Name) // call individual value\n",
        "print(Swift.Level) // default value\n",
        "Swift.printName() // function call"
      ],
      "execution_count": 32,
      "outputs": [
        {
          "output_type": "stream",
          "text": [
            "Lang(Name: \"Swift ios\", Year: 2014, Level: \"High-level\")\r\n",
            "Swift ios\r\n",
            "High-level\r\n",
            "Swift ios\r\n"
          ],
          "name": "stdout"
        }
      ]
    },
    {
      "cell_type": "markdown",
      "metadata": {
        "id": "fmWkEa3lxBLz",
        "colab_type": "text"
      },
      "source": [
        "# 15. Classes"
      ]
    },
    {
      "cell_type": "code",
      "metadata": {
        "id": "2yXQOSE8vqgU",
        "colab_type": "code",
        "colab": {
          "base_uri": "https://localhost:8080/",
          "height": 34
        },
        "outputId": "564a656e-4d52-40bb-c68b-0f3806c0275a"
      },
      "source": [
        "// Cannot leave a variable uninitialized\n",
        "// initialize without constructor init\n",
        "class Language{\n",
        "  var Name : String = \"s\"\n",
        "  var Year : Int = 10\n",
        "}\n",
        "\n",
        "var python = Language()\n",
        "print(python.Name)"
      ],
      "execution_count": 40,
      "outputs": [
        {
          "output_type": "stream",
          "text": [
            "s\r\n"
          ],
          "name": "stdout"
        }
      ]
    },
    {
      "cell_type": "code",
      "metadata": {
        "id": "YChic6CTxk3L",
        "colab_type": "code",
        "colab": {
          "base_uri": "https://localhost:8080/",
          "height": 34
        },
        "outputId": "935e8c20-e608-4c6b-d891-e8c6e27253c2"
      },
      "source": [
        "// with constructor\n",
        "class Car{\n",
        "  var color: String\n",
        "\n",
        "  // constructor\n",
        "  init(color: String){\n",
        "    self.color = color\n",
        "  }\n",
        "}\n",
        "\n",
        "var car = Car(color: \"blue\")\n",
        "print( car.color )"
      ],
      "execution_count": 53,
      "outputs": [
        {
          "output_type": "stream",
          "text": [
            "blue\r\n"
          ],
          "name": "stdout"
        }
      ]
    },
    {
      "cell_type": "code",
      "metadata": {
        "id": "htcV5oUC3D5X",
        "colab_type": "code",
        "colab": {
          "base_uri": "https://localhost:8080/",
          "height": 51
        },
        "outputId": "74a32f67-0623-401c-ccd2-ee7c365443a7"
      },
      "source": [
        "// with default constructor and a method\n",
        "class Car2{\n",
        "  var color: String\n",
        "\n",
        "  // constructor\n",
        "  init(color: String = \"balck\"){\n",
        "    self.color = color\n",
        "  }\n",
        "\n",
        "  // method\n",
        "  func horn() {\n",
        "        print(\"beep!\")\n",
        "    }\n",
        "}\n",
        "\n",
        "var car = Car2()\n",
        "print( car.color )\n",
        "car.horn()"
      ],
      "execution_count": 57,
      "outputs": [
        {
          "output_type": "stream",
          "text": [
            "balck\r\n",
            "beep!\r\n"
          ],
          "name": "stdout"
        }
      ]
    },
    {
      "cell_type": "code",
      "metadata": {
        "id": "8a2mzyDc3bb3",
        "colab_type": "code",
        "colab": {
          "base_uri": "https://localhost:8080/",
          "height": 51
        },
        "outputId": "f8537e21-edfb-4a4d-c78b-de21a30a4706"
      },
      "source": [
        "// Inheritance and override\n",
        "class Car3{\n",
        "  var color: String\n",
        "\n",
        "  // constructor\n",
        "  init(color: String = \"balck\"){\n",
        "    self.color = color\n",
        "  }\n",
        "\n",
        "  // method\n",
        "  func horn() {\n",
        "        print(\"beep!\")\n",
        "    }\n",
        "}\n",
        "\n",
        "class Truck: Car3{\n",
        "  override func horn(){\n",
        "    print(\"grrr\")\n",
        "  }\n",
        "}\n",
        "\n",
        "var truck = Truck()\n",
        "print(truck.color) //  inheritance\n",
        "truck.horn() // override"
      ],
      "execution_count": 68,
      "outputs": [
        {
          "output_type": "stream",
          "text": [
            "balck\r\n",
            "grrr\r\n"
          ],
          "name": "stdout"
        }
      ]
    },
    {
      "cell_type": "markdown",
      "metadata": {
        "id": "ARyLpcBm6Tue",
        "colab_type": "text"
      },
      "source": [
        "# 16. Properties\n",
        "\n",
        "Structs and classes (collectively: \"types\") can have their own variables and constants, and these are called properties.\n",
        "\n",
        "Because types can also have methods you can have them behave according to their own data."
      ]
    },
    {
      "cell_type": "code",
      "metadata": {
        "id": "DDEG7WA85PSo",
        "colab_type": "code",
        "colab": {
          "base_uri": "https://localhost:8080/",
          "height": 68
        },
        "outputId": "360d19a1-4858-4cb6-aeed-4d783d2aa6f7"
      },
      "source": [
        "// Property Observers - willSet and didSet\n",
        "// ---------------------------------------\n",
        "// In 'willSet' Swift provides your code with a special value called 'newValue' that \n",
        "// contains what the new property value is going to be, and in 'didSet' you are \n",
        "// given 'oldValue' to represent the previous value.\n",
        "\n",
        "// Note: willSet-newValue and didSet-oldValue pair \n",
        "// Note: extended data-types\n",
        "\n",
        "struct month{\n",
        "\n",
        "  // this func will be later used inside extended data-type\n",
        "  func GOT(climate: String){\n",
        "    if climate == \"winter\"{\n",
        "      print(\"winter is coming\")\n",
        "    }\n",
        "  }\n",
        "\n",
        "  // extended data type\n",
        "  var climate : String {\n",
        "    willSet{\n",
        "      print(\"new value: \\(newValue)\")\n",
        "      // func inside data-type\n",
        "      GOT(climate: newValue)\n",
        "    }\n",
        "    didSet{\n",
        "      print(\"old value: \\(oldValue)\")\n",
        "    }\n",
        "  }\n",
        "\n",
        "}\n",
        "\n",
        "var april = month(climate: \"summer\")\n",
        "april.climate = \"winter\""
      ],
      "execution_count": 71,
      "outputs": [
        {
          "output_type": "stream",
          "text": [
            "new value: winter\r\n",
            "winter is coming\r\n",
            "old value: summer\r\n"
          ],
          "name": "stdout"
        }
      ]
    },
    {
      "cell_type": "code",
      "metadata": {
        "id": "KAuPzggD_ZTV",
        "colab_type": "code",
        "colab": {
          "base_uri": "https://localhost:8080/",
          "height": 34
        },
        "outputId": "0c0280a2-07b3-4679-c891-b2af3ecf57ec"
      },
      "source": [
        "// Computed Properties\n",
        "// Make properties that are actually code behind the scenes.\n",
        "// Place an open brace after your property then use either\n",
        "// 'get' or 'set' to make an action happen\n",
        "\n",
        "struct Man{\n",
        "  var ageInYears: Int\n",
        "  var ageInDays: Int{\n",
        "    get{\n",
        "      ageInYears * 365\n",
        "    }\n",
        "  }\n",
        "}\n",
        "\n",
        "var you = Man(ageInYears: 19)\n",
        "print( you.ageInDays )"
      ],
      "execution_count": 74,
      "outputs": [
        {
          "output_type": "stream",
          "text": [
            "6935\r\n"
          ],
          "name": "stdout"
        }
      ]
    },
    {
      "cell_type": "code",
      "metadata": {
        "id": "xTMBkdvHD0-2",
        "colab_type": "code",
        "colab": {
          "base_uri": "https://localhost:8080/",
          "height": 34
        },
        "outputId": "1acefc6e-2737-47f7-fd7b-e1dc926aa517"
      },
      "source": [
        "// or can remove `get` for read operations\n",
        "struct Man{\n",
        "  var ageInYears: Int\n",
        "  var ageInDays: Int{\n",
        "      ageInYears * 365\n",
        "  }\n",
        "}\n",
        "\n",
        "var you = Man(ageInYears: 19)\n",
        "print( you.ageInDays )"
      ],
      "execution_count": 76,
      "outputs": [
        {
          "output_type": "stream",
          "text": [
            "6935\r\n"
          ],
          "name": "stdout"
        }
      ]
    },
    {
      "cell_type": "code",
      "metadata": {
        "id": "09J2lhOaEE52",
        "colab_type": "code",
        "colab": {}
      },
      "source": [
        ""
      ],
      "execution_count": 0,
      "outputs": []
    }
  ]
}