{
  "nbformat": 4,
  "nbformat_minor": 0,
  "metadata": {
    "colab": {
      "name": "01-02-swift-basics-part-2.ipynb",
      "provenance": [],
      "collapsed_sections": [],
      "include_colab_link": true
    },
    "kernelspec": {
      "name": "swift",
      "display_name": "Swift"
    }
  },
  "cells": [
    {
      "cell_type": "markdown",
      "metadata": {
        "id": "view-in-github",
        "colab_type": "text"
      },
      "source": [
        "<a href=\"https://colab.research.google.com/github/rakesh4real/swift4tensorflow/blob/master/01_02_swift_basics_part_2.ipynb\" target=\"_parent\"><img src=\"https://colab.research.google.com/assets/colab-badge.svg\" alt=\"Open In Colab\"/></a>"
      ]
    },
    {
      "cell_type": "markdown",
      "metadata": {
        "id": "wGFflvHjHs0m",
        "colab_type": "text"
      },
      "source": [
        "# 11. Functions"
      ]
    },
    {
      "cell_type": "code",
      "metadata": {
        "id": "kZRlD4utdPuX",
        "colab_type": "code",
        "outputId": "4c88aae8-6fda-44f9-b2c3-b3262f599320",
        "colab": {
          "base_uri": "https://localhost:8080/",
          "height": 34
        }
      },
      "source": [
        "// simple\n",
        "func printHello(){\n",
        "  print(\"hello\")\n",
        "}\n",
        "\n",
        "printHello()"
      ],
      "execution_count": 78,
      "outputs": [
        {
          "output_type": "stream",
          "text": [
            "hello\r\n"
          ],
          "name": "stdout"
        }
      ]
    },
    {
      "cell_type": "code",
      "metadata": {
        "id": "YmXOFw0GIDCH",
        "colab_type": "code",
        "outputId": "0b6f66b8-fc5a-4708-9b0f-509730ccc32f",
        "colab": {
          "base_uri": "https://localhost:8080/",
          "height": 34
        }
      },
      "source": [
        "// parameter\n",
        "func printMe(param : String){\n",
        "  print(\"\\(param) printed!\")\n",
        "}\n",
        "\n",
        "printMe(param: \"This\")"
      ],
      "execution_count": 80,
      "outputs": [
        {
          "output_type": "stream",
          "text": [
            "This printed!\r\n"
          ],
          "name": "stdout"
        }
      ]
    },
    {
      "cell_type": "code",
      "metadata": {
        "id": "c9T06FN1IaJF",
        "colab_type": "code",
        "outputId": "fa846c43-f15d-482e-a783-3572cb2be761",
        "colab": {
          "base_uri": "https://localhost:8080/",
          "height": 34
        }
      },
      "source": [
        "// multiple params\n",
        "func printMe2(param1 : String, param2: Int){\n",
        "  print(\"\\(param1) and \\(param2) printed!\")\n",
        "}\n",
        "\n",
        "printMe2(param1: \"This\", param2: 2)"
      ],
      "execution_count": 81,
      "outputs": [
        {
          "output_type": "stream",
          "text": [
            "This and 2 printed!\r\n"
          ],
          "name": "stdout"
        }
      ]
    },
    {
      "cell_type": "code",
      "metadata": {
        "id": "sr7pUj99I_5K",
        "colab_type": "code",
        "outputId": "8786c2c4-9cc9-4de6-c25d-3eb69818c305",
        "colab": {
          "base_uri": "https://localhost:8080/",
          "height": 34
        }
      },
      "source": [
        "// Internal and External Parameter Names\n",
        "//--------------------------------------\n",
        "// for elegant code.\n",
        "// While that certainly works, it’s a bit wordy. \n",
        "// Plus it’s not the kind of thing you would say \n",
        "// aloud: “count letters in string string hello”.\n",
        "// Swift’s solution is to let you specify one \n",
        "// name for the parameter when it’s being called, \n",
        "// and another inside the method. \n",
        "// To use this, just write the parameter \n",
        "// name twice – once for external, one for internal.\n",
        "\n",
        "func wordcount(ExternalParamUsedForFuncCall InternalParamForFuncBody : String){\n",
        "  print(\"Number of words in \\(InternalParamForFuncBody) is \\(InternalParamForFuncBody.count)\")\n",
        "}\n",
        "\n",
        "wordcount(ExternalParamUsedForFuncCall: \"Test\")"
      ],
      "execution_count": 82,
      "outputs": [
        {
          "output_type": "stream",
          "text": [
            "Number of words in Test is 4\r\n"
          ],
          "name": "stdout"
        }
      ]
    },
    {
      "cell_type": "code",
      "metadata": {
        "id": "IB5ALIMBLntx",
        "colab_type": "code",
        "outputId": "4d1ddbe0-eb58-440c-8ad0-0e0ec964810b",
        "colab": {
          "base_uri": "https://localhost:8080/",
          "height": 34
        }
      },
      "source": [
        "// '_' for external name mean we don't\n",
        "// need external param at all\n",
        "func wordcount(_ str : String){\n",
        "  print(\"Number of words in \\(str) is \\(str.count)\")\n",
        "}\n",
        "\n",
        "// no external param\n",
        "wordcount(\"Test\")\n",
        "\n",
        "// You’ll commonly see is external parameter \n",
        "// names like “in”, “for”, and “with”, and\n",
        "// more meaningful internal names."
      ],
      "execution_count": 83,
      "outputs": [
        {
          "output_type": "stream",
          "text": [
            "Number of words in Test is 4\r\n"
          ],
          "name": "stdout"
        }
      ]
    },
    {
      "cell_type": "code",
      "metadata": {
        "id": "K7yJHPD2MfJA",
        "colab_type": "code",
        "outputId": "41db1b83-fa4b-4130-ceeb-0daea1d993ee",
        "colab": {
          "base_uri": "https://localhost:8080/",
          "height": 153
        }
      },
      "source": [
        "// Return Values\n",
        "func printFalse() -> Bool{\n",
        "  return false\n",
        "}\n",
        "\n",
        "printFalse()"
      ],
      "execution_count": 84,
      "outputs": [
        {
          "output_type": "execute_result",
          "data": {
            "text/plain": [
              "expression produced error: error: /tmp/expr478-de218f..swift:1:51: error: cannot specialize a non-generic definition\n",
              "Swift._DebuggerSupport.stringForPrintObject(Swift.UnsafePointer<Swift.Bool>(bitPattern: 0x7f0be829c5b0)!.pointee)\n",
              "                                                  ^\n",
              "\n",
              "/tmp/expr478-de218f..swift:1:64: note: while parsing this '<' as a type parameter bracket\n",
              "Swift._DebuggerSupport.stringForPrintObject(Swift.UnsafePointer<Swift.Bool>(bitPattern: 0x7f0be829c5b0)!.pointee)\n",
              "                                                               ^\n",
              "\n"
            ]
          },
          "metadata": {
            "tags": []
          },
          "execution_count": 84
        }
      ]
    },
    {
      "cell_type": "markdown",
      "metadata": {
        "id": "ZMvA1jhISn19",
        "colab_type": "text"
      },
      "source": [
        "# 11. Optionals\n",
        "\n",
        "safe language, by which I mean it works hard to ensure your code never fails in surprising ways"
      ]
    },
    {
      "cell_type": "code",
      "metadata": {
        "id": "yIGMf8c5SPzJ",
        "colab_type": "code",
        "outputId": "f74de667-8f2b-46df-8d07-30021ecd8066",
        "colab": {
          "base_uri": "https://localhost:8080/",
          "height": 153
        }
      },
      "source": [
        "func printFalse() -> Bool{\n",
        "  return false\n",
        "} \n",
        "\n",
        "printFalse()"
      ],
      "execution_count": 85,
      "outputs": [
        {
          "output_type": "execute_result",
          "data": {
            "text/plain": [
              "expression produced error: error: /tmp/expr488-58cd2c..swift:1:51: error: cannot specialize a non-generic definition\n",
              "Swift._DebuggerSupport.stringForPrintObject(Swift.UnsafePointer<Swift.Bool>(bitPattern: 0x7f0be829c5d0)!.pointee)\n",
              "                                                  ^\n",
              "\n",
              "/tmp/expr488-58cd2c..swift:1:64: note: while parsing this '<' as a type parameter bracket\n",
              "Swift._DebuggerSupport.stringForPrintObject(Swift.UnsafePointer<Swift.Bool>(bitPattern: 0x7f0be829c5d0)!.pointee)\n",
              "                                                               ^\n",
              "\n"
            ]
          },
          "metadata": {
            "tags": []
          },
          "execution_count": 85
        }
      ]
    },
    {
      "cell_type": "code",
      "metadata": {
        "id": "kljTcw-DS6wr",
        "colab_type": "code",
        "outputId": "76f35dc2-6cdd-4800-e28d-af83cbb3c222",
        "colab": {
          "base_uri": "https://localhost:8080/",
          "height": 129
        }
      },
      "source": [
        "// what if\n",
        "func printFalse() -> Bool{\n",
        "  return \"false\"\n",
        "} \n",
        "\n",
        "printFalse() // Type mismatch"
      ],
      "execution_count": 86,
      "outputs": [
        {
          "output_type": "error",
          "ename": "",
          "evalue": "ignored",
          "traceback": [
            "error: <Cell 86>:3:10: error: cannot convert return expression of type 'String' to return type 'Bool'\n  return \"false\"\n         ^~~~~~~\n\n"
          ]
        }
      ]
    },
    {
      "cell_type": "code",
      "metadata": {
        "id": "AwT_v7dsTA_S",
        "colab_type": "code",
        "outputId": "2fe4db40-881f-4bd5-fbf2-7e02a7e853a2",
        "colab": {
          "base_uri": "https://localhost:8080/",
          "height": 153
        }
      },
      "source": [
        "// hence we use optionals\n",
        "func printFalse2() -> Bool?{\n",
        "  return nil // Only nil allowed\n",
        "} \n",
        "\n",
        "printFalse2()"
      ],
      "execution_count": 87,
      "outputs": [
        {
          "output_type": "execute_result",
          "data": {
            "text/plain": [
              "expression produced error: error: /tmp/expr501-37f5a8..swift:1:51: error: cannot specialize a non-generic definition\n",
              "Swift._DebuggerSupport.stringForPrintObject(Swift.UnsafePointer<Swift.Optional<Swift.Bool>>(bitPattern: 0x7f0be829c5f0)!.pointee)\n",
              "                                                  ^\n",
              "\n",
              "/tmp/expr501-37f5a8..swift:1:64: note: while parsing this '<' as a type parameter bracket\n",
              "Swift._DebuggerSupport.stringForPrintObject(Swift.UnsafePointer<Swift.Optional<Swift.Bool>>(bitPattern: 0x7f0be829c5f0)!.pointee)\n",
              "                                                               ^\n",
              "\n"
            ]
          },
          "metadata": {
            "tags": []
          },
          "execution_count": 87
        }
      ]
    },
    {
      "cell_type": "code",
      "metadata": {
        "id": "q69o3gxsgTyB",
        "colab_type": "code",
        "colab": {}
      },
      "source": [
        "// initalize vars with optionals \n",
        "// to work with optional returns\n",
        "var status : Bool?\n",
        "status = printFalse2()"
      ],
      "execution_count": 0,
      "outputs": []
    },
    {
      "cell_type": "markdown",
      "metadata": {
        "id": "-OjzGmPwiqcl",
        "colab_type": "text"
      },
      "source": [
        "# 12. Optional Chaining"
      ]
    },
    {
      "cell_type": "code",
      "metadata": {
        "id": "ifvYfPzPigUJ",
        "colab_type": "code",
        "colab": {}
      },
      "source": [
        "// Note : ?\n",
        "// album = albumReleased(year: 2006)?.someOptionalValue?.someOtherOptionalValue?.whatever\n",
        "// Swift will check them from left to right until it finds nil, at which point it stops."
      ],
      "execution_count": 0,
      "outputs": []
    },
    {
      "cell_type": "code",
      "metadata": {
        "id": "AtJzVOE6ocaX",
        "colab_type": "code",
        "outputId": "caeb411b-2f51-4289-cd90-c4e2dd4f6bcf",
        "colab": {
          "base_uri": "https://localhost:8080/",
          "height": 34
        }
      },
      "source": [
        "// The nil coalescing operator\n",
        "func returnNil() -> String?{\n",
        "  return nil\n",
        "}\n",
        "\n",
        "// ?? mean, if 'nil' variable = \"unknown\"\n",
        "let variable = returnNil() ?? \"unknown\"\n",
        "print(variable)"
      ],
      "execution_count": 90,
      "outputs": [
        {
          "output_type": "stream",
          "text": [
            "unknown\r\n"
          ],
          "name": "stdout"
        }
      ]
    },
    {
      "cell_type": "markdown",
      "metadata": {
        "id": "eCRLh1f0pIns",
        "colab_type": "text"
      },
      "source": [
        "# 13. Enumerations\n",
        "\n",
        "A way for you to define your own kind of value(data type) in Swift. Swift adds a huge amount of power to them if you want to go beyond the basics.\n",
        "\n",
        "- Best used with switch case"
      ]
    },
    {
      "cell_type": "code",
      "metadata": {
        "id": "GbiT8BUNo63v",
        "colab_type": "code",
        "outputId": "c4525722-004c-41ba-a915-f33a0383cfc9",
        "colab": {
          "base_uri": "https://localhost:8080/",
          "height": 51
        }
      },
      "source": [
        "enum YesNo {\n",
        "  case yes, no\n",
        "}\n",
        "// Note: Instead of 'yes' or 'no' as variables\n",
        "// now you can use them as 'YesNo.yes' or 'YesNo.no'\n",
        "// as variables. 'YesNo' is simply a data type\n",
        "\n",
        "func TellYes(status: YesNo){\n",
        "  if status==YesNo.yes{\n",
        "    print(\"Yeah!\")\n",
        "  }else{\n",
        "    print(\"Nah\")\n",
        "  }\n",
        "}\n",
        "\n",
        "TellYes(status: YesNo.yes)\n",
        "TellYes(status: YesNo.no)"
      ],
      "execution_count": 91,
      "outputs": [
        {
          "output_type": "stream",
          "text": [
            "Yeah!\r\n",
            "Nah\r\n"
          ],
          "name": "stdout"
        }
      ]
    },
    {
      "cell_type": "code",
      "metadata": {
        "id": "vXFltwOiq3R5",
        "colab_type": "code",
        "outputId": "f348eb41-6ef6-496b-fc28-0093a9a26935",
        "colab": {
          "base_uri": "https://localhost:8080/",
          "height": 51
        }
      },
      "source": [
        "// another convinient way of definig\n",
        "enum YesNo {\n",
        "  case yes\n",
        "  case no // note difference\n",
        "}\n",
        "\n",
        "// note: .yes\n",
        "func TellYes(status: YesNo){\n",
        "  if status == .yes{\n",
        "    print(\"Yeah!\")\n",
        "  }else{\n",
        "    print(\"Nah\")\n",
        "  }\n",
        "}\n",
        "\n",
        "TellYes(status: YesNo.yes)\n",
        "TellYes(status: YesNo.no)"
      ],
      "execution_count": 92,
      "outputs": [
        {
          "output_type": "stream",
          "text": [
            "Yeah!\r\n",
            "Nah\r\n"
          ],
          "name": "stdout"
        }
      ]
    },
    {
      "cell_type": "code",
      "metadata": {
        "id": "UfcZWzm0rhmq",
        "colab_type": "code",
        "outputId": "08c24f76-8859-4e6a-9d40-946c4c14fb0f",
        "colab": {
          "base_uri": "https://localhost:8080/",
          "height": 51
        }
      },
      "source": [
        "// Enum with addditional values\n",
        "enum car{\n",
        "  case speed(curSpeed: Float)\n",
        "}\n",
        "\n",
        "switch car.speed(curSpeed: 100){\n",
        "  case .speed(let x) where x > 60 :\n",
        "    print(\"Over-speeding\")\n",
        "  default:\n",
        "    print(\"nil\")\n",
        "}\n",
        "\n",
        "// behaves differently\n",
        "\n",
        "switch car.speed(curSpeed: 20){\n",
        "  case .speed(let x) where x > 60 :\n",
        "    print(\"Over-speeding\")\n",
        "  case .speed:\n",
        "    print(\"Car is moving but not over-speeding\")\n",
        "  default:\n",
        "    print(\"nil\")\n",
        "}"
      ],
      "execution_count": 93,
      "outputs": [
        {
          "output_type": "stream",
          "text": [
            "Over-speeding\r\n",
            "Car is moving but not over-speeding\r\n"
          ],
          "name": "stdout"
        }
      ]
    },
    {
      "cell_type": "markdown",
      "metadata": {
        "id": "h4oGizbcvBAO",
        "colab_type": "text"
      },
      "source": [
        "# 14. Structs\n",
        "\n",
        "-  Made up of multiple values and funcs. Unlike c structs, more like python class"
      ]
    },
    {
      "cell_type": "code",
      "metadata": {
        "id": "A8zD2q7Uuujg",
        "colab_type": "code",
        "outputId": "c5eafec1-0d16-4eea-8b90-0a9d09272292",
        "colab": {
          "base_uri": "https://localhost:8080/",
          "height": 85
        }
      },
      "source": [
        "struct Lang{\n",
        "  var Name: String\n",
        "  var Year: Int\n",
        "  var Level: String = \"High-level\"\n",
        "  func printName(){\n",
        "    print(Name)\n",
        "  }\n",
        "}\n",
        "\n",
        "var Swift = Lang(Name: \"Swift ios\", Year: 2014)\n",
        "print(Swift)\n",
        "print(Swift.Name) // call individual value\n",
        "print(Swift.Level) // default value\n",
        "Swift.printName() // function call"
      ],
      "execution_count": 97,
      "outputs": [
        {
          "output_type": "stream",
          "text": [
            "Lang(Name: \"Swift ios\", Year: 2014, Level: \"High-level\")\r\n",
            "Swift ios\r\n",
            "High-level\r\n",
            "Swift ios\r\n"
          ],
          "name": "stdout"
        }
      ]
    },
    {
      "cell_type": "markdown",
      "metadata": {
        "id": "fmWkEa3lxBLz",
        "colab_type": "text"
      },
      "source": [
        "# 15. Classes"
      ]
    },
    {
      "cell_type": "code",
      "metadata": {
        "id": "2yXQOSE8vqgU",
        "colab_type": "code",
        "outputId": "b3dad79e-9151-42c9-f97f-ffe15a490d33",
        "colab": {
          "base_uri": "https://localhost:8080/",
          "height": 34
        }
      },
      "source": [
        "// Cannot leave a variable uninitialized\n",
        "// initialize without constructor init\n",
        "class Language{\n",
        "  var Name : String = \"s\"\n",
        "  var Year : Int = 10\n",
        "}\n",
        "\n",
        "var python = Language()\n",
        "print(python.Name)"
      ],
      "execution_count": 98,
      "outputs": [
        {
          "output_type": "stream",
          "text": [
            "s\r\n"
          ],
          "name": "stdout"
        }
      ]
    },
    {
      "cell_type": "code",
      "metadata": {
        "id": "YChic6CTxk3L",
        "colab_type": "code",
        "outputId": "8bae73b7-a5ac-4f10-ee5b-ad973543ccac",
        "colab": {
          "base_uri": "https://localhost:8080/",
          "height": 34
        }
      },
      "source": [
        "// with constructor\n",
        "class Car{\n",
        "  var color: String\n",
        "\n",
        "  // constructor\n",
        "  init(color: String){\n",
        "    self.color = color\n",
        "  }\n",
        "}\n",
        "\n",
        "var car = Car(color: \"blue\")\n",
        "print( car.color )"
      ],
      "execution_count": 99,
      "outputs": [
        {
          "output_type": "stream",
          "text": [
            "blue\r\n"
          ],
          "name": "stdout"
        }
      ]
    },
    {
      "cell_type": "code",
      "metadata": {
        "id": "htcV5oUC3D5X",
        "colab_type": "code",
        "outputId": "1dbd3c46-57bd-451c-db80-b15967ab6dfd",
        "colab": {
          "base_uri": "https://localhost:8080/",
          "height": 51
        }
      },
      "source": [
        "// with default constructor and a method\n",
        "class Car2{\n",
        "  var color: String\n",
        "\n",
        "  // constructor\n",
        "  init(color: String = \"balck\"){\n",
        "    self.color = color\n",
        "  }\n",
        "\n",
        "  // method\n",
        "  func horn() {\n",
        "        print(\"beep!\")\n",
        "    }\n",
        "}\n",
        "\n",
        "var car = Car2()\n",
        "print( car.color )\n",
        "car.horn()"
      ],
      "execution_count": 100,
      "outputs": [
        {
          "output_type": "stream",
          "text": [
            "balck\r\n",
            "beep!\r\n"
          ],
          "name": "stdout"
        }
      ]
    },
    {
      "cell_type": "code",
      "metadata": {
        "id": "8a2mzyDc3bb3",
        "colab_type": "code",
        "outputId": "a610422c-f482-42b1-a76c-003181070247",
        "colab": {
          "base_uri": "https://localhost:8080/",
          "height": 51
        }
      },
      "source": [
        "// Inheritance and override\n",
        "class Car3{\n",
        "  var color: String\n",
        "\n",
        "  // constructor\n",
        "  init(color: String = \"balck\"){\n",
        "    self.color = color\n",
        "  }\n",
        "\n",
        "  // method\n",
        "  func horn() {\n",
        "        print(\"beep!\")\n",
        "    }\n",
        "}\n",
        "\n",
        "class Truck: Car3{\n",
        "  override func horn(){\n",
        "    print(\"grrr\")\n",
        "  }\n",
        "}\n",
        "\n",
        "var truck = Truck()\n",
        "print(truck.color) //  inheritance\n",
        "truck.horn() // override"
      ],
      "execution_count": 101,
      "outputs": [
        {
          "output_type": "stream",
          "text": [
            "balck\r\n",
            "grrr\r\n"
          ],
          "name": "stdout"
        }
      ]
    },
    {
      "cell_type": "markdown",
      "metadata": {
        "id": "ARyLpcBm6Tue",
        "colab_type": "text"
      },
      "source": [
        "# 16. Properties\n",
        "\n",
        "Structs and classes (collectively: \"types\") can have their own variables and constants, and these are called properties.\n",
        "\n",
        "Because types can also have methods you can have them behave according to their own data."
      ]
    },
    {
      "cell_type": "code",
      "metadata": {
        "id": "DDEG7WA85PSo",
        "colab_type": "code",
        "outputId": "bc939165-a9a2-439a-9b73-4a1a942ed99f",
        "colab": {
          "base_uri": "https://localhost:8080/",
          "height": 68
        }
      },
      "source": [
        "// Property Observers - willSet and didSet\n",
        "// ---------------------------------------\n",
        "// In 'willSet' Swift provides your code with a special value called 'newValue' that \n",
        "// contains what the new property value is going to be, and in 'didSet' you are \n",
        "// given 'oldValue' to represent the previous value.\n",
        "\n",
        "// Note: willSet-newValue and didSet-oldValue pair \n",
        "// Note: extended data-types\n",
        "\n",
        "struct month{\n",
        "\n",
        "  // this func will be later used inside extended data-type\n",
        "  func GOT(climate: String){\n",
        "    if climate == \"winter\"{\n",
        "      print(\"winter is coming\")\n",
        "    }\n",
        "  }\n",
        "\n",
        "  // extended data type\n",
        "  var climate : String {\n",
        "    willSet{\n",
        "      print(\"new value: \\(newValue)\")\n",
        "      // func inside data-type\n",
        "      GOT(climate: newValue)\n",
        "    }\n",
        "    didSet{\n",
        "      print(\"old value: \\(oldValue)\")\n",
        "    }\n",
        "  }\n",
        "\n",
        "}\n",
        "\n",
        "var april = month(climate: \"summer\")\n",
        "april.climate = \"winter\""
      ],
      "execution_count": 102,
      "outputs": [
        {
          "output_type": "stream",
          "text": [
            "new value: winter\r\n",
            "winter is coming\r\n",
            "old value: summer\r\n"
          ],
          "name": "stdout"
        }
      ]
    },
    {
      "cell_type": "code",
      "metadata": {
        "id": "KAuPzggD_ZTV",
        "colab_type": "code",
        "outputId": "2fa173fb-c815-4d8b-90fa-25432dbfb7c8",
        "colab": {
          "base_uri": "https://localhost:8080/",
          "height": 34
        }
      },
      "source": [
        "// Computed Properties\n",
        "// Make properties that are actually code behind the scenes.\n",
        "// Place an open brace after your property then use either\n",
        "// 'get' or 'set' to make an action happen\n",
        "\n",
        "struct Man{\n",
        "  var ageInYears: Int\n",
        "  var ageInDays: Int{\n",
        "    get{\n",
        "      ageInYears * 365\n",
        "    }\n",
        "  }\n",
        "}\n",
        "\n",
        "var you = Man(ageInYears: 19)\n",
        "print( you.ageInDays )"
      ],
      "execution_count": 103,
      "outputs": [
        {
          "output_type": "stream",
          "text": [
            "6935\r\n"
          ],
          "name": "stdout"
        }
      ]
    },
    {
      "cell_type": "code",
      "metadata": {
        "id": "xTMBkdvHD0-2",
        "colab_type": "code",
        "outputId": "918e43ac-91c0-40bf-86ee-d5a4fdf09106",
        "colab": {
          "base_uri": "https://localhost:8080/",
          "height": 34
        }
      },
      "source": [
        "// or can remove `get` for read operations\n",
        "struct Man{\n",
        "  var ageInYears: Int\n",
        "  var ageInDays: Int{\n",
        "      ageInYears * 365\n",
        "  }\n",
        "}\n",
        "\n",
        "var you = Man(ageInYears: 19)\n",
        "print( you.ageInDays )"
      ],
      "execution_count": 104,
      "outputs": [
        {
          "output_type": "stream",
          "text": [
            "6935\r\n"
          ],
          "name": "stdout"
        }
      ]
    },
    {
      "cell_type": "markdown",
      "metadata": {
        "id": "A5UupZqjM75s",
        "colab_type": "text"
      },
      "source": [
        "# 17. Static properties and methods\n",
        "\n",
        "properties and methods that belong to a *type*, rather than to *instances* of a type. This is helpful for organizing your data meaningfully by storing shared data.\n",
        "\n",
        "simply use `static` keyword infront of property or func"
      ]
    },
    {
      "cell_type": "code",
      "metadata": {
        "id": "09J2lhOaEE52",
        "colab_type": "code",
        "colab": {
          "base_uri": "https://localhost:8080/",
          "height": 34
        },
        "outputId": "85c9f211-4f87-4b32-827a-653f03211c40"
      },
      "source": [
        "struct Dog{\n",
        "  static var numberOfLegs = \"four\"\n",
        "  var name: String\n",
        "}\n",
        "\n",
        "let doggy = Dog(name: \"Summer\")\n",
        "print( Dog.numberOfLegs ) // Note: Dog(i.e type) used, not doggy(i.e instance)\n",
        "\n",
        "// print( doggy.numberOfLegs ) // gives error "
      ],
      "execution_count": 116,
      "outputs": [
        {
          "output_type": "stream",
          "text": [
            "four\r\n"
          ],
          "name": "stdout"
        }
      ]
    },
    {
      "cell_type": "markdown",
      "metadata": {
        "id": "TncZw5hrPDfn",
        "colab_type": "text"
      },
      "source": [
        "# 18. Access Control\n",
        "\n",
        " What data inside **structs and classes** should be exposed to the outside world\n",
        "\n",
        "- **`public`:** this means everyone can read and write the property.\n",
        "\n",
        "- **`internal`:** this means only your Swift code can read and write the property. *If you ship your code as a framework for others to use, they won’t be able to read the property.*\n",
        "\n",
        "- **`fileprivate`:** this means that only Swift code in the *same file as the type* can read and write the property.\n",
        "\n",
        "- **`private`:** this is the most restrictive option, and means the property is available only inside methods that belong to the type, or its extensions.\n",
        "\n",
        "sometimes you'll want to explicitly set a property to be `private` because it stops others from accessing it directly. This is useful because your own methods can work with that property, but others can't, thus forcing them to go through your code to perform certain actions."
      ]
    },
    {
      "cell_type": "code",
      "metadata": {
        "id": "Zdjs4FTnO6k_",
        "colab_type": "code",
        "colab": {}
      },
      "source": [
        "class Test{\n",
        "  internal var  test: String?\n",
        "}"
      ],
      "execution_count": 0,
      "outputs": []
    },
    {
      "cell_type": "markdown",
      "metadata": {
        "id": "yJT2M6SuRtBZ",
        "colab_type": "text"
      },
      "source": [
        "# 19. Polymorphism and Typecasting"
      ]
    },
    {
      "cell_type": "code",
      "metadata": {
        "id": "Pnbz3eRbRi9j",
        "colab_type": "code",
        "colab": {}
      },
      "source": [
        "class Album {\n",
        "    var name: String\n",
        "\n",
        "    init(name: String) {\n",
        "        self.name = name\n",
        "    }\n",
        "}\n",
        "\n",
        "class StudioAlbum: Album {\n",
        "    var studio: String\n",
        "\n",
        "    init(name: String, studio: String) {\n",
        "        self.studio = studio\n",
        "        super.init(name: name)\n",
        "    }\n",
        "}\n",
        "\n",
        "class LiveAlbum: Album {\n",
        "    var location: String\n",
        "\n",
        "    init(name: String, location: String) {\n",
        "        self.location = location\n",
        "        super.init(name: name)\n",
        "    }\n",
        "}"
      ],
      "execution_count": 0,
      "outputs": []
    },
    {
      "cell_type": "code",
      "metadata": {
        "id": "Jg-CbbBuSo3O",
        "colab_type": "code",
        "colab": {}
      },
      "source": [
        "// Demonstrate polymorphism\n",
        "var taylorSwift = StudioAlbum(name: \"Taylor Swift\", studio: \"The Castles Studios\")\n",
        "var fearless = StudioAlbum(name: \"Speak Now\", studio: \"Aimeeland Studio\")\n",
        "var iTunesLive = LiveAlbum(name: \"iTunes Live from SoHo\", location: \"New York\")\n",
        "\n",
        "// Array of type 'Album' - Perfectly fine in Swift\n",
        "var allAlbums: [Album] = [taylorSwift, fearless, iTunesLive]"
      ],
      "execution_count": 0,
      "outputs": []
    },
    {
      "cell_type": "code",
      "metadata": {
        "id": "x63yTjTvSsEf",
        "colab_type": "code",
        "colab": {}
      },
      "source": [
        "// Typecasting - Converting Types\n",
        "// ------------------------------\n"
      ],
      "execution_count": 0,
      "outputs": []
    }
  ]
}