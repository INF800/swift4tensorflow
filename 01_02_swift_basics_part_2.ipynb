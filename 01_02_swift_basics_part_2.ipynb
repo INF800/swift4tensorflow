{
  "nbformat": 4,
  "nbformat_minor": 0,
  "metadata": {
    "colab": {
      "name": "01-02-swift-basics-part-2.ipynb",
      "provenance": [],
      "collapsed_sections": [],
      "include_colab_link": true
    },
    "kernelspec": {
      "name": "swift",
      "display_name": "Swift"
    }
  },
  "cells": [
    {
      "cell_type": "markdown",
      "metadata": {
        "id": "view-in-github",
        "colab_type": "text"
      },
      "source": [
        "<a href=\"https://colab.research.google.com/github/rakesh4real/swift4tensorflow/blob/master/01_02_swift_basics_part_2.ipynb\" target=\"_parent\"><img src=\"https://colab.research.google.com/assets/colab-badge.svg\" alt=\"Open In Colab\"/></a>"
      ]
    },
    {
      "cell_type": "markdown",
      "metadata": {
        "id": "wGFflvHjHs0m",
        "colab_type": "text"
      },
      "source": [
        "# 11. Functions"
      ]
    },
    {
      "cell_type": "code",
      "metadata": {
        "id": "kZRlD4utdPuX",
        "colab_type": "code",
        "colab": {
          "base_uri": "https://localhost:8080/",
          "height": 34
        },
        "outputId": "05884c3c-00c2-4361-aec3-209d7c18f63d"
      },
      "source": [
        "// simple\n",
        "func printHello(){\n",
        "  print(\"hello\")\n",
        "}\n",
        "\n",
        "printHello()"
      ],
      "execution_count": 1,
      "outputs": [
        {
          "output_type": "stream",
          "text": [
            "hello\r\n"
          ],
          "name": "stdout"
        }
      ]
    },
    {
      "cell_type": "code",
      "metadata": {
        "id": "YmXOFw0GIDCH",
        "colab_type": "code",
        "colab": {
          "base_uri": "https://localhost:8080/",
          "height": 34
        },
        "outputId": "6a93661a-60a8-4a6d-b1b7-bd92b520d4d4"
      },
      "source": [
        "// parameter\n",
        "func printMe(param : String){\n",
        "  print(\"\\(param) printed!\")\n",
        "}\n",
        "\n",
        "printMe(name: \"This\")"
      ],
      "execution_count": 4,
      "outputs": [
        {
          "output_type": "stream",
          "text": [
            "This printed!\r\n"
          ],
          "name": "stdout"
        }
      ]
    },
    {
      "cell_type": "code",
      "metadata": {
        "id": "c9T06FN1IaJF",
        "colab_type": "code",
        "colab": {
          "base_uri": "https://localhost:8080/",
          "height": 34
        },
        "outputId": "8ba256f4-599b-4ff6-873e-1a2cf0a1f57f"
      },
      "source": [
        "// multiple params\n",
        "func printMe2(param1 : String, param2: Int){\n",
        "  print(\"\\(param1) and \\(param2) printed!\")\n",
        "}\n",
        "\n",
        "printMe2(param1: \"This\", param2: 2)"
      ],
      "execution_count": 6,
      "outputs": [
        {
          "output_type": "stream",
          "text": [
            "This and 2 printed!\r\n"
          ],
          "name": "stdout"
        }
      ]
    },
    {
      "cell_type": "code",
      "metadata": {
        "id": "sr7pUj99I_5K",
        "colab_type": "code",
        "colab": {
          "base_uri": "https://localhost:8080/",
          "height": 34
        },
        "outputId": "6d0733ee-b8c8-48e8-bea0-9cec057599cd"
      },
      "source": [
        "// Internal and External Parameter Names\n",
        "//--------------------------------------\n",
        "// for elegant code.\n",
        "// While that certainly works, it’s a bit wordy. \n",
        "// Plus it’s not the kind of thing you would say \n",
        "// aloud: “count letters in string string hello”.\n",
        "// Swift’s solution is to let you specify one \n",
        "// name for the parameter when it’s being called, \n",
        "// and another inside the method. \n",
        "// To use this, just write the parameter \n",
        "// name twice – once for external, one for internal.\n",
        "\n",
        "func wordcount(ExternalParamUsedForFuncCall InternalParamForFuncBody : String){\n",
        "  print(\"Number of words in \\(InternalParamForFuncBody) is \\(InternalParamForFuncBody.count)\")\n",
        "}\n",
        "\n",
        "wordcount(ExternalParamUsedForFuncCall: \"Test\")"
      ],
      "execution_count": 9,
      "outputs": [
        {
          "output_type": "stream",
          "text": [
            "Number of words in Test is 4\r\n"
          ],
          "name": "stdout"
        }
      ]
    },
    {
      "cell_type": "code",
      "metadata": {
        "id": "IB5ALIMBLntx",
        "colab_type": "code",
        "colab": {
          "base_uri": "https://localhost:8080/",
          "height": 34
        },
        "outputId": "59c1f6a0-4b33-4858-bcd6-dd6cc5997eb5"
      },
      "source": [
        "// '_' for external name mean we don't\n",
        "// need external param at all\n",
        "func wordcount(_ str : String){\n",
        "  print(\"Number of words in \\(str) is \\(str.count)\")\n",
        "}\n",
        "\n",
        "// no external param\n",
        "wordcount(\"Test\")\n",
        "\n",
        "// You’ll commonly see is external parameter \n",
        "// names like “in”, “for”, and “with”, and\n",
        "// more meaningful internal names."
      ],
      "execution_count": 10,
      "outputs": [
        {
          "output_type": "stream",
          "text": [
            "Number of words in Test is 4\r\n"
          ],
          "name": "stdout"
        }
      ]
    },
    {
      "cell_type": "code",
      "metadata": {
        "id": "K7yJHPD2MfJA",
        "colab_type": "code",
        "colab": {
          "base_uri": "https://localhost:8080/",
          "height": 34
        },
        "outputId": "94c4ad48-eeb4-4cb1-f969-9ec1da378eb3"
      },
      "source": [
        "// Return Values\n",
        "func printFalse() -> Bool{\n",
        "  return false\n",
        "}\n",
        "\n",
        "printFalse()"
      ],
      "execution_count": 11,
      "outputs": [
        {
          "output_type": "execute_result",
          "data": {
            "text/plain": [
              "false\n"
            ]
          },
          "metadata": {
            "tags": []
          },
          "execution_count": 11
        }
      ]
    },
    {
      "cell_type": "markdown",
      "metadata": {
        "id": "ZMvA1jhISn19",
        "colab_type": "text"
      },
      "source": [
        "# 11. Optionals\n",
        "\n",
        "safe language, by which I mean it works hard to ensure your code never fails in surprising ways"
      ]
    },
    {
      "cell_type": "code",
      "metadata": {
        "id": "yIGMf8c5SPzJ",
        "colab_type": "code",
        "colab": {
          "base_uri": "https://localhost:8080/",
          "height": 34
        },
        "outputId": "bd650cba-1f73-4d04-f901-6d1af1491481"
      },
      "source": [
        "func printFalse() -> Bool{\n",
        "  return false\n",
        "} \n",
        "\n",
        "printFalse()"
      ],
      "execution_count": 12,
      "outputs": [
        {
          "output_type": "execute_result",
          "data": {
            "text/plain": [
              "false\n"
            ]
          },
          "metadata": {
            "tags": []
          },
          "execution_count": 12
        }
      ]
    },
    {
      "cell_type": "code",
      "metadata": {
        "id": "kljTcw-DS6wr",
        "colab_type": "code",
        "colab": {
          "base_uri": "https://localhost:8080/",
          "height": 129
        },
        "outputId": "9bd65693-fc60-4426-8d3a-9d6bc052b6fa"
      },
      "source": [
        "// what if\n",
        "func printFalse() -> Bool{\n",
        "  return \"false\"\n",
        "} \n",
        "\n",
        "printFalse() // Type mismatch"
      ],
      "execution_count": 14,
      "outputs": [
        {
          "output_type": "error",
          "ename": "",
          "evalue": "ignored",
          "traceback": [
            "error: <Cell 14>:3:10: error: cannot convert return expression of type 'String' to return type 'Bool'\n  return \"false\"\n         ^~~~~~~\n\n"
          ]
        }
      ]
    },
    {
      "cell_type": "code",
      "metadata": {
        "id": "AwT_v7dsTA_S",
        "colab_type": "code",
        "colab": {
          "base_uri": "https://localhost:8080/",
          "height": 34
        },
        "outputId": "3f109558-54d7-47ce-9e01-7cfe9f2853b4"
      },
      "source": [
        "// hence we use optionals\n",
        "func printFalse2() -> Bool?{\n",
        "  return nil // Only nil allowed\n",
        "} \n",
        "\n",
        "printFalse2()"
      ],
      "execution_count": 21,
      "outputs": [
        {
          "output_type": "execute_result",
          "data": {
            "text/plain": [
              "nil\n"
            ]
          },
          "metadata": {
            "tags": []
          },
          "execution_count": 21
        }
      ]
    },
    {
      "cell_type": "code",
      "metadata": {
        "id": "q69o3gxsgTyB",
        "colab_type": "code",
        "colab": {}
      },
      "source": [
        "// initalize vars with optionals \n",
        "// to work with optional returns\n",
        "var status : Bool?\n",
        "status = printFalse2()"
      ],
      "execution_count": 0,
      "outputs": []
    },
    {
      "cell_type": "markdown",
      "metadata": {
        "id": "-OjzGmPwiqcl",
        "colab_type": "text"
      },
      "source": [
        ""
      ]
    },
    {
      "cell_type": "code",
      "metadata": {
        "id": "ifvYfPzPigUJ",
        "colab_type": "code",
        "colab": {}
      },
      "source": [
        ""
      ],
      "execution_count": 0,
      "outputs": []
    }
  ]
}