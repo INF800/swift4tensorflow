{
  "nbformat": 4,
  "nbformat_minor": 0,
  "metadata": {
    "colab": {
      "name": "05-01-Linear-regression.ipynb",
      "provenance": [],
      "collapsed_sections": [],
      "include_colab_link": true
    },
    "kernelspec": {
      "name": "swift",
      "display_name": "Swift"
    }
  },
  "cells": [
    {
      "cell_type": "markdown",
      "metadata": {
        "id": "view-in-github",
        "colab_type": "text"
      },
      "source": [
        "<a href=\"https://colab.research.google.com/github/rakesh4real/swift4tensorflow/blob/master/05_01_Linear_regression.ipynb\" target=\"_parent\"><img src=\"https://colab.research.google.com/assets/colab-badge.svg\" alt=\"Open In Colab\"/></a>"
      ]
    },
    {
      "cell_type": "markdown",
      "metadata": {
        "id": "FBEUMZccBFe_",
        "colab_type": "text"
      },
      "source": [
        "# Load libraries"
      ]
    },
    {
      "cell_type": "code",
      "metadata": {
        "id": "kZRlD4utdPuX",
        "colab_type": "code",
        "colab": {}
      },
      "source": [
        "import Python // Visualisations\n",
        "import TensorFlow"
      ],
      "execution_count": 0,
      "outputs": []
    },
    {
      "cell_type": "code",
      "metadata": {
        "id": "y2lwLMkhAEiy",
        "colab_type": "code",
        "outputId": "8229eb13-4fa5-49b2-fcc1-af3f32a1163b",
        "colab": {
          "base_uri": "https://localhost:8080/",
          "height": 34
        }
      },
      "source": [
        "let plt = Python.import(\"matplotlib.pyplot\")\n",
        "%include \"EnableIPythonDisplay.swift\"\n",
        "IPythonDisplay.shell.enable_matplotlib(\"inline\")"
      ],
      "execution_count": 91,
      "outputs": [
        {
          "output_type": "execute_result",
          "data": {
            "text/plain": [
              "('inline', 'module://ipykernel.pylab.backend_inline')\n"
            ]
          },
          "metadata": {
            "tags": []
          },
          "execution_count": 91
        }
      ]
    },
    {
      "cell_type": "markdown",
      "metadata": {
        "id": "NSJ5Hu_VBLCI",
        "colab_type": "text"
      },
      "source": [
        "# Prepare Dataset"
      ]
    },
    {
      "cell_type": "code",
      "metadata": {
        "id": "8ODkgYQ1A4Fk",
        "colab_type": "code",
        "colab": {}
      },
      "source": [
        "// create"
      ],
      "execution_count": 0,
      "outputs": []
    },
    {
      "cell_type": "code",
      "metadata": {
        "id": "UlUhBx1kBRZu",
        "colab_type": "code",
        "colab": {}
      },
      "source": [
        "let num_of_data_points: Int = 100\n",
        "var X = Tensor<Float>(rangeFrom: 0, to: 100, stride: 1)\n",
        "\n",
        "let slope: Float = 2.0 \n",
        "let intercept: Float = 3.0\n",
        "let error = ( Tensor<Float>(randomNormal: [100]) ) * 0.8\n",
        "\n",
        "let y: Tensor<Float> = slope * X + intercept + error"
      ],
      "execution_count": 0,
      "outputs": []
    },
    {
      "cell_type": "code",
      "metadata": {
        "id": "5XZr0dEjFz4l",
        "colab_type": "code",
        "outputId": "f5d9ad5e-ffe6-45c9-c9b6-45508d38803c",
        "colab": {
          "base_uri": "https://localhost:8080/",
          "height": 282
        }
      },
      "source": [
        "plt.close();\n",
        "plt.plot(X.makeNumpyArray(), y.makeNumpyArray(), marker: \"o\")\n",
        "plt.show();"
      ],
      "execution_count": 94,
      "outputs": [
        {
          "output_type": "display_data",
          "data": {
            "image/png": "[encoded data removed]",
            "text/plain": [
              "<Figure size 432x288 with 1 Axes>"
            ]
          },
          "metadata": {
            "tags": []
          }
        },
        {
          "output_type": "execute_result",
          "data": {
            "text/plain": [
              "None\n"
            ]
          },
          "metadata": {
            "tags": []
          },
          "execution_count": 94
        }
      ]
    },
    {
      "cell_type": "markdown",
      "metadata": {
        "id": "aMUCFZSTNTXP",
        "colab_type": "text"
      },
      "source": [
        "# Split"
      ]
    },
    {
      "cell_type": "code",
      "metadata": {
        "id": "5Kiizz4zUjBz",
        "colab_type": "code",
        "colab": {}
      },
      "source": [
        "// Shuffle\n",
        "var shuffled_indices = Array<Int>(0..<X.scalarCount).shuffled()\n",
        "var shuffled_X = Tensor<Float>(zeros: [X.scalarCount]) // will be replaced\n",
        "var shuffled_y = Tensor<Float>(zeros: [X.scalarCount]) // will be replaced\n",
        "\n",
        "for i in 0..<X.scalarCount{\n",
        "  shuffled_X[i] = X[shuffled_indices[i]]\n",
        "  shuffled_y[i] = X[shuffled_indices[i]]\n",
        "}\n",
        "\n",
        "// print(shuffled_X.description)"
      ],
      "execution_count": 0,
      "outputs": []
    },
    {
      "cell_type": "code",
      "metadata": {
        "id": "Y7LE2Oy5Hk-9",
        "colab_type": "code",
        "colab": {}
      },
      "source": [
        "var split_percent: Float = 0.8\n",
        "var train_count: Int = Int( Float(shuffled_X.scalarCount) * split_percent )"
      ],
      "execution_count": 0,
      "outputs": []
    },
    {
      "cell_type": "code",
      "metadata": {
        "id": "7SaAClxYP4Sa",
        "colab_type": "code",
        "colab": {}
      },
      "source": [
        "// generate test - train\n",
        "let train_x = shuffled_X.slice(lowerBounds: [0], upperBounds: [train_count])\n",
        "let test_x = shuffled_X.slice(lowerBounds: [train_count], upperBounds: [shuffled_X.scalarCount])\n",
        "let train_y = shuffled_y.slice(lowerBounds: [0], upperBounds: [train_count])\n",
        "let test_y = shuffled_y.slice(lowerBounds: [train_count], upperBounds: [shuffled_X.scalarCount])\n",
        "\n",
        "/*\n",
        "print(train_x.scalarCount)\n",
        "print(train_y.scalarCount)\n",
        "print(test_x.scalarCount)\n",
        "print(test_y.scalarCount)\n",
        "*/\n",
        "\n",
        "// add bias to x_train for mx+'c'\n",
        "// reshape both(ones & train_x) before concatenation\n",
        "var ones_train = Tensor<Float>(ones: [train_count, 1])\n",
        "var x_train_with_bias = train_x.reshaped(to: [train_count,1]).concatenated(with: ones_train, alongAxis: 1)\n",
        "\n",
        "var ones_test = Tensor<Float>(ones: [(num_of_data_points - train_count), 1])\n",
        "var x_test_with_bias = test_x.reshaped(to: [num_of_data_points - train_count, 1]).concatenated(with: ones_test, alongAxis: 1)"
      ],
      "execution_count": 0,
      "outputs": []
    },
    {
      "cell_type": "markdown",
      "metadata": {
        "id": "bp-s8C9KY061",
        "colab_type": "text"
      },
      "source": [
        "# Loss Function"
      ]
    },
    {
      "cell_type": "code",
      "metadata": {
        "id": "GRpnEKshXn0Q",
        "colab_type": "code",
        "colab": {}
      },
      "source": [
        "@differentiable\n",
        "func cost(predicted: Tensor<Float>, true_measure: Tensor<Float>) -> Tensor<Float>{\n",
        "  let m: Float = Float( predicted.scalarCount )\n",
        "  return (1 / (2 * m) ) * pow(predicted - true_measure, 2).sum()\n",
        "}"
      ],
      "execution_count": 0,
      "outputs": []
    },
    {
      "cell_type": "code",
      "metadata": {
        "id": "K_zOvnKCbZlL",
        "colab_type": "code",
        "colab": {}
      },
      "source": [
        "var theta = Tensor<Float>(randomNormal: [2, 1])"
      ],
      "execution_count": 0,
      "outputs": []
    },
    {
      "cell_type": "code",
      "metadata": {
        "id": "fzUmo9ju9-aK",
        "colab_type": "code",
        "colab": {}
      },
      "source": [
        "\n",
        "for _ in 1...1000{\n",
        "  var pred2 = x_train_with_bias • theta\n",
        "  var grad = gradient(at: pred2, train_y, in: cost)\n",
        "  theta[0] = theta[0] - grad.0[0] * 0.01\n",
        "  theta[1] = theta[1] - grad.1[1] * 0.01\n",
        "  //print(cost(predicted: pred2, true_measure: train_y))\n",
        "}\n"
      ],
      "execution_count": 0,
      "outputs": []
    },
    {
      "cell_type": "code",
      "metadata": {
        "id": "ELY03gxuOmJJ",
        "colab_type": "code",
        "colab": {
          "base_uri": "https://localhost:8080/",
          "height": 282
        },
        "outputId": "582ab3a6-9b08-4c19-d0aa-2efb8f44b964"
      },
      "source": [
        "plt.close();\n",
        "plt.plot(train_x.makeNumpyArray(), pred2.reshaped(to: [80]).makeNumpyArray(), marker: \"o\")\n",
        "plt.plot(train_x.makeNumpyArray(), train_y.makeNumpyArray(), marker: \"x\")\n",
        "plt.show();"
      ],
      "execution_count": 139,
      "outputs": [
        {
          "output_type": "display_data",
          "data": {
            "image/png": "[encoded data removed]",
            "text/plain": [
              "<Figure size 432x288 with 1 Axes>"
            ]
          },
          "metadata": {
            "tags": []
          }
        },
        {
          "output_type": "execute_result",
          "data": {
            "text/plain": [
              "None\n"
            ]
          },
          "metadata": {
            "tags": []
          },
          "execution_count": 139
        }
      ]
    },
    {
      "cell_type": "code",
      "metadata": {
        "id": "UBcXzydZPBPz",
        "colab_type": "code",
        "colab": {
          "base_uri": "https://localhost:8080/",
          "height": 1000
        },
        "outputId": "fbb2cb5d-789f-4225-ba9f-7e8f68890f8d"
      },
      "source": [
        "pred2"
      ],
      "execution_count": 140,
      "outputs": [
        {
          "output_type": "execute_result",
          "data": {
            "text/plain": [
              "[[ 50.082302],\n",
              " [  9.950514],\n",
              " [  27.14985],\n",
              " [ 15.683626],\n",
              " [ 16.726011],\n",
              " [ 1.6114426],\n",
              " [ 18.289587],\n",
              " [ 25.586275],\n",
              " [ 46.433956],\n",
              " [ 26.628658],\n",
              " [ 43.827995],\n",
              " [ 49.561108],\n",
              " [ 37.573692],\n",
              " [  24.54389],\n",
              " [ 49.039917],\n",
              " [ 40.700844],\n",
              " [ 1.0902505],\n",
              " [ 51.124683],\n",
              " [ 39.658463],\n",
              " [ 14.641243],\n",
              " [ 45.391575],\n",
              " [ 13.077667],\n",
              " [  34.96773],\n",
              " [ 20.895546],\n",
              " [  29.23462],\n",
              " [ 28.192234],\n",
              " [ 7.3445544],\n",
              " [ 3.6962106],\n",
              " [ 45.912766],\n",
              " [ 19.853163],\n",
              " [ 12.035282],\n",
              " [ 28.713427],\n",
              " [ 4.2174025],\n",
              " [ 21.416739],\n",
              " [ 2.1326346],\n",
              " [ 29.755812],\n",
              " [ 15.162436],\n",
              " [ 35.488926],\n",
              " [ 16.204819],\n",
              " [  41.74323],\n",
              " [ 50.603493],\n",
              " [ 25.065083],\n",
              " [ 32.882965],\n",
              " [ 36.010117],\n",
              " [  33.92535],\n",
              " [ 7.8657465],\n",
              " [ 22.980314],\n",
              " [ 5.2597866],\n",
              " [ 3.1750185],\n",
              " [   37.0525],\n",
              " [ 38.616077],\n",
              " [ 17.247202],\n",
              " [ 20.374355],\n",
              " [11.5140915],\n",
              " [  47.99753],\n",
              " [ 39.137268],\n",
              " [  52.16707],\n",
              " [ 31.840578],\n",
              " [ 38.094887],\n",
              " [  42.26442],\n",
              " [  46.95515],\n",
              " [ 52.688263],\n",
              " [ 43.306805],\n",
              " [ 22.459122],\n",
              " [  47.47634],\n",
              " [ 12.556475],\n",
              " [ 2.6538265],\n",
              " [ 21.937931],\n",
              " [  32.36177],\n",
              " [ 36.531307],\n",
              " [ 27.671043],\n",
              " [  14.12005],\n",
              " [  6.823363],\n",
              " [ 4.7385945],\n",
              " [  8.386938],\n",
              " [  44.34919],\n",
              " [  9.429323],\n",
              " [ 10.992899],\n",
              " [  41.22204],\n",
              " [  44.87038]]\n"
            ]
          },
          "metadata": {
            "tags": []
          },
          "execution_count": 140
        }
      ]
    },
    {
      "cell_type": "code",
      "metadata": {
        "id": "f7C9GgEpPFIe",
        "colab_type": "code",
        "colab": {
          "base_uri": "https://localhost:8080/",
          "height": 85
        },
        "outputId": "600d8dd7-8f9c-45f0-e97f-7580da0a4454"
      },
      "source": [
        "train_x"
      ],
      "execution_count": 114,
      "outputs": [
        {
          "output_type": "execute_result",
          "data": {
            "text/plain": [
              "[94.0, 17.0, 50.0, 28.0, 30.0,  1.0, 33.0, 47.0, 87.0, 49.0, 82.0, 93.0, 70.0, 45.0, 92.0, 76.0,  0.0, 96.0, 74.0, 26.0,\n",
              " 85.0, 23.0, 65.0, 38.0, 54.0, 52.0, 12.0,  5.0, 86.0, 36.0, 21.0, 53.0,  6.0, 39.0,  2.0, 55.0, 27.0, 66.0, 29.0, 78.0,\n",
              " 95.0, 46.0, 61.0, 67.0, 63.0, 13.0, 42.0,  8.0,  4.0, 69.0, 72.0, 31.0, 37.0, 20.0, 90.0, 73.0, 98.0, 59.0, 71.0, 79.0,\n",
              " 88.0, 99.0, 81.0, 41.0, 89.0, 22.0,  3.0, 40.0, 60.0, 68.0, 51.0, 25.0, 11.0,  7.0, 14.0, 83.0, 16.0, 19.0, 77.0, 84.0]\n"
            ]
          },
          "metadata": {
            "tags": []
          },
          "execution_count": 114
        }
      ]
    },
    {
      "cell_type": "code",
      "metadata": {
        "id": "1d33vwOJPTem",
        "colab_type": "code",
        "colab": {
          "base_uri": "https://localhost:8080/",
          "height": 85
        },
        "outputId": "a82dcee1-e5a5-4f34-d473-fd2986bff3cb"
      },
      "source": [
        "train_y"
      ],
      "execution_count": 119,
      "outputs": [
        {
          "output_type": "execute_result",
          "data": {
            "text/plain": [
              "[94.0, 17.0, 50.0, 28.0, 30.0,  1.0, 33.0, 47.0, 87.0, 49.0, 82.0, 93.0, 70.0, 45.0, 92.0, 76.0,  0.0, 96.0, 74.0, 26.0,\n",
              " 85.0, 23.0, 65.0, 38.0, 54.0, 52.0, 12.0,  5.0, 86.0, 36.0, 21.0, 53.0,  6.0, 39.0,  2.0, 55.0, 27.0, 66.0, 29.0, 78.0,\n",
              " 95.0, 46.0, 61.0, 67.0, 63.0, 13.0, 42.0,  8.0,  4.0, 69.0, 72.0, 31.0, 37.0, 20.0, 90.0, 73.0, 98.0, 59.0, 71.0, 79.0,\n",
              " 88.0, 99.0, 81.0, 41.0, 89.0, 22.0,  3.0, 40.0, 60.0, 68.0, 51.0, 25.0, 11.0,  7.0, 14.0, 83.0, 16.0, 19.0, 77.0, 84.0]\n"
            ]
          },
          "metadata": {
            "tags": []
          },
          "execution_count": 119
        }
      ]
    },
    {
      "cell_type": "code",
      "metadata": {
        "id": "xZfnXoGDPsAX",
        "colab_type": "code",
        "colab": {
          "base_uri": "https://localhost:8080/",
          "height": 34
        },
        "outputId": "fd7b90ec-9e72-4095-bf1e-93a7b80c6df6"
      },
      "source": [
        "var pred2 = x_train_with_bias • theta\n",
        "print(x_train_with_bias.shape)"
      ],
      "execution_count": 126,
      "outputs": [
        {
          "output_type": "stream",
          "text": [
            "[80, 2]\r\n"
          ],
          "name": "stdout"
        }
      ]
    },
    {
      "cell_type": "code",
      "metadata": {
        "id": "of12TxbIQCkH",
        "colab_type": "code",
        "colab": {}
      },
      "source": [
        ""
      ],
      "execution_count": 0,
      "outputs": []
    }
  ]
}