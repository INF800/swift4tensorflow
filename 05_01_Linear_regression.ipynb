{
  "nbformat": 4,
  "nbformat_minor": 0,
  "metadata": {
    "colab": {
      "name": "05-01-Linear-regression.ipynb",
      "provenance": [],
      "collapsed_sections": [],
      "include_colab_link": true
    },
    "kernelspec": {
      "name": "swift",
      "display_name": "Swift"
    }
  },
  "cells": [
    {
      "cell_type": "markdown",
      "metadata": {
        "id": "view-in-github",
        "colab_type": "text"
      },
      "source": [
        "<a href=\"https://colab.research.google.com/github/rakesh4real/swift4tensorflow/blob/master/05_01_Linear_regression.ipynb\" target=\"_parent\"><img src=\"https://colab.research.google.com/assets/colab-badge.svg\" alt=\"Open In Colab\"/></a>"
      ]
    },
    {
      "cell_type": "markdown",
      "metadata": {
        "id": "FBEUMZccBFe_",
        "colab_type": "text"
      },
      "source": [
        "# Load libraries"
      ]
    },
    {
      "cell_type": "code",
      "metadata": {
        "id": "kZRlD4utdPuX",
        "colab_type": "code",
        "colab": {}
      },
      "source": [
        "import Python // Visualisations\n",
        "import TensorFlow"
      ],
      "execution_count": 0,
      "outputs": []
    },
    {
      "cell_type": "code",
      "metadata": {
        "id": "y2lwLMkhAEiy",
        "colab_type": "code",
        "outputId": "193e0e65-6a92-44cd-ffb1-306452214087",
        "colab": {
          "base_uri": "https://localhost:8080/",
          "height": 34
        }
      },
      "source": [
        "let plt = Python.import(\"matplotlib.pyplot\")\n",
        "%include \"EnableIPythonDisplay.swift\"\n",
        "IPythonDisplay.shell.enable_matplotlib(\"inline\")"
      ],
      "execution_count": 44,
      "outputs": [
        {
          "output_type": "execute_result",
          "data": {
            "text/plain": [
              "('inline', 'module://ipykernel.pylab.backend_inline')\n"
            ]
          },
          "metadata": {
            "tags": []
          },
          "execution_count": 44
        }
      ]
    },
    {
      "cell_type": "markdown",
      "metadata": {
        "id": "NSJ5Hu_VBLCI",
        "colab_type": "text"
      },
      "source": [
        "# Prepare Dataset"
      ]
    },
    {
      "cell_type": "code",
      "metadata": {
        "id": "8ODkgYQ1A4Fk",
        "colab_type": "code",
        "colab": {}
      },
      "source": [
        "// create"
      ],
      "execution_count": 0,
      "outputs": []
    },
    {
      "cell_type": "code",
      "metadata": {
        "id": "UlUhBx1kBRZu",
        "colab_type": "code",
        "colab": {}
      },
      "source": [
        "let num_of_data_points: Int = 10\n",
        "var X = Tensor<Float>(rangeFrom: 0, to: 10, stride: 1)\n",
        "\n",
        "let slope: Float = 2.0 \n",
        "let intercept: Float = 3.0\n",
        "let error = ( Tensor<Float>(randomNormal: [10]) ) * 0.8\n",
        "\n",
        "let y: Tensor<Float> = slope * X + intercept + error"
      ],
      "execution_count": 0,
      "outputs": []
    },
    {
      "cell_type": "code",
      "metadata": {
        "id": "5XZr0dEjFz4l",
        "colab_type": "code",
        "outputId": "d2dab82a-38e7-49ba-dcb1-d378e9aaa6fd",
        "colab": {
          "base_uri": "https://localhost:8080/",
          "height": 282
        }
      },
      "source": [
        "plt.close();\n",
        "plt.plot(X.makeNumpyArray(), y.makeNumpyArray(), marker: \"o\")\n",
        "plt.show();"
      ],
      "execution_count": 47,
      "outputs": [
        {
          "output_type": "display_data",
          "data": {
            "image/png": "[encoded data removed]",
            "text/plain": [
              "<Figure size 432x288 with 1 Axes>"
            ]
          },
          "metadata": {
            "tags": []
          }
        },
        {
          "output_type": "execute_result",
          "data": {
            "text/plain": [
              "None\n"
            ]
          },
          "metadata": {
            "tags": []
          },
          "execution_count": 47
        }
      ]
    },
    {
      "cell_type": "markdown",
      "metadata": {
        "id": "aMUCFZSTNTXP",
        "colab_type": "text"
      },
      "source": [
        "# Split"
      ]
    },
    {
      "cell_type": "code",
      "metadata": {
        "id": "5Kiizz4zUjBz",
        "colab_type": "code",
        "colab": {}
      },
      "source": [
        "// Shuffle\n",
        "var shuffled_indices = Array<Int>(0..<X.scalarCount).shuffled()\n",
        "var shuffled_X = Tensor<Float>(zeros: [X.scalarCount]) // will be replaced\n",
        "var shuffled_y = Tensor<Float>(zeros: [X.scalarCount]) // will be replaced\n",
        "\n",
        "for i in 0..<X.scalarCount{\n",
        "  shuffled_X[i] = X[shuffled_indices[i]]\n",
        "  shuffled_y[i] = X[shuffled_indices[i]]\n",
        "}\n",
        "\n",
        "// print(shuffled_X.description)"
      ],
      "execution_count": 0,
      "outputs": []
    },
    {
      "cell_type": "code",
      "metadata": {
        "id": "Y7LE2Oy5Hk-9",
        "colab_type": "code",
        "colab": {}
      },
      "source": [
        "var split_percent: Float = 0.8\n",
        "var train_count: Int = Int( Float(shuffled_X.scalarCount) * split_percent )"
      ],
      "execution_count": 0,
      "outputs": []
    },
    {
      "cell_type": "code",
      "metadata": {
        "id": "7SaAClxYP4Sa",
        "colab_type": "code",
        "colab": {}
      },
      "source": [
        "// generate test - train\n",
        "let train_x = shuffled_X.slice(lowerBounds: [0], upperBounds: [train_count])\n",
        "let test_x = shuffled_X.slice(lowerBounds: [train_count], upperBounds: [shuffled_X.scalarCount])\n",
        "let train_y = shuffled_y.slice(lowerBounds: [0], upperBounds: [train_count])\n",
        "let test_y = shuffled_y.slice(lowerBounds: [train_count], upperBounds: [shuffled_X.scalarCount])\n",
        "\n",
        "/*\n",
        "print(train_x.scalarCount)\n",
        "print(train_y.scalarCount)\n",
        "print(test_x.scalarCount)\n",
        "print(test_y.scalarCount)\n",
        "*/\n",
        "\n",
        "// add bias to x_train for mx+'c'\n",
        "// reshape both(ones & train_x) before concatenation\n",
        "var ones_train = Tensor<Float>(ones: [train_count, 1])\n",
        "var x_train_with_bias = train_x.reshaped(to: [train_count,1]).concatenated(with: ones_train, alongAxis: 1)\n",
        "\n",
        "var ones_test = Tensor<Float>(ones: [(num_of_data_points - train_count), 1])\n",
        "var x_test_with_bias = test_x.reshaped(to: [num_of_data_points - train_count, 1]).concatenated(with: ones_test, alongAxis: 1)"
      ],
      "execution_count": 0,
      "outputs": []
    },
    {
      "cell_type": "markdown",
      "metadata": {
        "id": "bp-s8C9KY061",
        "colab_type": "text"
      },
      "source": [
        "# Loss Function"
      ]
    },
    {
      "cell_type": "code",
      "metadata": {
        "id": "GRpnEKshXn0Q",
        "colab_type": "code",
        "colab": {}
      },
      "source": [
        "@differentiable\n",
        "func cost(predicted: Tensor<Float>, true_measure: Tensor<Float>) -> Tensor<Float>{\n",
        "  let m: Float = Float( predicted.scalarCount )\n",
        "  return (1 / (2 * m) ) * pow(predicted - true_measure, 2).sum()\n",
        "}"
      ],
      "execution_count": 0,
      "outputs": []
    },
    {
      "cell_type": "code",
      "metadata": {
        "id": "K_zOvnKCbZlL",
        "colab_type": "code",
        "colab": {}
      },
      "source": [
        "var theta = Tensor<Float>(randomNormal: [2, 1])"
      ],
      "execution_count": 0,
      "outputs": []
    },
    {
      "cell_type": "code",
      "metadata": {
        "id": "fzUmo9ju9-aK",
        "colab_type": "code",
        "colab": {
          "base_uri": "https://localhost:8080/",
          "height": 1000
        },
        "outputId": "78a6be3e-e935-4145-b517-a09a00bc5c62"
      },
      "source": [
        "\n",
        "for _ in 1...100{\n",
        "  var pred2 = x_train_with_bias • theta\n",
        "  var grad = gradient(at: pred2, train_y, in: cost)\n",
        "  theta[0] = theta[0] - grad.0[0] * 0.0001\n",
        "  theta[1] = theta[1] - grad.1[1] * 0.0001\n",
        "  print(cost(predicted: pred2, true_measure: train_y))\n",
        "}\n"
      ],
      "execution_count": 89,
      "outputs": [
        {
          "output_type": "stream",
          "text": [
            "179.56357\r\n",
            "179.39737\r\n",
            "179.23146\r\n",
            "179.0658\r\n",
            "178.90039\r\n",
            "178.73523\r\n",
            "178.57033\r\n",
            "178.4057\r\n",
            "178.2413\r\n",
            "178.07718\r\n",
            "177.9133\r\n",
            "177.74966\r\n",
            "177.58627\r\n",
            "177.42319\r\n",
            "177.2603\r\n",
            "177.09769\r\n",
            "176.93533\r\n",
            "176.77321\r\n",
            "176.61134\r\n",
            "176.44974\r\n",
            "176.28838\r\n",
            "176.12726\r\n",
            "175.9664\r\n",
            "175.80579\r\n",
            "175.64542\r\n",
            "175.48529\r\n",
            "175.32541\r\n",
            "175.1658\r\n",
            "175.00642\r\n",
            "174.84729\r\n",
            "174.68842\r\n",
            "174.52975\r\n",
            "174.37135\r\n",
            "174.21323\r\n",
            "174.0553\r\n",
            "173.89763\r\n",
            "173.7402\r\n",
            "173.58304\r\n",
            "173.42612\r\n",
            "173.26941\r\n",
            "173.11295\r\n",
            "172.95674\r\n",
            "172.80078\r\n",
            "172.64505\r\n",
            "172.48956\r\n",
            "172.3343\r\n",
            "172.17929\r\n",
            "172.02454\r\n",
            "171.87001\r\n",
            "171.7157\r\n",
            "171.56165\r\n",
            "171.40784\r\n",
            "171.25427\r\n",
            "171.10092\r\n",
            "170.94781\r\n",
            "170.79492\r\n",
            "170.6423\r\n",
            "170.4899\r\n",
            "170.33775\r\n",
            "170.1858\r\n",
            "170.03412\r\n",
            "169.88264\r\n",
            "169.73141\r\n",
            "169.58041\r\n",
            "169.42966\r\n",
            "169.27914\r\n",
            "169.12885\r\n",
            "168.97879\r\n",
            "168.82893\r\n",
            "168.67935\r\n",
            "168.52997\r\n",
            "168.38083\r\n",
            "168.2319\r\n",
            "168.08324\r\n",
            "167.93478\r\n",
            "167.78656\r\n",
            "167.63855\r\n",
            "167.49078\r\n",
            "167.34325\r\n",
            "167.19594\r\n",
            "167.04884\r\n",
            "166.90198\r\n",
            "166.75536\r\n",
            "166.60895\r\n",
            "166.46277\r\n",
            "166.3168\r\n",
            "166.17108\r\n",
            "166.02557\r\n",
            "165.88028\r\n",
            "165.73523\r\n",
            "165.59038\r\n",
            "165.44577\r\n",
            "165.30136\r\n",
            "165.1572\r\n",
            "165.01326\r\n",
            "164.8695\r\n",
            "164.72601\r\n",
            "164.58273\r\n",
            "164.43967\r\n",
            "164.29681\r\n"
          ],
          "name": "stdout"
        }
      ]
    },
    {
      "cell_type": "code",
      "metadata": {
        "id": "xWQuomwGN_Vr",
        "colab_type": "code",
        "outputId": "88e0dbbf-7b7a-4047-a1e3-4fcfe8981b3f",
        "colab": {
          "base_uri": "https://localhost:8080/",
          "height": 34
        }
      },
      "source": [
        "  var pred = x_train_with_bias • theta\n",
        "  var grad = gradient(at: pred, train_y, in: cost)\n",
        "  print(type(of: grad))"
      ],
      "execution_count": 0,
      "outputs": [
        {
          "output_type": "stream",
          "text": [
            "(Tensor<Float>, Tensor<Float>)\r\n"
          ],
          "name": "stdout"
        }
      ]
    },
    {
      "cell_type": "code",
      "metadata": {
        "id": "BdPyVbex96Bu",
        "colab_type": "code",
        "colab": {}
      },
      "source": [
        "var pre"
      ],
      "execution_count": 0,
      "outputs": []
    },
    {
      "cell_type": "code",
      "metadata": {
        "id": "hsNYG2Yz77t4",
        "colab_type": "code",
        "outputId": "d3cc9f95-ce74-4ed9-b054-9d2e55f5897d",
        "colab": {
          "base_uri": "https://localhost:8080/",
          "height": 1000
        }
      },
      "source": [
        "for i in 1...100{\n",
        "  var pred = x_train_with_bias • theta\n",
        "  var grad = gradient(at: pred, train_y, in: cost)\n",
        "  for i in 0..<8{\n",
        "    theta[i][0] = theta[i][0] - 0.01 * grad.0\n",
        "    theta[i][1] = theta[i][1] - 0.01 * grad.1\n",
        "  }\n",
        "}"
      ],
      "execution_count": 0,
      "outputs": [
        {
          "output_type": "stream",
          "text": [
            "Fatal error: sliced l-value shape [] does not match r-value shape [8,1]. Automatic broadcasting not yet implemented.: file /swift-base/tensorflow-swift-apis/Sources/TensorFlow/Bindings/EagerExecution.swift, line 300\r\n",
            "Current stack trace:\r\n",
            "0    libswiftCore.so                    0x00007ffb0f19e940 swift_reportError + 50\r\n",
            "1    libswiftCore.so                    0x00007ffb0f20fcf0 _swift_stdlib_reportFatalErrorInFile + 115\r\n",
            "2    libswiftCore.so                    0x00007ffb0f139b48 <unavailable> + 3722056\r\n",
            "3    libswiftCore.so                    0x00007ffb0f139cd7 <unavailable> + 3722455\r\n",
            "4    libswiftCore.so                    0x00007ffb0ef0c4e8 <unavailable> + 1438952\r\n",
            "5    libswiftCore.so                    0x00007ffb0f10d5ce <unavailable> + 3540430\r\n",
            "6    libswiftCore.so                    0x00007ffb0ef0bc09 <unavailable> + 1436681\r\n",
            "7    libswiftTensorFlow.so              0x00007ffb0c399f50 <unavailable> + 2899792\r\n",
            "8    libswiftTensorFlow.so              0x00007ffb0c1edd10 checkOk(_:file:line:) + 434\r\n",
            "9    libswiftTensorFlow.so              0x00007ffb0c1f4ce0 TFE_Op.evaluateUnsafe() + 506\r\n",
            "10   libswiftTensorFlow.so              0x00007ffb0c1f53d0 TFE_Op.execute<A>(_:) + 132\r\n",
            "11   libswiftTensorFlow.so              0x00007ffb0c1fe074 <unavailable> + 1212532\r\n",
            "14   repl_swift                         0x0000000000400490 <unavailable> + 1168\r\n",
            "16   libswiftCore.so                    0x00007ffb0ef0bc09 <unavailable> + 1436681\r\n",
            "17   libswiftTensorFlow.so              0x00007ffb0c399f50 <unavailable> + 2899792\r\n",
            "18   libswiftTensorFlow.so              0x00007ffb0c1edd10 checkOk(_:file:line:) + 434\r\n",
            "19   libswiftTensorFlow.so              0x00007ffb0c1f4ce0 TFE_Op.evaluateUnsafe() + 506\r\n",
            "20   libswiftTensorFlow.so              0x00007ffb0c1f53d0 TFE_Op.execute<A>(_:) + 132\r\n",
            "21   libswiftTensorFlow.so              0x00007ffb0c1fe074 <unavailable> + 1212532\r\n",
            "24   repl_swift                         0x0000000000400490 <unavailable> + 1168\r\n",
            "26   libswiftCore.so                    0x00007ffb0ef0bc09 <unavailable> + 1436681\r\n",
            "27   libswiftTensorFlow.so              0x00007ffb0c399f50 <unavailable> + 2899792\r\n",
            "28   libswiftTensorFlow.so              0x00007ffb0c1edd10 checkOk(_:file:line:) + 434\r\n",
            "29   libswiftTensorFlow.so              0x00007ffb0c1f4ce0 TFE_Op.evaluateUnsafe() + 506\r\n",
            "30   libswiftTensorFlow.so              0x00007ffb0c1f53d0 TFE_Op.execute<A>(_:) + 132\r\n",
            "31   libswiftTensorFlow.so              0x00007ffb0c1fe074 <unavailable> + 1212532\r\n",
            "32   libswiftTensorFlow.so              0x00007ffb0c332df0 static Raw.sub<A>(_:_:) + 791\r\n",
            "33   libswiftTensorFlow.so              0x00007ffb0c3ba8a0 static Tensor<>.- infix(_:_:) + 54\r\n",
            "34   libswiftTensorFlow.so              0x00007ffb0c3ba8e0 static Tensor<>._vjpSubtract(lhs:rhs:) + 115\r\n",
            "35   libswiftTensorFlow.so              0x00007ffb0c3baa80 AD__$s10TensorFlow0A0VAASjRzrlE1soiyACyxGAE_AEtFZ__vjp_src_0_wrt_0_1 + 9\r\n",
            "40   repl_swift                         0x0000000000400490 <unavailable> + 1168\r\n",
            "42   libswiftCore.so                    0x00007ffb0ef0bc09 <unavailable> + 1436681\r\n",
            "43   libswiftTensorFlow.so              0x00007ffb0c399f50 <unavailable> + 2899792\r\n",
            "44   libswiftTensorFlow.so              0x00007ffb0c1edd10 checkOk(_:file:line:) + 434\r\n",
            "45   libswiftTensorFlow.so              0x00007ffb0c1f4ce0 TFE_Op.evaluateUnsafe() + 506\r\n",
            "46   libswiftTensorFlow.so              0x00007ffb0c1f53d0 TFE_Op.execute<A>(_:) + 132\r\n",
            "47   libswiftTensorFlow.so              0x00007ffb0c1fe074 <unavailable> + 1212532\r\n",
            "50   repl_swift                         0x0000000000400490 <unavailable> + 1168\r\n",
            "52   libswiftCore.so                    0x00007ffb0ef0bc09 <unavailable> + 1436681\r\n",
            "53   libswiftTensorFlow.so              0x00007ffb0c399f50 <unavailable> + 2899792\r\n",
            "54   libswiftTensorFlow.so              0x00007ffb0c1edd10 checkOk(_:file:line:) + 434\r\n",
            "55   libswiftTensorFlow.so              0x00007ffb0c1f4ce0 TFE_Op.evaluateUnsafe() + 506\r\n",
            "56   libswiftTensorFlow.so              0x00007ffb0c1f53d0 TFE_Op.execute<A>(_:) + 132\r\n",
            "57   libswiftTensorFlow.so              0x00007ffb0c1fe074 <unavailable> + 1212532\r\n",
            "58   libswiftTensorFlow.so              0x00007ffb0c332df0 static Raw.sub<A>(_:_:) + 791\r\n",
            "59   libswiftTensorFlow.so              0x00007ffb0c3ba8a0 static Tensor<>.- infix(_:_:) + 54\r\n",
            "60   libswiftTensorFlow.so              0x00007ffb0c3ba8e0 static Tensor<>._vjpSubtract(lhs:rhs:) + 115\r\n",
            "61   libswiftTensorFlow.so              0x00007ffb0c3baa80 AD__$s10TensorFlow0A0VAASjRzrlE1soiyACyxGAE_AEtFZ__vjp_src_0_wrt_0_1 + 9\r\n",
            "66   repl_swift                         0x0000000000400490 <unavailable> + 1168\r\n",
            "68   libswiftCore.so                    0x00007ffb0ef0bc09 <unavailable> + 1436681\r\n",
            "69   libswiftTensorFlow.so              0x00007ffb0c399f50 <unavailable> + 2899792\r\n",
            "70   libswiftTensorFlow.so              0x00007ffb0c1edd10 checkOk(_:file:line:) + 434\r\n",
            "71   libswiftTensorFlow.so              0x00007ffb0c1f4ce0 TFE_Op.evaluateUnsafe() + 506\r\n",
            "72   libswiftTensorFlow.so              0x00007ffb0c1f53d0 TFE_Op.execute<A>(_:) + 132\r\n",
            "73   libswiftTensorFlow.so              0x00007ffb0c1fe074 <unavailable> + 1212532\r\n",
            "74   libswiftTensorFlow.so              0x00007ffb0c332df0 static Raw.sub<A>(_:_:) + 791\r\n",
            "75   libswiftTensorFlow.so              0x00007ffb0c3ba8a0 static Tensor<>.- infix(_:_:) + 54\r\n",
            "76   libswiftTensorFlow.so              0x00007ffb0c3ba8e0 static Tensor<>._vjpSubtract(lhs:rhs:) + 115\r\n",
            "77   libswiftTensorFlow.so              0x00007ffb0c3baa80 AD__$s10TensorFlow0A0VAASjRzrlE1soiyACyxGAE_AEtFZ__vjp_src_0_wrt_0_1 + 9\r\n",
            "82   repl_swift                         0x0000000000400490 <unavailable> + 1168\n",
            "84   libswiftCore.so                    0x00007ffb0ef0bc09 <unavailable> + 1436681\n",
            "85   libswiftTensorFlow.so              0x00007ffb0c399f50 <unavailable> + 2899792\n",
            "86   libswiftTensorFlow.so              0x00007ffb0c1edd10 checkOk(_:file:line:) + 434\n",
            "87   libswiftTensorFlow.so              0x00007ffb0c1f4ce0 TFE_Op.evaluateUnsafe() + 506\n",
            "88   libswiftTensorFlow.so              0x00007ffb0c1f53d0 TFE_Op.execute<A>(_:) + 132\n",
            "89   libswiftTensorFlow.so              0x00007ffb0c1fe074 <unavailable> + 1212532\n",
            "92   repl_swift                         0x0000000000400490 <unavailable> + 1168\n",
            "93   libswiftTensorFlow.so              0x00007ffb0c6d7c30 protocol witness table for TFETensorHandle + 0\n",
            "94   libswiftCore.so                    0x00007ffb0ef0bc09 <unavailable> + 1436681\n",
            "95   libswiftTensorFlow.so              0x00007ffb0c399f50 <unavailable> + 2899792\n",
            "96   libswiftTensorFlow.so              0x00007ffb0c1edd10 checkOk(_:file:line:) + 434\n",
            "97   libswiftTensorFlow.so              0x00007ffb0c1f4ce0 TFE_Op.evaluateUnsafe() + 506\n",
            "98   libswiftTensorFlow.so              0x00007ffb0c1f53d0 TFE_Op.execute<A>(_:) + 132\n",
            "99   libswiftTensorFlow.so              0x00007ffb0c1fe074 <unavailable> + 1212532\n",
            "102  repl_swift                         0x0000000000400490 <unavailable> + 1168\n",
            "104  libswiftCore.so                    0x00007ffb0ef0bc09 <unavailable> + 1436681\n",
            "105  libswiftTensorFlow.so              0x00007ffb0c399f50 <unavailable> + 2899792\n",
            "106  libswiftTensorFlow.so              0x00007ffb0c1edd10 checkOk(_:file:line:) + 434\n",
            "107  libswiftTensorFlow.so              0x00007ffb0c1f4ce0 TFE_Op.evaluateUnsafe() + 506\n",
            "108  libswiftTensorFlow.so              0x00007ffb0c1f53d0 TFE_Op.execute<A>(_:) + 132\n",
            "109  libswiftTensorFlow.so              0x00007ffb0c1fe074 <unavailable> + 1212532\n",
            "111  repl_swift                         0x0000000000400490 <unavailable> + 1168\n",
            "113  libswiftCore.so                    0x00007ffb0ef0bc09 <unavailable> + 1436681\n",
            "114  libswiftTensorFlow.so              0x00007ffb0c399f50 <unavailable> + 2899792\n",
            "115  libswiftTensorFlow.so              0x00007ffb0c1edd10 checkOk(_:file:line:) + 434\n",
            "116  libswiftTensorFlow.so              0x00007ffb0c1f4ce0 TFE_Op.evaluateUnsafe() + 506\n",
            "117  libswiftTensorFlow.so              0x00007ffb0c1f53d0 TFE_Op.execute<A>(_:) + 132\n",
            "118  libswiftTensorFlow.so              0x00007ffb0c1fe074 <unavailable> + 1212532\n",
            "121  repl_swift                         0x0000000000400490 <unavailable> + 1168\n",
            "123  libswiftCore.so                    0x00007ffb0ef0bc09 <unavailable> + 1436681\n",
            "124  libswiftTensorFlow.so              0x00007ffb0c399f50 <unavailable> + 2899792\n",
            "125  libswiftTensorFlow.so              0x00007ffb0c1edd10 checkOk(_:file:line:) + 434\n",
            "126  libswiftTensorFlow.so              0x00007ffb0c1f4ce0 TFE_Op.evaluateUnsafe() + 506\n"
          ],
          "name": "stdout"
        },
        {
          "output_type": "error",
          "ename": "",
          "evalue": "ignored",
          "traceback": [
            "Current stack trace:",
            "\tframe #11: 0x00007ffab6156b03 $__lldb_expr2315`main at <Cell 363>:5"
          ]
        }
      ]
    },
    {
      "cell_type": "code",
      "metadata": {
        "id": "GvdGArpFJ7ia",
        "colab_type": "code",
        "outputId": "b8277221-e273-4ee6-82d4-f7004d20bfad",
        "colab": {
          "base_uri": "https://localhost:8080/",
          "height": 51
        }
      },
      "source": [
        "theta"
      ],
      "execution_count": 0,
      "outputs": [
        {
          "output_type": "execute_result",
          "data": {
            "text/plain": [
              "[[1.5704609],\n",
              " [ 1.916889]]\n"
            ]
          },
          "metadata": {
            "tags": []
          },
          "execution_count": 357
        }
      ]
    },
    {
      "cell_type": "code",
      "metadata": {
        "id": "yoZ1N5B5Nv_x",
        "colab_type": "code",
        "outputId": "3191795f-c28e-4a4c-970f-7bb4e2ccef81",
        "colab": {
          "base_uri": "https://localhost:8080/",
          "height": 187
        }
      },
      "source": [
        "var grad = gradient(at: pred, train_y, in: cost)\n",
        "grad"
      ],
      "execution_count": 0,
      "outputs": [
        {
          "output_type": "execute_result",
          "data": {
            "text/plain": [
              "▿ 2 elements\n",
              "  - .0 : [[  8.035115],\n",
              " [ 4.8941936],\n",
              " [ 11.176037],\n",
              " [  -1.38765],\n",
              " [  6.464655],\n",
              " [  1.753272],\n",
              " [ 9.6055765],\n",
              " [-2.9581108]]\n",
              "  - .1 : [ -2.572886,  -4.572886,  -0.572886, -8.5728855,  -3.572886,  -6.572886,  -1.572886, -9.5728855]\n"
            ]
          },
          "metadata": {
            "tags": []
          },
          "execution_count": 360
        }
      ]
    },
    {
      "cell_type": "code",
      "metadata": {
        "id": "ELY03gxuOmJJ",
        "colab_type": "code",
        "colab": {}
      },
      "source": [
        ""
      ],
      "execution_count": 0,
      "outputs": []
    }
  ]
}