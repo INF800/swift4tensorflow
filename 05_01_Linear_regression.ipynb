{
  "nbformat": 4,
  "nbformat_minor": 0,
  "metadata": {
    "colab": {
      "name": "05-01-Linear-regression.ipynb",
      "provenance": [],
      "collapsed_sections": [],
      "include_colab_link": true
    },
    "kernelspec": {
      "name": "swift",
      "display_name": "Swift"
    }
  },
  "cells": [
    {
      "cell_type": "markdown",
      "metadata": {
        "id": "view-in-github",
        "colab_type": "text"
      },
      "source": [
        "<a href=\"https://colab.research.google.com/github/rakesh4real/swift4tensorflow/blob/master/05_01_Linear_regression.ipynb\" target=\"_parent\"><img src=\"https://colab.research.google.com/assets/colab-badge.svg\" alt=\"Open In Colab\"/></a>"
      ]
    },
    {
      "cell_type": "markdown",
      "metadata": {
        "id": "FBEUMZccBFe_",
        "colab_type": "text"
      },
      "source": [
        "# Load libraries"
      ]
    },
    {
      "cell_type": "code",
      "metadata": {
        "id": "kZRlD4utdPuX",
        "colab_type": "code",
        "colab": {}
      },
      "source": [
        "import Python // Visualisations\n",
        "import TensorFlow"
      ],
      "execution_count": 0,
      "outputs": []
    },
    {
      "cell_type": "code",
      "metadata": {
        "id": "y2lwLMkhAEiy",
        "colab_type": "code",
        "colab": {
          "base_uri": "https://localhost:8080/",
          "height": 34
        },
        "outputId": "4d4a209e-ee96-4a9f-e4bf-27236660f21b"
      },
      "source": [
        "let plt = Python.import(\"matplotlib.pyplot\")\n",
        "%include \"EnableIPythonDisplay.swift\"\n",
        "IPythonDisplay.shell.enable_matplotlib(\"inline\")"
      ],
      "execution_count": 109,
      "outputs": [
        {
          "output_type": "execute_result",
          "data": {
            "text/plain": [
              "('inline', 'module://ipykernel.pylab.backend_inline')\n"
            ]
          },
          "metadata": {
            "tags": []
          },
          "execution_count": 109
        }
      ]
    },
    {
      "cell_type": "markdown",
      "metadata": {
        "id": "NSJ5Hu_VBLCI",
        "colab_type": "text"
      },
      "source": [
        "# Prepare Dataset"
      ]
    },
    {
      "cell_type": "code",
      "metadata": {
        "id": "8ODkgYQ1A4Fk",
        "colab_type": "code",
        "colab": {}
      },
      "source": [
        "// create"
      ],
      "execution_count": 0,
      "outputs": []
    },
    {
      "cell_type": "code",
      "metadata": {
        "id": "UlUhBx1kBRZu",
        "colab_type": "code",
        "colab": {
          "base_uri": "https://localhost:8080/",
          "height": 129
        },
        "outputId": "50fa43e0-cf52-45cf-fea4-756541460d93"
      },
      "source": [
        "let num_of_data_points: Int = 10\n",
        "var X = Tensor<Float>(rangeFrom: 0, to: num_of_data_points, stride: 1)\n",
        "\n",
        "let slope: Float = 2.0 \n",
        "let intercept: Float = 3.0\n",
        "let error = ( Tensor<Float>(randomNormal: [num_of_data_points]) ) * 0.8\n",
        "\n",
        "let y: Tensor<Float> = slope * X + intercept + error"
      ],
      "execution_count": 124,
      "outputs": [
        {
          "output_type": "error",
          "ename": "",
          "evalue": "ignored",
          "traceback": [
            "error: <Cell 124>:2:34: error: cannot convert value of type 'Int' to expected argument type 'Tensor<_>'\nvar X = Tensor<Float>(rangeFrom: 0, to: num_of_data_points, stride: 1)\n                                 ^\n\n"
          ]
        }
      ]
    },
    {
      "cell_type": "code",
      "metadata": {
        "id": "5XZr0dEjFz4l",
        "colab_type": "code",
        "colab": {
          "base_uri": "https://localhost:8080/",
          "height": 283
        },
        "outputId": "d92017a9-ac44-47f2-a337-5a06c071953a"
      },
      "source": [
        "plt.close();\n",
        "plt.plot(X.makeNumpyArray(), y.makeNumpyArray(), marker: \"o\")\n",
        "plt.show();"
      ],
      "execution_count": 117,
      "outputs": [
        {
          "output_type": "display_data",
          "data": {
            "image/png": "[encoded data removed]",
            "text/plain": [
              "<Figure size 432x288 with 1 Axes>"
            ]
          },
          "metadata": {
            "tags": []
          }
        },
        {
          "output_type": "execute_result",
          "data": {
            "text/plain": [
              "None\n"
            ]
          },
          "metadata": {
            "tags": []
          },
          "execution_count": 117
        }
      ]
    },
    {
      "cell_type": "markdown",
      "metadata": {
        "id": "aMUCFZSTNTXP",
        "colab_type": "text"
      },
      "source": [
        "# Split"
      ]
    },
    {
      "cell_type": "code",
      "metadata": {
        "id": "5Kiizz4zUjBz",
        "colab_type": "code",
        "colab": {}
      },
      "source": [
        "// Shuffle\n",
        "var shuffled_indices = Array<Int>(0..<X.scalarCount).shuffled()\n",
        "var shuffled_X = Tensor<Float>(zeros: [X.scalarCount]) // will be replaced\n",
        "var shuffled_y = Tensor<Float>(zeros: [X.scalarCount]) // will be replaced\n",
        "\n",
        "for i in 0..<X.scalarCount{\n",
        "  shuffled_X[i] = X[shuffled_indices[i]]\n",
        "  shuffled_y[i] = X[shuffled_indices[i]]\n",
        "}\n",
        "\n",
        "// print(shuffled_X.description)"
      ],
      "execution_count": 0,
      "outputs": []
    },
    {
      "cell_type": "code",
      "metadata": {
        "id": "Y7LE2Oy5Hk-9",
        "colab_type": "code",
        "colab": {}
      },
      "source": [
        "var split_percent: Float = 0.8\n",
        "var train_count: Int = Int( Float(shuffled_X.scalarCount) * percent )"
      ],
      "execution_count": 0,
      "outputs": []
    },
    {
      "cell_type": "code",
      "metadata": {
        "id": "7SaAClxYP4Sa",
        "colab_type": "code",
        "colab": {
          "base_uri": "https://localhost:8080/",
          "height": 85
        },
        "outputId": "dbc5bcf3-545a-4552-95aa-23d16f15b1e6"
      },
      "source": [
        "// generate test - train\n",
        "let train_x = shuffled_X.slice(lowerBounds: [0], upperBounds: [train_count])\n",
        "let test_x = shuffled_X.slice(lowerBounds: [train_count], upperBounds: [shuffled_X.scalarCount])\n",
        "let train_y = shuffled_y.slice(lowerBounds: [0], upperBounds: [train_count])\n",
        "let test_y = shuffled_y.slice(lowerBounds: [train_count], upperBounds: [shuffled_X.scalarCount])\n",
        "\n",
        "/*\n",
        "print(train_x.scalarCount)\n",
        "print(train_y.scalarCount)\n",
        "print(test_x.scalarCount)\n",
        "print(test_y.scalarCount)\n",
        "*/"
      ],
      "execution_count": 123,
      "outputs": [
        {
          "output_type": "stream",
          "text": [
            "8\r\n",
            "8\r\n",
            "2\r\n",
            "2\r\n"
          ],
          "name": "stdout"
        }
      ]
    },
    {
      "cell_type": "markdown",
      "metadata": {
        "id": "bp-s8C9KY061",
        "colab_type": "text"
      },
      "source": [
        "# Loss Function"
      ]
    },
    {
      "cell_type": "code",
      "metadata": {
        "id": "GRpnEKshXn0Q",
        "colab_type": "code",
        "colab": {
          "base_uri": "https://localhost:8080/",
          "height": 129
        },
        "outputId": "b4d2d991-6a1a-4b57-a4e0-867ed2b62184"
      },
      "source": [
        "func LSE(predicted: Tensor<Float>, true_measure: Tensor<Float>) -> Tensor<Float>{\n",
        "  return (1 / (2 * predicted.scalarCount) ) * pow(predicted - true_measure, 2).sum()\n",
        "}"
      ],
      "execution_count": 128,
      "outputs": [
        {
          "output_type": "error",
          "ename": "",
          "evalue": "ignored",
          "traceback": [
            "error: <Cell 128>:2:45: error: the compiler is unable to type-check this expression in reasonable time; try breaking up the expression into distinct sub-expressions\n  return (1 / (2 * predicted.scalarCount) ) * pow(predicted - true_measure, 2).sum()\n         ~~~~~~~~~~~~~~~~~~~~~~~~~~~~~~~~~~~^~~~~~~~~~~~~~~~~~~~~~~~~~~~~~~~~~~~~~~~\n\n"
          ]
        }
      ]
    },
    {
      "cell_type": "code",
      "metadata": {
        "id": "Cdn39wRAZlLQ",
        "colab_type": "code",
        "colab": {
          "base_uri": "https://localhost:8080/",
          "height": 34
        },
        "outputId": "970f96c2-cfd7-4d04-b043-33fac1dfdbb4"
      },
      "source": [
        ""
      ],
      "execution_count": 125,
      "outputs": [
        {
          "output_type": "execute_result",
          "data": {
            "text/plain": [
              "10\n"
            ]
          },
          "metadata": {
            "tags": []
          },
          "execution_count": 125
        }
      ]
    },
    {
      "cell_type": "code",
      "metadata": {
        "id": "K_zOvnKCbZlL",
        "colab_type": "code",
        "colab": {}
      },
      "source": [
        ""
      ],
      "execution_count": 0,
      "outputs": []
    }
  ]
}