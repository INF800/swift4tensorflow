{
  "nbformat": 4,
  "nbformat_minor": 0,
  "metadata": {
    "colab": {
      "name": "05-01-Linear-regression.ipynb",
      "provenance": [],
      "collapsed_sections": [],
      "include_colab_link": true
    },
    "kernelspec": {
      "name": "swift",
      "display_name": "Swift"
    }
  },
  "cells": [
    {
      "cell_type": "markdown",
      "metadata": {
        "id": "view-in-github",
        "colab_type": "text"
      },
      "source": [
        "<a href=\"https://colab.research.google.com/github/rakesh4real/swift4tensorflow/blob/master/05_01_Linear_regression.ipynb\" target=\"_parent\"><img src=\"https://colab.research.google.com/assets/colab-badge.svg\" alt=\"Open In Colab\"/></a>"
      ]
    },
    {
      "cell_type": "markdown",
      "metadata": {
        "id": "FBEUMZccBFe_",
        "colab_type": "text"
      },
      "source": [
        "# Load libraries"
      ]
    },
    {
      "cell_type": "code",
      "metadata": {
        "id": "kZRlD4utdPuX",
        "colab_type": "code",
        "colab": {}
      },
      "source": [
        "import Python // Visualisations\n",
        "import TensorFlow"
      ],
      "execution_count": 0,
      "outputs": []
    },
    {
      "cell_type": "code",
      "metadata": {
        "id": "y2lwLMkhAEiy",
        "colab_type": "code",
        "outputId": "e3778495-d1dd-46f4-9437-96f1e5cadc10",
        "colab": {
          "base_uri": "https://localhost:8080/",
          "height": 34
        }
      },
      "source": [
        "let plt = Python.import(\"matplotlib.pyplot\")\n",
        "%include \"EnableIPythonDisplay.swift\"\n",
        "IPythonDisplay.shell.enable_matplotlib(\"inline\")"
      ],
      "execution_count": 174,
      "outputs": [
        {
          "output_type": "execute_result",
          "data": {
            "text/plain": [
              "('inline', 'module://ipykernel.pylab.backend_inline')\n"
            ]
          },
          "metadata": {
            "tags": []
          },
          "execution_count": 174
        }
      ]
    },
    {
      "cell_type": "markdown",
      "metadata": {
        "id": "NSJ5Hu_VBLCI",
        "colab_type": "text"
      },
      "source": [
        "# Prepare Dataset"
      ]
    },
    {
      "cell_type": "code",
      "metadata": {
        "id": "8ODkgYQ1A4Fk",
        "colab_type": "code",
        "colab": {}
      },
      "source": [
        "// create"
      ],
      "execution_count": 0,
      "outputs": []
    },
    {
      "cell_type": "code",
      "metadata": {
        "id": "UlUhBx1kBRZu",
        "colab_type": "code",
        "colab": {}
      },
      "source": [
        "let num_of_data_points: Int = 10\n",
        "var X = Tensor<Float>(rangeFrom: 0, to: 10, stride: 1)\n",
        "\n",
        "let slope: Float = 2.0 \n",
        "let intercept: Float = 3.0\n",
        "let error = ( Tensor<Float>(randomNormal: [10]) ) * 0.8\n",
        "\n",
        "let y: Tensor<Float> = slope * X + intercept + error"
      ],
      "execution_count": 0,
      "outputs": []
    },
    {
      "cell_type": "code",
      "metadata": {
        "id": "5XZr0dEjFz4l",
        "colab_type": "code",
        "outputId": "faf4b002-ca03-48e0-9f42-ae67abad1465",
        "colab": {
          "base_uri": "https://localhost:8080/",
          "height": 282
        }
      },
      "source": [
        "plt.close();\n",
        "plt.plot(X.makeNumpyArray(), y.makeNumpyArray(), marker: \"o\")\n",
        "plt.show();"
      ],
      "execution_count": 177,
      "outputs": [
        {
          "output_type": "display_data",
          "data": {
            "image/png": "[encoded data removed]",
            "text/plain": [
              "<Figure size 432x288 with 1 Axes>"
            ]
          },
          "metadata": {
            "tags": []
          }
        },
        {
          "output_type": "execute_result",
          "data": {
            "text/plain": [
              "None\n"
            ]
          },
          "metadata": {
            "tags": []
          },
          "execution_count": 177
        }
      ]
    },
    {
      "cell_type": "markdown",
      "metadata": {
        "id": "aMUCFZSTNTXP",
        "colab_type": "text"
      },
      "source": [
        "# Split"
      ]
    },
    {
      "cell_type": "code",
      "metadata": {
        "id": "5Kiizz4zUjBz",
        "colab_type": "code",
        "colab": {}
      },
      "source": [
        "// Shuffle\n",
        "var shuffled_indices = Array<Int>(0..<X.scalarCount).shuffled()\n",
        "var shuffled_X = Tensor<Float>(zeros: [X.scalarCount]) // will be replaced\n",
        "var shuffled_y = Tensor<Float>(zeros: [X.scalarCount]) // will be replaced\n",
        "\n",
        "for i in 0..<X.scalarCount{\n",
        "  shuffled_X[i] = X[shuffled_indices[i]]\n",
        "  shuffled_y[i] = X[shuffled_indices[i]]\n",
        "}\n",
        "\n",
        "// print(shuffled_X.description)"
      ],
      "execution_count": 0,
      "outputs": []
    },
    {
      "cell_type": "code",
      "metadata": {
        "id": "Y7LE2Oy5Hk-9",
        "colab_type": "code",
        "colab": {}
      },
      "source": [
        "var split_percent: Float = 0.8\n",
        "var train_count: Int = Int( Float(shuffled_X.scalarCount) * percent )"
      ],
      "execution_count": 0,
      "outputs": []
    },
    {
      "cell_type": "code",
      "metadata": {
        "id": "7SaAClxYP4Sa",
        "colab_type": "code",
        "colab": {}
      },
      "source": [
        "// generate test - train\n",
        "let train_x = shuffled_X.slice(lowerBounds: [0], upperBounds: [train_count])\n",
        "let test_x = shuffled_X.slice(lowerBounds: [train_count], upperBounds: [shuffled_X.scalarCount])\n",
        "let train_y = shuffled_y.slice(lowerBounds: [0], upperBounds: [train_count])\n",
        "let test_y = shuffled_y.slice(lowerBounds: [train_count], upperBounds: [shuffled_X.scalarCount])\n",
        "\n",
        "/*\n",
        "print(train_x.scalarCount)\n",
        "print(train_y.scalarCount)\n",
        "print(test_x.scalarCount)\n",
        "print(test_y.scalarCount)\n",
        "*/\n",
        "\n",
        "// add bias to x_train for mx+'c'\n",
        "// reshape both(ones & train_x) before concatenation\n",
        "var ones_train = Tensor<Float>(ones: [train_count, 1])\n",
        "var x_train_with_bias = train_x.reshaped(to: [train_count,1]).concatenated(with: ones_train, alongAxis: 1)\n",
        "\n",
        "var ones_test = Tensor<Float>(ones: [(num_of_data_points - train_count), 1])\n",
        "var x_test_with_bias = test_x.reshaped(to: [num_of_data_points - train_count, 1]).concatenated(with: ones_test, alongAxis: 1)"
      ],
      "execution_count": 0,
      "outputs": []
    },
    {
      "cell_type": "markdown",
      "metadata": {
        "id": "bp-s8C9KY061",
        "colab_type": "text"
      },
      "source": [
        "# Loss Function"
      ]
    },
    {
      "cell_type": "code",
      "metadata": {
        "id": "GRpnEKshXn0Q",
        "colab_type": "code",
        "colab": {}
      },
      "source": [
        "@differentiable\n",
        "func cost(predicted: Tensor<Float>, true_measure: Tensor<Float>) -> Tensor<Float>{\n",
        "  let m: Float = Float( predicted.scalarCount )\n",
        "  return (1 / (2 * m) ) * pow(predicted - true_measure, 2).sum()\n",
        "}"
      ],
      "execution_count": 0,
      "outputs": []
    },
    {
      "cell_type": "code",
      "metadata": {
        "id": "K_zOvnKCbZlL",
        "colab_type": "code",
        "colab": {}
      },
      "source": [
        "var theta = Tensor<Float>(randomNormal: [2, 1])"
      ],
      "execution_count": 0,
      "outputs": []
    },
    {
      "cell_type": "code",
      "metadata": {
        "id": "hsNYG2Yz77t4",
        "colab_type": "code",
        "colab": {
          "base_uri": "https://localhost:8080/",
          "height": 333
        },
        "outputId": "49ebb8e7-41d9-47bd-dcd0-a9e9bae113b7"
      },
      "source": [
        "var pred = theta.transposed()*x_train_with_bias\n",
        "var grad = gradient(at: pred, x_train_with_bias, in:cost)\n",
        "\n",
        "print(grad.0.shape)\n",
        "print(pred.shape)\n",
        "print(x_train_with_bias.shape)\n",
        "\n",
        "var loss = cost(predicted: pred, true_measure: x_train_with_bias)\n",
        "print(\"--> \\(loss)\")\n",
        "\n",
        "\n",
        "for i in 1...10{\n",
        "  var predc = theta.transposed()*x_train_with_bias\n",
        "  var grad = gradient(at: pred, x_train_with_bias, in:cost)\n",
        "  var temp = predc + grad.1\n",
        "  var predc = temp\n",
        "  var grad = gradient(at: predc, x_train_with_bias, in:cost)\n",
        "  var lossc = cost(predicted: predc, true_measure: x_train_with_bias)\n",
        "  print(\"--> \\(lossc)\")\n",
        "}\n"
      ],
      "execution_count": 304,
      "outputs": [
        {
          "output_type": "error",
          "ename": "",
          "evalue": "ignored",
          "traceback": [
            "error: <Cell 304>:16:7: error: definition conflicts with previous value\n  var predc = temp\n      ^\n\n<Cell 304>:13:7: note: previous definition of 'predc' is here\n  var predc = theta.transposed()*x_train_with_bias\n      ^\n\nerror: <Cell 304>:17:7: error: definition conflicts with previous value\n  var grad = gradient(at: predc, x_train_with_bias, in:cost)\n      ^\n\n<Cell 304>:14:7: note: previous definition of 'grad' is here\n  var grad = gradient(at: pred, x_train_with_bias, in:cost)\n      ^\n\n"
          ]
        }
      ]
    },
    {
      "cell_type": "code",
      "metadata": {
        "id": "Swz18Kt5ukom",
        "colab_type": "code",
        "colab": {}
      },
      "source": [
        "\n",
        "var predc = pred + grad.0\n",
        "var lossc = cost(predicted: predc, true_measure: x_test_with_bias)\n",
        "print(\"--> \\(lossc)\")"
      ],
      "execution_count": 0,
      "outputs": []
    }
  ]
}