{
  "nbformat": 4,
  "nbformat_minor": 0,
  "metadata": {
    "colab": {
      "name": "01_02_swift_basics_part_3",
      "provenance": [],
      "collapsed_sections": [],
      "include_colab_link": true
    },
    "kernelspec": {
      "name": "swift",
      "display_name": "Swift"
    }
  },
  "cells": [
    {
      "cell_type": "markdown",
      "metadata": {
        "id": "view-in-github",
        "colab_type": "text"
      },
      "source": [
        "<a href=\"https://colab.research.google.com/github/rakesh4real/swift4tensorflow/blob/master/01_02_swift_basics_part_3.ipynb\" target=\"_parent\"><img src=\"https://colab.research.google.com/assets/colab-badge.svg\" alt=\"Open In Colab\"/></a>"
      ]
    },
    {
      "cell_type": "markdown",
      "metadata": {
        "id": "gwUsu8bZoc0O",
        "colab_type": "text"
      },
      "source": [
        "# 20. Closures\n",
        "\n",
        "Data type like Int, String etc. used extensively in Swift. A closure can be thought of as a variable that holds code.\n",
        "\n",
        "**Note:** You never need to design your own closures so don't be afraid"
      ]
    },
    {
      "cell_type": "code",
      "metadata": {
        "id": "kZRlD4utdPuX",
        "colab_type": "code",
        "colab": {}
      },
      "source": [
        "let vw = UIView()\n",
        "\n",
        "UIView.animate(withDuration: 0.5, animations: {\n",
        "    vw.alpha = 0 // 'vw' holds 'UIView()'\n",
        "})"
      ],
      "execution_count": 0,
      "outputs": []
    },
    {
      "cell_type": "code",
      "metadata": {
        "id": "PyH-0PAup9fj",
        "colab_type": "code",
        "colab": {}
      },
      "source": [
        "// Trailing Closures\n",
        "// -----------------\n",
        "// if the last parameter to a method takes a closure, you can eliminate that \n",
        "// parameter and instead provide it as a block of code inside braces.\n",
        "\n",
        "// example, same code above can be modified to\n",
        "let vw = UIView()\n",
        "\n",
        "UIView.animate(withDuration: 0.5) {\n",
        "    vw.alpha = 0\n",
        "}"
      ],
      "execution_count": 0,
      "outputs": []
    },
    {
      "cell_type": "markdown",
      "metadata": {
        "id": "-MfcNh15qrBt",
        "colab_type": "text"
      },
      "source": [
        "# 21. Protocols\n",
        "\n",
        "They define a set of methods and properties that a type must implement if it says it conforms to the protocol.\n",
        "\n",
        "Three important things : \n",
        "\n",
        "- Both the properties have `{ get set }` after them. This means that conforming types must make them both gettable (readable) and settable (writeable), i.e it is compatible with the Employee protocol it must make those two properties `variables` rather than `constants`.\n",
        "\n",
        "- `doWork()` has no code inside it. It doesnt provide implementations but tell how someting must look like\n",
        "\n",
        "- protocol isn’t a type, which means we can’t create instances of it. But we can create classes and structs that conform to it"
      ]
    },
    {
      "cell_type": "code",
      "metadata": {
        "id": "pIUc6bPjqmz9",
        "colab_type": "code",
        "colab": {}
      },
      "source": [
        "// basic protocol\n",
        "protocol Employee {\n",
        "  var name: String {get set}\n",
        "  var job: String {get set}\n",
        "  func doWork()\n",
        "}"
      ],
      "execution_count": 0,
      "outputs": []
    },
    {
      "cell_type": "code",
      "metadata": {
        "id": "J3wdN3XzsUHB",
        "colab_type": "code",
        "colab": {
          "base_uri": "https://localhost:8080/",
          "height": 51
        },
        "outputId": "6beea047-baf5-44bd-fe42-0484c29f0a07"
      },
      "source": [
        "// Create structs conforming to above protocol\n",
        "struct Executive: Employee{\n",
        "  var name: String = \"Rob\"\n",
        "  var job: String = \"Cop\"\n",
        "  func doWork(){\n",
        "    print(\"I am \\(name) and I am a \\(job)\")\n",
        "  }\n",
        "}\n",
        "\n",
        "struct Manager: Employee{\n",
        "  var name: String = \"Tom\"\n",
        "  var job: String = \"ceo\"\n",
        "  func doWork(){\n",
        "    print(\"I am \\(name) and I am a \\(job)\")\n",
        "  }\n",
        "}\n",
        "\n",
        "// array of protocol 'Employee'\n",
        "var employees: [Employee] = [Manager(), Executive()]\n",
        "\n",
        "for employee in employees{\n",
        "  employee.doWork()\n",
        "}"
      ],
      "execution_count": 7,
      "outputs": [
        {
          "output_type": "stream",
          "text": [
            "I am Tom and I am a ceo\r\n",
            "I am Rob and I am a Cop\r\n"
          ],
          "name": "stdout"
        }
      ]
    },
    {
      "cell_type": "markdown",
      "metadata": {
        "id": "nAbYGGMuuQPQ",
        "colab_type": "text"
      },
      "source": [
        "# 22. Extensions\n",
        "\n",
        "Modify Swift’s data types to add new functionality, and so on in a really clean way – our new code is indistinguishable from existing code."
      ]
    },
    {
      "cell_type": "code",
      "metadata": {
        "id": "2t6bZezxt8x6",
        "colab_type": "code",
        "colab": {}
      },
      "source": [
        ""
      ],
      "execution_count": 0,
      "outputs": []
    }
  ]
}