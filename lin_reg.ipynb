{
  "nbformat": 4,
  "nbformat_minor": 0,
  "metadata": {
    "colab": {
      "name": "lin-reg.ipynb",
      "provenance": [],
      "collapsed_sections": [],
      "include_colab_link": true
    },
    "kernelspec": {
      "name": "swift",
      "display_name": "Swift"
    }
  },
  "cells": [
    {
      "cell_type": "markdown",
      "metadata": {
        "id": "view-in-github",
        "colab_type": "text"
      },
      "source": [
        "<a href=\"https://colab.research.google.com/github/rakesh4real/swift4tensorflow/blob/master/lin_reg.ipynb\" target=\"_parent\"><img src=\"https://colab.research.google.com/assets/colab-badge.svg\" alt=\"Open In Colab\"/></a>"
      ]
    },
    {
      "cell_type": "code",
      "metadata": {
        "id": "kZRlD4utdPuX",
        "colab_type": "code",
        "colab": {}
      },
      "source": [
        "import TensorFlow"
      ],
      "execution_count": 0,
      "outputs": []
    },
    {
      "cell_type": "code",
      "metadata": {
        "id": "jPBmdZOLl8C3",
        "colab_type": "code",
        "outputId": "b97e744c-00eb-45a9-bf1f-0e0dde4e9fc8",
        "colab": {
          "base_uri": "https://localhost:8080/",
          "height": 34
        }
      },
      "source": [
        "// visualisations\n",
        "import Python\n",
        "\n",
        "let plt = Python.import(\"matplotlib.pyplot\")\n",
        "%include \"EnableIPythonDisplay.swift\"\n",
        "IPythonDisplay.shell.enable_matplotlib(\"inline\")"
      ],
      "execution_count": 2,
      "outputs": [
        {
          "output_type": "execute_result",
          "data": {
            "text/plain": [
              "('inline', 'module://ipykernel.pylab.backend_inline')\n"
            ]
          },
          "metadata": {
            "tags": []
          },
          "execution_count": 2
        }
      ]
    },
    {
      "cell_type": "markdown",
      "metadata": {
        "id": "n8jsS9wmmO8I",
        "colab_type": "text"
      },
      "source": [
        "**Create Dataset**"
      ]
    },
    {
      "cell_type": "code",
      "metadata": {
        "id": "RLGzrhf-mOl5",
        "colab_type": "code",
        "colab": {}
      },
      "source": [
        "// -------------------------------------------------------\n",
        "let num_data_points: Float = 100\n",
        "let num_data_points_int: Int = Int(num_data_points)\n",
        "let noise_mean = Tensor<Float>(0)\n",
        "let noise_dev = Tensor<Float>(7)\n",
        "let w0 = Tensor<Float>(3.0)\n",
        "let w1 = Tensor<Float>(2.0)\n",
        "// -------------------------------------------------------\n",
        "\n",
        "let noise = Tensor<Float>(randomNormal: [num_data_points_int], mean: noise_mean, standardDeviation: noise_dev)\n",
        "\n",
        "let X = Tensor<Float>(rangeFrom: 0, to: num_data_points, stride: 1) //[0, num_data_points)\n",
        "let y = w1*X + w0 + noise // y = w1*x + w0 + E "
      ],
      "execution_count": 0,
      "outputs": []
    },
    {
      "cell_type": "code",
      "metadata": {
        "id": "42nyuKU6nKqx",
        "colab_type": "code",
        "outputId": "90b68542-60d7-4172-c07e-27ef93e6d308",
        "colab": {
          "base_uri": "https://localhost:8080/",
          "height": 282
        }
      },
      "source": [
        "// plot\n",
        "plt.close();\n",
        "plt.plot(X.makeNumpyArray(), y.makeNumpyArray(), marker: \"o\")\n",
        "plt.show();"
      ],
      "execution_count": 4,
      "outputs": [
        {
          "output_type": "display_data",
          "data": {
            "image/png": "[encoded data removed]",
            "text/plain": [
              "<Figure size 432x288 with 1 Axes>"
            ]
          },
          "metadata": {
            "tags": []
          }
        },
        {
          "output_type": "execute_result",
          "data": {
            "text/plain": [
              "None\n"
            ]
          },
          "metadata": {
            "tags": []
          },
          "execution_count": 4
        }
      ]
    },
    {
      "cell_type": "markdown",
      "metadata": {
        "id": "fzGU1VdXvfZG",
        "colab_type": "text"
      },
      "source": [
        "**Shuffle**"
      ]
    },
    {
      "cell_type": "code",
      "metadata": {
        "id": "MTaEH1vzviYi",
        "colab_type": "code",
        "colab": {}
      },
      "source": [
        "let shuffled_indices = Array<Int>(0..<X.scalarCount).shuffled()\n",
        "\n",
        "var shuffled_X = Tensor<Float>(zeros: [X.scalarCount]) // temporary\n",
        "var shuffled_y = Tensor<Float>(zeros: [X.scalarCount]) // temporary\n",
        "\n",
        "for i in 0..<X.scalarCount {\n",
        "  shuffled_X[i] = X[shuffled_indices[i]]\n",
        "  shuffled_y[i] = y[shuffled_indices[i]]\n",
        "}"
      ],
      "execution_count": 0,
      "outputs": []
    },
    {
      "cell_type": "markdown",
      "metadata": {
        "id": "iXYjNcwZvLh2",
        "colab_type": "text"
      },
      "source": [
        "**Test - Train Split**"
      ]
    },
    {
      "cell_type": "code",
      "metadata": {
        "id": "C21-NpHdr0t3",
        "colab_type": "code",
        "colab": {}
      },
      "source": [
        "let split_ratio: Float = 0.8\n",
        "let train_count_after_split = Int( Float(X.scalarCount) * split_ratio )"
      ],
      "execution_count": 0,
      "outputs": []
    },
    {
      "cell_type": "code",
      "metadata": {
        "id": "GZss7V7R3Y5g",
        "colab_type": "code",
        "colab": {}
      },
      "source": [
        "var train_count = train_count_after_split // Note"
      ],
      "execution_count": 0,
      "outputs": []
    },
    {
      "cell_type": "code",
      "metadata": {
        "id": "nqB1egknxnoF",
        "colab_type": "code",
        "colab": {}
      },
      "source": [
        "// split\n",
        "var train_x = shuffled_X.slice(lowerBounds: [0], upperBounds: [train_count]) //[0, train_count)\n",
        "var test_x = shuffled_X.slice(lowerBounds: [train_count], upperBounds: [shuffled_X.scalarCount])\n",
        "var train_y = shuffled_y.slice(lowerBounds: [0], upperBounds: [train_count])\n",
        "var test_y = shuffled_y.slice(lowerBounds: [train_count], upperBounds: [shuffled_X.scalarCount])\n",
        "/*\n",
        "print(train_x.scalarCount)\n",
        "print(train_y.scalarCount)\n",
        "print(test_x.scalarCount)\n",
        "print(test_y.scalarCount)\n",
        "*/"
      ],
      "execution_count": 0,
      "outputs": []
    },
    {
      "cell_type": "markdown",
      "metadata": {
        "id": "u1VnjHBky6Zt",
        "colab_type": "text"
      },
      "source": [
        "**Add Extra Bias (w0)**"
      ]
    },
    {
      "cell_type": "code",
      "metadata": {
        "id": "19piejqQxoyk",
        "colab_type": "code",
        "colab": {}
      },
      "source": [
        "// add bias to x_train for mx+'c'\n",
        "// reshape both(ones & train_x) into col vector before concatenation\n",
        "var ones_train = Tensor<Float>(ones: [train_count, 1])\n",
        "var x_train_with_bias = train_x.reshaped(to: [train_count,1]).concatenated(with: ones_train, alongAxis: 1)\n",
        "\n",
        "var ones_test = Tensor<Float>(ones: [(num_data_points_int - train_count), 1])\n",
        "var x_test_with_bias = test_x.reshaped(to: [num_data_points_int - train_count, 1]).concatenated(with: ones_test, alongAxis: 1)"
      ],
      "execution_count": 0,
      "outputs": []
    },
    {
      "cell_type": "code",
      "metadata": {
        "id": "c-cq16FIzVbT",
        "colab_type": "code",
        "colab": {}
      },
      "source": [
        "// add biases to train_x and test_x\n",
        "train_x = x_train_with_bias\n",
        "test_x = x_test_with_bias\n",
        "\n",
        "// reshape to col vec\n",
        "train_y = train_y.reshaped(to: [train_count, 1])\n",
        "test_y = test_y.reshaped(to: [num_data_points_int - train_count, 1])"
      ],
      "execution_count": 0,
      "outputs": []
    },
    {
      "cell_type": "markdown",
      "metadata": {
        "id": "_B0mypzn1KUX",
        "colab_type": "text"
      },
      "source": [
        "**Cost Function**"
      ]
    },
    {
      "cell_type": "code",
      "metadata": {
        "id": "u9YOBfdZ1Q6i",
        "colab_type": "code",
        "colab": {}
      },
      "source": [
        "@differentiable\n",
        "func cost(theta: Tensor<Float>, trues: Tensor<Float>) -> Tensor<Float>{\n",
        "  var predicted = train_x • theta // Global: train_x\n",
        "  var data_points = Float(predicted.scalarCount)\n",
        "  var losses_tensor = (1/2) * pow(predicted - trues, 2) // ------> Tensor\n",
        "  return ( 1/data_points ) * losses_tensor.sum() // -------> Scalar (Standardized. Minimize it)\n",
        "}"
      ],
      "execution_count": 0,
      "outputs": []
    },
    {
      "cell_type": "code",
      "metadata": {
        "id": "NYMzOonkSUG7",
        "colab_type": "code",
        "outputId": "01e13b74-881b-4703-ed34-2a7e3e409713",
        "colab": {
          "base_uri": "https://localhost:8080/",
          "height": 51
        }
      },
      "source": [
        "var theta = Tensor<Float>(randomNormal: [2, 1])\n",
        "print(theta)"
      ],
      "execution_count": 12,
      "outputs": [
        {
          "output_type": "stream",
          "text": [
            "[[0.43261895],\r\n",
            " [ -1.586592]]\r\n"
          ],
          "name": "stdout"
        }
      ]
    },
    {
      "cell_type": "code",
      "metadata": {
        "id": "lMvb4DbAUk6a",
        "colab_type": "code",
        "outputId": "22215b14-f6c0-492a-ad9f-1e60d2e3cbf0",
        "colab": {
          "base_uri": "https://localhost:8080/",
          "height": 34
        }
      },
      "source": [
        "print( cost(theta: theta, trues: train_y) )"
      ],
      "execution_count": 13,
      "outputs": [
        {
          "output_type": "stream",
          "text": [
            "4473.3555\r\n"
          ],
          "name": "stdout"
        }
      ]
    },
    {
      "cell_type": "code",
      "metadata": {
        "id": "gmtXxH5GUqU5",
        "colab_type": "code",
        "outputId": "94373b7e-cb45-46db-c8ce-a74fba8cc0f8",
        "colab": {
          "base_uri": "https://localhost:8080/",
          "height": 51
        }
      },
      "source": [
        "var grad = gradient(at: theta, train_y, in: cost).0 // Note: '0'\n",
        "print(grad)"
      ],
      "execution_count": 14,
      "outputs": [
        {
          "output_type": "stream",
          "text": [
            "[[-5410.154],\r\n",
            " [-82.29677]]\r\n"
          ],
          "name": "stdout"
        }
      ]
    },
    {
      "cell_type": "code",
      "metadata": {
        "id": "4MoD90YDShbS",
        "colab_type": "code",
        "outputId": "7343062d-6731-45b5-b4ab-eb7d122703e8",
        "colab": {
          "base_uri": "https://localhost:8080/",
          "height": 68
        }
      },
      "source": [
        "// Simple\n",
        "\n",
        "for i in 1...3{\n",
        "  var grad = gradient(at: theta, train_y, in: cost).0\n",
        "  theta = theta - grad * 0.001\n",
        "  print( cost(theta: theta, trues: train_y) )\n",
        "}\n"
      ],
      "execution_count": 15,
      "outputs": [
        {
          "output_type": "stream",
          "text": [
            "23457.936\r\n",
            "123617.02\r\n",
            "652037.7\r\n"
          ],
          "name": "stdout"
        }
      ]
    },
    {
      "cell_type": "code",
      "metadata": {
        "id": "YJGSwLgnRBFd",
        "colab_type": "code",
        "outputId": "a2ae52a8-64be-4e1c-9087-887388d92155",
        "colab": {
          "base_uri": "https://localhost:8080/",
          "height": 68
        }
      },
      "source": [
        "// Little more'\n",
        "// Note: Doesn't work for 1000 datapoints\n",
        "var lr = Tensor<Float>(0.0001)\n",
        "var tolerance = Tensor<Float>(0.001)\n",
        "var iter = 0 \n",
        "\n",
        "\n",
        "while true{\n",
        "  // claculate gradient\n",
        "  var grad = gradient(at: theta, train_y, in: cost).0  \n",
        "  var old_theta = theta\n",
        "\n",
        "  // Correct theta\n",
        "  theta = theta - grad * lr\n",
        "  \n",
        "  // Check tolerance. \n",
        "  // pow( pow( , 2), 0.5) is for absolute value\n",
        "  if Bool( pow( pow(old_theta - theta, 2), 0.5 ).sum().<tolerance )!{\n",
        "    print(\"Converged.\")\n",
        "    break\n",
        "  }\n",
        "\n",
        "  // every 100th epoch\n",
        "  if iter % 100 == 0 {\n",
        "    print(\"epoch: \\(iter)\")\n",
        "    print( cost(theta: theta, trues: train_y) )\n",
        "  }\n",
        "  \n",
        "\n",
        "  iter = iter + 1\n",
        "}\n"
      ],
      "execution_count": 16,
      "outputs": [
        {
          "output_type": "stream",
          "text": [
            "epoch: 0\r\n",
            "292987.78\r\n",
            "Converged.\r\n"
          ],
          "name": "stdout"
        }
      ]
    },
    {
      "cell_type": "code",
      "metadata": {
        "id": "ngPcn5yMS6Xq",
        "colab_type": "code",
        "colab": {
          "base_uri": "https://localhost:8080/",
          "height": 51
        },
        "outputId": "8800e0f0-02b7-49ba-9ccb-87cef01d6fe2"
      },
      "source": [
        "theta"
      ],
      "execution_count": 17,
      "outputs": [
        {
          "output_type": "execute_result",
          "data": {
            "text/plain": [
              "[[2.0748417],\n",
              " [-1.555041]]\n"
            ]
          },
          "metadata": {
            "tags": []
          },
          "execution_count": 17
        }
      ]
    },
    {
      "cell_type": "code",
      "metadata": {
        "id": "M9P2hTmJLZ9x",
        "colab_type": "code",
        "colab": {
          "base_uri": "https://localhost:8080/",
          "height": 187
        },
        "outputId": "3d4936e7-2b82-420b-8985-5877561d3e1b"
      },
      "source": [
        "var preds = train_x • theta\n",
        "preds  = preds.reshaped(to: [80])\n",
        "print(preds)"
      ],
      "execution_count": 18,
      "outputs": [
        {
          "output_type": "stream",
          "text": [
            "[  199.7046,  137.45935,  4.6694846,  52.390842,   73.13927,  185.18073,   60.69021,     50.316,\r\n",
            "  12.968851,  129.15999,   68.98958, 108.411575,  135.38452,  158.20778,   149.9084,   174.8065,\r\n",
            "   91.81284,  160.28262,   37.86695,  191.40524,   39.94179,   98.03737,   93.88768, 100.112206,\r\n",
            "   77.28895,  -1.555041,  19.193377,  31.642427,  87.663155,  143.68388,   83.51347,  197.62978,\r\n",
            "  54.465683,  193.48009,  106.33673,  168.58199,  25.417902,  154.05809,  23.343061,  42.016636,\r\n",
            "  44.091476,  166.50714,  122.93546,   81.43863,  133.30968,  46.166317,  102.18705,   66.91474,\r\n",
            "   203.8543,    75.2141,  176.88135,   10.89401,  181.03104,  33.717266,  110.48641,   35.79211,\r\n",
            "  2.5946426,  151.98325,   6.744326,   139.5342,  183.10588,   62.76505,  21.268219,  145.75873,\r\n",
            "  187.25555,  118.78578, 127.085144,  141.60904,   114.6361,  0.5198008,  95.962524,  172.73167,\r\n",
            "  112.56126,    64.8399,   8.819167,   189.3304,  162.35745,  201.77945,   85.58832,  56.540527]\r\n"
          ],
          "name": "stdout"
        }
      ]
    },
    {
      "cell_type": "code",
      "metadata": {
        "id": "zLgaofFdIWx_",
        "colab_type": "code",
        "colab": {
          "base_uri": "https://localhost:8080/",
          "height": 282
        },
        "outputId": "0ead917c-daad-4294-b735-34fe327bd914"
      },
      "source": [
        "plt.close();\n",
        "plt.plot(X.makeNumpyArray(), y.makeNumpyArray(), marker: \"o\")\n",
        "plt.plot(train_x.transposed()[0].reshaped(to: [train_count]).makeNumpyArray(), preds.makeNumpyArray(), marker: \"o\")\n",
        "var y_without_noise = train_x • Tensor<Float>([3, 2]).reshaped(to: [2, 1])\n",
        "plt.plot(train_x.transposed()[0].reshaped(to: [train_count]).makeNumpyArray(), y_without_noise.makeNumpyArray())\n",
        "plt.show();"
      ],
      "execution_count": 22,
      "outputs": [
        {
          "output_type": "display_data",
          "data": {
            "image/png": "[encoded data removed]",
            "text/plain": [
              "<Figure size 432x288 with 1 Axes>"
            ]
          },
          "metadata": {
            "tags": []
          }
        },
        {
          "output_type": "execute_result",
          "data": {
            "text/plain": [
              "None\n"
            ]
          },
          "metadata": {
            "tags": []
          },
          "execution_count": 22
        }
      ]
    },
    {
      "cell_type": "code",
      "metadata": {
        "id": "MO9E9pNLcsVN",
        "colab_type": "code",
        "colab": {}
      },
      "source": [
        ""
      ],
      "execution_count": 0,
      "outputs": []
    }
  ]
}