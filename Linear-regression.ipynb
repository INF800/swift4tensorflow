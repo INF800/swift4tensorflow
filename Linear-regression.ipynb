{
  "nbformat": 4,
  "nbformat_minor": 0,
  "metadata": {
    "colab": {
      "name": "lin-reg.ipynb",
      "provenance": [],
      "collapsed_sections": [],
      "include_colab_link": true
    },
    "kernelspec": {
      "name": "swift",
      "display_name": "Swift"
    }
  },
  "cells": [
    {
      "cell_type": "markdown",
      "metadata": {
        "id": "view-in-github",
        "colab_type": "text"
      },
      "source": [
        "<a href=\"https://colab.research.google.com/github/rakesh4real/swift4tensorflow/blob/master/Linear-regression.ipynb\" target=\"_parent\"><img src=\"https://colab.research.google.com/assets/colab-badge.svg\" alt=\"Open In Colab\"/></a>"
      ]
    },
    {
      "cell_type": "code",
      "metadata": {
        "id": "kZRlD4utdPuX",
        "colab_type": "code",
        "colab": {}
      },
      "source": [
        "import TensorFlow"
      ],
      "execution_count": 0,
      "outputs": []
    },
    {
      "cell_type": "code",
      "metadata": {
        "id": "jPBmdZOLl8C3",
        "colab_type": "code",
        "outputId": "41eea8f9-6c50-423d-9fe5-af8db1f7378d",
        "colab": {
          "base_uri": "https://localhost:8080/",
          "height": 34
        }
      },
      "source": [
        "// visualisations\n",
        "import Python\n",
        "\n",
        "let plt = Python.import(\"matplotlib.pyplot\")\n",
        "%include \"EnableIPythonDisplay.swift\"\n",
        "IPythonDisplay.shell.enable_matplotlib(\"inline\")"
      ],
      "execution_count": 2,
      "outputs": [
        {
          "output_type": "execute_result",
          "data": {
            "text/plain": [
              "('inline', 'module://ipykernel.pylab.backend_inline')\n"
            ]
          },
          "metadata": {
            "tags": []
          },
          "execution_count": 2
        }
      ]
    },
    {
      "cell_type": "markdown",
      "metadata": {
        "id": "n8jsS9wmmO8I",
        "colab_type": "text"
      },
      "source": [
        "**Create Dataset**"
      ]
    },
    {
      "cell_type": "code",
      "metadata": {
        "id": "RLGzrhf-mOl5",
        "colab_type": "code",
        "colab": {}
      },
      "source": [
        "// -------------------------------------------------------\n",
        "let num_data_points: Float = 100\n",
        "let num_data_points_int: Int = Int(num_data_points)\n",
        "let noise_mean = Tensor<Float>(0)\n",
        "let noise_dev = Tensor<Float>(10)\n",
        "let w0 = Tensor<Float>(3.0)\n",
        "let w1 = Tensor<Float>(2.0)\n",
        "// -------------------------------------------------------\n",
        "\n",
        "let noise = Tensor<Float>(randomNormal: [num_data_points_int], mean: noise_mean, standardDeviation: noise_dev)\n",
        "\n",
        "let X = Tensor<Float>(rangeFrom: 0, to: num_data_points, stride: 1) //[0, num_data_points)\n",
        "let y = w1*X + w0 + noise // y = w1*x + w0 + E "
      ],
      "execution_count": 0,
      "outputs": []
    },
    {
      "cell_type": "code",
      "metadata": {
        "id": "42nyuKU6nKqx",
        "colab_type": "code",
        "outputId": "78f5bf2d-ce63-4472-fa85-261150b3ebbe",
        "colab": {
          "base_uri": "https://localhost:8080/",
          "height": 282
        }
      },
      "source": [
        "// plot\n",
        "plt.close();\n",
        "plt.plot(X.makeNumpyArray(), y.makeNumpyArray(), marker: \"o\")\n",
        "plt.show();"
      ],
      "execution_count": 6,
      "outputs": [
        {
          "output_type": "display_data",
          "data": {
            "image/png": "[encoded data removed]",
            "text/plain": [
              "<Figure size 432x288 with 1 Axes>"
            ]
          },
          "metadata": {
            "tags": []
          }
        },
        {
          "output_type": "execute_result",
          "data": {
            "text/plain": [
              "None\n"
            ]
          },
          "metadata": {
            "tags": []
          },
          "execution_count": 6
        }
      ]
    },
    {
      "cell_type": "markdown",
      "metadata": {
        "id": "fzGU1VdXvfZG",
        "colab_type": "text"
      },
      "source": [
        "**Shuffle**"
      ]
    },
    {
      "cell_type": "code",
      "metadata": {
        "id": "MTaEH1vzviYi",
        "colab_type": "code",
        "colab": {}
      },
      "source": [
        "let shuffled_indices = Array<Int>(0..<X.scalarCount).shuffled()\n",
        "\n",
        "var shuffled_X = Tensor<Float>(zeros: [X.scalarCount]) // temporary\n",
        "var shuffled_y = Tensor<Float>(zeros: [X.scalarCount]) // temporary\n",
        "\n",
        "for i in 0..<X.scalarCount {\n",
        "  shuffled_X[i] = X[shuffled_indices[i]]\n",
        "  shuffled_y[i] = y[shuffled_indices[i]]\n",
        "}"
      ],
      "execution_count": 0,
      "outputs": []
    },
    {
      "cell_type": "markdown",
      "metadata": {
        "id": "iXYjNcwZvLh2",
        "colab_type": "text"
      },
      "source": [
        "**Test - Train Split**"
      ]
    },
    {
      "cell_type": "code",
      "metadata": {
        "id": "C21-NpHdr0t3",
        "colab_type": "code",
        "colab": {}
      },
      "source": [
        "let split_ratio: Float = 0.8\n",
        "let train_count_after_split = Int( Float(X.scalarCount) * split_ratio )"
      ],
      "execution_count": 0,
      "outputs": []
    },
    {
      "cell_type": "code",
      "metadata": {
        "id": "GZss7V7R3Y5g",
        "colab_type": "code",
        "colab": {}
      },
      "source": [
        "var train_count = train_count_after_split // Note"
      ],
      "execution_count": 0,
      "outputs": []
    },
    {
      "cell_type": "code",
      "metadata": {
        "id": "nqB1egknxnoF",
        "colab_type": "code",
        "colab": {}
      },
      "source": [
        "// split\n",
        "var train_x = shuffled_X.slice(lowerBounds: [0], upperBounds: [train_count]) //[0, train_count)\n",
        "var test_x = shuffled_X.slice(lowerBounds: [train_count], upperBounds: [shuffled_X.scalarCount])\n",
        "var train_y = shuffled_y.slice(lowerBounds: [0], upperBounds: [train_count])\n",
        "var test_y = shuffled_y.slice(lowerBounds: [train_count], upperBounds: [shuffled_X.scalarCount])\n",
        "/*\n",
        "print(train_x.scalarCount)\n",
        "print(train_y.scalarCount)\n",
        "print(test_x.scalarCount)\n",
        "print(test_y.scalarCount)\n",
        "*/"
      ],
      "execution_count": 0,
      "outputs": []
    },
    {
      "cell_type": "markdown",
      "metadata": {
        "id": "u1VnjHBky6Zt",
        "colab_type": "text"
      },
      "source": [
        "**Add Extra Bias (w0)**"
      ]
    },
    {
      "cell_type": "code",
      "metadata": {
        "id": "19piejqQxoyk",
        "colab_type": "code",
        "colab": {}
      },
      "source": [
        "// add bias to x_train for mx+'c'\n",
        "// reshape both(ones & train_x) into col vector before concatenation\n",
        "var ones_train = Tensor<Float>(ones: [train_count, 1])\n",
        "var x_train_with_bias = train_x.reshaped(to: [train_count,1]).concatenated(with: ones_train, alongAxis: 1)\n",
        "\n",
        "var ones_test = Tensor<Float>(ones: [(num_data_points_int - train_count), 1])\n",
        "var x_test_with_bias = test_x.reshaped(to: [num_data_points_int - train_count, 1]).concatenated(with: ones_test, alongAxis: 1)"
      ],
      "execution_count": 0,
      "outputs": []
    },
    {
      "cell_type": "code",
      "metadata": {
        "id": "c-cq16FIzVbT",
        "colab_type": "code",
        "colab": {}
      },
      "source": [
        "// add biases to train_x and test_x\n",
        "train_x = x_train_with_bias\n",
        "test_x = x_test_with_bias\n",
        "\n",
        "// reshape to col vec\n",
        "train_y = train_y.reshaped(to: [train_count, 1])\n",
        "test_y = test_y.reshaped(to: [num_data_points_int - train_count, 1])"
      ],
      "execution_count": 0,
      "outputs": []
    },
    {
      "cell_type": "markdown",
      "metadata": {
        "id": "_B0mypzn1KUX",
        "colab_type": "text"
      },
      "source": [
        "**Cost Function**"
      ]
    },
    {
      "cell_type": "code",
      "metadata": {
        "id": "u9YOBfdZ1Q6i",
        "colab_type": "code",
        "colab": {}
      },
      "source": [
        "@differentiable\n",
        "func cost(theta: Tensor<Float>, trues: Tensor<Float>) -> Tensor<Float>{\n",
        "  var predicted = train_x • theta // Global: train_x\n",
        "  var data_points = Float(predicted.scalarCount)\n",
        "  var losses_tensor = (1/2) * pow(predicted - trues, 2) // ------> Tensor\n",
        "  return ( 1/data_points ) * losses_tensor.sum() // -------> Scalar (Standardized. Minimize it)\n",
        "}"
      ],
      "execution_count": 0,
      "outputs": []
    },
    {
      "cell_type": "code",
      "metadata": {
        "id": "NYMzOonkSUG7",
        "colab_type": "code",
        "colab": {
          "base_uri": "https://localhost:8080/",
          "height": 51
        },
        "outputId": "b0498cee-558f-4b51-b9bc-64ace7371992"
      },
      "source": [
        "var theta = Tensor<Float>(randomNormal: [2, 1])\n",
        "print(theta)"
      ],
      "execution_count": 14,
      "outputs": [
        {
          "output_type": "stream",
          "text": [
            "[[-0.628048],\r\n",
            " [2.0439851]]\r\n"
          ],
          "name": "stdout"
        }
      ]
    },
    {
      "cell_type": "code",
      "metadata": {
        "id": "lMvb4DbAUk6a",
        "colab_type": "code",
        "outputId": "d4a43dea-08ff-4be2-bb99-633382d60147",
        "colab": {
          "base_uri": "https://localhost:8080/",
          "height": 34
        }
      },
      "source": [
        "print( cost(theta: theta, trues: train_y) )"
      ],
      "execution_count": 15,
      "outputs": [
        {
          "output_type": "stream",
          "text": [
            "11848.8125\r\n"
          ],
          "name": "stdout"
        }
      ]
    },
    {
      "cell_type": "code",
      "metadata": {
        "id": "gmtXxH5GUqU5",
        "colab_type": "code",
        "outputId": "4207678a-dcf7-4824-c19a-8ca0a60a562c",
        "colab": {
          "base_uri": "https://localhost:8080/",
          "height": 51
        }
      },
      "source": [
        "var grad = gradient(at: theta, train_y, in: cost).0 // Note: '0'\n",
        "print(grad)"
      ],
      "execution_count": 21,
      "outputs": [
        {
          "output_type": "stream",
          "text": [
            "[[ -8945.413],\r\n",
            " [-134.23346]]\r\n"
          ],
          "name": "stdout"
        }
      ]
    },
    {
      "cell_type": "code",
      "metadata": {
        "id": "4MoD90YDShbS",
        "colab_type": "code",
        "outputId": "e18350ce-e208-4d8a-9379-62bd28187500",
        "colab": {
          "base_uri": "https://localhost:8080/",
          "height": 1000
        }
      },
      "source": [
        "//print( cost(theta: theta, trues: train_y) )\n",
        "\n",
        "for _ in 0...100{\n",
        "  var grad = gradient(at: theta, train_y, in: cost).0\n",
        "  theta = theta - grad * 0.0001\n",
        "  print( cost(theta: theta, trues: train_y) )\n",
        "}\n"
      ],
      "execution_count": 27,
      "outputs": [
        {
          "output_type": "stream",
          "text": [
            "5673.4478\r\n",
            "2508.0613\r\n",
            "1126.6139\r\n",
            "523.7188\r\n",
            "260.60135\r\n",
            "145.77094\r\n",
            "95.65631\r\n",
            "73.78513\r\n",
            "64.24001\r\n",
            "60.074306\n",
            "58.256264\n",
            "57.46281\n",
            "57.116497\n",
            "56.96534\n",
            "56.89934\n",
            "56.87052\n",
            "56.85792\n",
            "56.852398\n",
            "56.849964\n",
            "56.848858\n",
            "56.848366\n",
            "56.84812\n",
            "56.848\n",
            "56.84791\n",
            "56.84787\n",
            "56.847816\n",
            "56.847767\n",
            "56.847717\n",
            "56.847668\n",
            "56.847633\n",
            "56.847595\n",
            "56.84756\n",
            "56.8475\n",
            "56.84746\n",
            "56.847412\n",
            "56.847378\n",
            "56.84733\n",
            "56.84729\n",
            "56.847248\n",
            "56.847206\n",
            "56.847157\n",
            "56.847126\n",
            "56.847076\n",
            "56.847034\n",
            "56.846985\n",
            "56.846935\n",
            "56.846912\n",
            "56.84685\n",
            "56.84681\n",
            "56.846767\n",
            "56.84673\n",
            "56.84668\n",
            "56.846645\n",
            "56.8466\n",
            "56.846558\n",
            "56.846497\n",
            "56.846474\n",
            "56.84643\n",
            "56.846386\n",
            "56.84634\n",
            "56.84631\n",
            "56.846252\n",
            "56.84622\n",
            "56.846172\n",
            "56.84613\n",
            "56.846096\n",
            "56.84605\n",
            "56.846004\n",
            "56.845955\n",
            "56.845905\n",
            "56.845875\n",
            "56.845825\n",
            "56.845776\n",
            "56.845753\n",
            "56.8457\n",
            "56.845654\n",
            "56.84562\n",
            "56.845577\n",
            "56.84553\n",
            "56.845478\n",
            "56.845448\n",
            "56.845398\n",
            "56.845345\n",
            "56.845318\n",
            "56.845264\n",
            "56.845226\n",
            "56.84518\n",
            "56.845154\n",
            "56.845093\n",
            "56.84505\n",
            "56.845013\n",
            "56.844982\n",
            "56.84493\n",
            "56.844887\n",
            "56.84485\n",
            "56.8448\n",
            "56.844753\n",
            "56.844715\n",
            "56.844666\n",
            "56.844635\n",
            "56.84458\n"
          ],
          "name": "stdout"
        }
      ]
    },
    {
      "cell_type": "code",
      "metadata": {
        "id": "ngPcn5yMS6Xq",
        "colab_type": "code",
        "outputId": "f15ce6a9-f6df-4bbb-c7c3-53a60790a93e",
        "colab": {
          "base_uri": "https://localhost:8080/",
          "height": 51
        }
      },
      "source": [
        "theta"
      ],
      "execution_count": 28,
      "outputs": [
        {
          "output_type": "execute_result",
          "data": {
            "text/plain": [
              "[[2.0076783],\n",
              " [  2.09075]]\n"
            ]
          },
          "metadata": {
            "tags": []
          },
          "execution_count": 28
        }
      ]
    },
    {
      "cell_type": "code",
      "metadata": {
        "id": "M9P2hTmJLZ9x",
        "colab_type": "code",
        "colab": {
          "base_uri": "https://localhost:8080/",
          "height": 187
        },
        "outputId": "7658f7fe-7066-4456-aadd-8bf0fc0b509e"
      },
      "source": [
        "var preds = train_x • theta\n",
        "preds  = preds.reshaped(to: [80])\n",
        "print(preds)"
      ],
      "execution_count": 33,
      "outputs": [
        {
          "output_type": "stream",
          "text": [
            "[ 178.76643,   66.33646,  128.57448,  160.69733,  56.298065,  146.64359,  54.290386,   92.43627,\r\n",
            "   78.38252,  114.52074,   84.40556,   190.8125,  152.66661,  34.213604,   74.36717,  48.267353,\r\n",
            "  168.72804,  150.65894,   126.5668,   134.5975,   136.6052,  170.73572,  102.47466,  196.83554,\r\n",
            "  12.129141,  192.82018,  22.167532, 118.536095,    62.3211,  132.58983,  166.72037,   108.4977,\r\n",
            "  184.78946,  174.75107,  16.144499,  18.152176, 112.513054,  182.78178,   8.113785,  20.159855,\r\n",
            "  100.46699,  180.77411,   72.35949,  142.62822,  124.55913,   76.37485,  44.251995,  36.221283,\r\n",
            "  70.351814,  40.236637,    90.4286,  42.244316,   144.6359,  116.52841,  120.54377,  186.79715,\r\n",
            "  4.0984282,    2.09075,  28.190567, 122.551445,  50.275032,  52.282707,  194.82787,  106.49002,\r\n",
            "  156.68198,  200.85089,  198.84322,  110.50538,  58.305744,  94.443954,  164.71268,  32.205925,\r\n",
            "  148.65126,   98.45931,  140.62054,  6.1061068, 104.482346,  30.198246,  138.61287,   88.42091]\r\n"
          ],
          "name": "stdout"
        }
      ]
    },
    {
      "cell_type": "code",
      "metadata": {
        "id": "zLgaofFdIWx_",
        "colab_type": "code",
        "colab": {
          "base_uri": "https://localhost:8080/",
          "height": 282
        },
        "outputId": "42f0b427-adda-4d2b-ded2-a83d9d410022"
      },
      "source": [
        "plt.close();\n",
        "//plt.plot(train_x.transposed()[0].reshaped(to: [80]).makeNumpyArray(), train_y.transposed()[0].reshaped(to: [80]).makeNumpyArray(), marker: \"o\")\n",
        "plt.plot(X.makeNumpyArray(), y.makeNumpyArray(), marker: \"o\")\n",
        "plt.plot(train_x.transposed()[0].reshaped(to: [80]).makeNumpyArray(), preds.makeNumpyArray(), marker: \"o\")\n",
        "plt.show();"
      ],
      "execution_count": 44,
      "outputs": [
        {
          "output_type": "display_data",
          "data": {
            "image/png": "[encoded data removed]",
            "text/plain": [
              "<Figure size 432x288 with 1 Axes>"
            ]
          },
          "metadata": {
            "tags": []
          }
        },
        {
          "output_type": "execute_result",
          "data": {
            "text/plain": [
              "None\n"
            ]
          },
          "metadata": {
            "tags": []
          },
          "execution_count": 44
        }
      ]
    },
    {
      "cell_type": "code",
      "metadata": {
        "id": "P08NBxsNMJzn",
        "colab_type": "code",
        "colab": {
          "base_uri": "https://localhost:8080/",
          "height": 85
        },
        "outputId": "49a5f8ff-8916-4210-8dcf-cc1aee49198e"
      },
      "source": [
        "train_x.transposed()[0]"
      ],
      "execution_count": 41,
      "outputs": [
        {
          "output_type": "execute_result",
          "data": {
            "text/plain": [
              "[1.0, 1.0, 1.0, 1.0, 1.0, 1.0, 1.0, 1.0, 1.0, 1.0, 1.0, 1.0, 1.0, 1.0, 1.0, 1.0, 1.0, 1.0, 1.0, 1.0, 1.0, 1.0, 1.0, 1.0, 1.0, 1.0,\n",
              " 1.0, 1.0, 1.0, 1.0, 1.0, 1.0, 1.0, 1.0, 1.0, 1.0, 1.0, 1.0, 1.0, 1.0, 1.0, 1.0, 1.0, 1.0, 1.0, 1.0, 1.0, 1.0, 1.0, 1.0, 1.0, 1.0,\n",
              " 1.0, 1.0, 1.0, 1.0, 1.0, 1.0, 1.0, 1.0, 1.0, 1.0, 1.0, 1.0, 1.0, 1.0, 1.0, 1.0, 1.0, 1.0, 1.0, 1.0, 1.0, 1.0, 1.0, 1.0, 1.0, 1.0,\n",
              " 1.0, 1.0]\n"
            ]
          },
          "metadata": {
            "tags": []
          },
          "execution_count": 41
        }
      ]
    },
    {
      "cell_type": "code",
      "metadata": {
        "id": "LMs8f3EIMoA9",
        "colab_type": "code",
        "colab": {}
      },
      "source": [
        ""
      ],
      "execution_count": 0,
      "outputs": []
    }
  ]
}