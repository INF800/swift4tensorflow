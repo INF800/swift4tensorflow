{
  "nbformat": 4,
  "nbformat_minor": 0,
  "metadata": {
    "colab": {
      "name": "01-swift-basics.ipynb",
      "provenance": [],
      "collapsed_sections": [],
      "include_colab_link": true
    },
    "kernelspec": {
      "name": "swift",
      "display_name": "Swift"
    }
  },
  "cells": [
    {
      "cell_type": "markdown",
      "metadata": {
        "id": "view-in-github",
        "colab_type": "text"
      },
      "source": [
        "<a href=\"https://colab.research.google.com/github/rakesh4real/swift4tensorflow/blob/master/01_swift_basics.ipynb\" target=\"_parent\"><img src=\"https://colab.research.google.com/assets/colab-badge.svg\" alt=\"Open In Colab\"/></a>"
      ]
    },
    {
      "cell_type": "markdown",
      "metadata": {
        "id": "Qm7qbm9I1hSa",
        "colab_type": "text"
      },
      "source": [
        "[Credits](https://www.hackingwithswift.com/read/0/)"
      ]
    },
    {
      "cell_type": "markdown",
      "metadata": {
        "id": "gyANlcVg4-eQ",
        "colab_type": "text"
      },
      "source": [
        "# 1. Shell Commands"
      ]
    },
    {
      "cell_type": "code",
      "metadata": {
        "id": "pVoWZrYJ33u6",
        "colab_type": "code",
        "outputId": "a27da265-5e23-4e5b-b799-9c0bd67c9b36",
        "colab": {
          "base_uri": "https://localhost:8080/",
          "height": 68
        }
      },
      "source": [
        "import Foundation\n",
        "\n",
        "// Create shell func\n",
        "@discardableResult\n",
        "func shell(_ args: String...) -> Int32 {\n",
        "    let task = Process()\n",
        "    task.launchPath = \"/usr/bin/env\"\n",
        "    task.arguments = args\n",
        "    task.launch()\n",
        "    task.waitUntilExit()\n",
        "    return task.terminationStatus\n",
        "}\n",
        "\n",
        "// Run command(s) using shell func\n",
        "shell(\"ls\")\n",
        "shell(\"pwd\")\n",
        "\n",
        "// Find version of swift"
      ],
      "execution_count": 0,
      "outputs": [
        {
          "output_type": "stream",
          "text": [
            "sample_data\n",
            "/content\n"
          ],
          "name": "stdout"
        },
        {
          "output_type": "execute_result",
          "data": {
            "text/plain": [
              "0\n"
            ]
          },
          "metadata": {
            "tags": []
          },
          "execution_count": 18
        }
      ]
    },
    {
      "cell_type": "markdown",
      "metadata": {
        "id": "pUSLyxrQ01DF",
        "colab_type": "text"
      },
      "source": [
        "# 2. Variables and Constants "
      ]
    },
    {
      "cell_type": "code",
      "metadata": {
        "id": "cE5GNOba07cl",
        "colab_type": "code",
        "outputId": "c4105c78-23bb-4c75-8762-1991b5c941f4",
        "colab": {
          "base_uri": "https://localhost:8080/",
          "height": 214
        }
      },
      "source": [
        "let a = 10\n",
        "a = 20 // Not possible because constant\n",
        "\n",
        "var b = 20\n",
        "b = 10 // Possible because variable"
      ],
      "execution_count": 0,
      "outputs": [
        {
          "output_type": "error",
          "ename": "",
          "evalue": "ignored",
          "traceback": [
            "error: <Cell 19>:2:1: error: cannot assign to value: 'a' is a 'let' constant\na = 20 // Not possible because constant\n^\n\n<Cell 19>:1:1: note: change 'let' to 'var' to make it mutable\nlet a = 10\n^~~\nvar\n\n"
          ]
        }
      ]
    },
    {
      "cell_type": "markdown",
      "metadata": {
        "id": "4TGfRHsJ1bzD",
        "colab_type": "text"
      },
      "source": [
        "# 3. Types of Data"
      ]
    },
    {
      "cell_type": "code",
      "metadata": {
        "id": "WRp2Ks481foA",
        "colab_type": "code",
        "colab": {}
      },
      "source": [
        "var Name : String\n",
        "Name = \"Swift\""
      ],
      "execution_count": 0,
      "outputs": []
    },
    {
      "cell_type": "code",
      "metadata": {
        "id": "v8FDqyRR3R2x",
        "colab_type": "code",
        "colab": {}
      },
      "source": [
        "var Year : Int\n",
        "Year = 2014"
      ],
      "execution_count": 0,
      "outputs": []
    },
    {
      "cell_type": "code",
      "metadata": {
        "id": "_lnH4JWE3WNo",
        "colab_type": "code",
        "colab": {}
      },
      "source": [
        "var Version: Float\n",
        "Version = 5.0\n",
        "\n",
        "var VersionDouble: Double\n",
        "VersionDouble = 5.00000000 // Higher precision than float"
      ],
      "execution_count": 0,
      "outputs": []
    },
    {
      "cell_type": "code",
      "metadata": {
        "id": "HWKzzXGp5dzY",
        "colab_type": "code",
        "colab": {}
      },
      "source": [
        "var TrueOrFlase : Bool\n",
        "TrueOrFlase = true"
      ],
      "execution_count": 0,
      "outputs": []
    },
    {
      "cell_type": "code",
      "metadata": {
        "id": "wq3bwRAq6B-y",
        "colab_type": "code",
        "outputId": "e25c297c-79b3-46a0-c3e8-fb05fbe9701c",
        "colab": {
          "base_uri": "https://localhost:8080/",
          "height": 129
        }
      },
      "source": [
        "Name = 1 // Error as 'String'"
      ],
      "execution_count": 0,
      "outputs": [
        {
          "output_type": "error",
          "ename": "",
          "evalue": "ignored",
          "traceback": [
            "error: <Cell 26>:1:8: error: cannot assign value of type 'Int' to type 'String'\nName = 1 // Error as 'String'\n       ^\n\n"
          ]
        }
      ]
    },
    {
      "cell_type": "code",
      "metadata": {
        "id": "L7OQ9aqQ6G9P",
        "colab_type": "code",
        "colab": {}
      },
      "source": [
        "// We can initialize variable\n",
        "// without type and let Swift \n",
        "// decide the type\n",
        "var name = \"This is a string\"\n",
        "\n",
        "// we can initalize in one line as well\n",
        "var name2 : String = \"Written by Rakesh\""
      ],
      "execution_count": 0,
      "outputs": []
    },
    {
      "cell_type": "markdown",
      "metadata": {
        "id": "Ezyux-vh63qc",
        "colab_type": "text"
      },
      "source": [
        "# 4. Operators"
      ]
    },
    {
      "cell_type": "code",
      "metadata": {
        "id": "Jr5_gwZ366e_",
        "colab_type": "code",
        "outputId": "45c565f3-d500-4878-9292-056229a32bc8",
        "colab": {
          "base_uri": "https://localhost:8080/",
          "height": 34
        }
      },
      "source": [
        "// + to add, - to subtract, * to multiply, / to divide, = to assign value,  % for reminder and so on\n",
        "var a = 10\n",
        "a += 10\n",
        "print(a)"
      ],
      "execution_count": 0,
      "outputs": [
        {
          "output_type": "stream",
          "text": [
            "20\r\n"
          ],
          "name": "stdout"
        }
      ]
    },
    {
      "cell_type": "code",
      "metadata": {
        "id": "ZVluV_o77jTn",
        "colab_type": "code",
        "outputId": "4ccedeee-6646-4030-90b4-c07c9600282e",
        "colab": {
          "base_uri": "https://localhost:8080/",
          "height": 34
        }
      },
      "source": [
        "// String addition\n",
        "var s1 = \"This\"\n",
        "var s2 = \"Swift\"\n",
        "print(s1 + \" is \" + s2)"
      ],
      "execution_count": 0,
      "outputs": [
        {
          "output_type": "stream",
          "text": [
            "This is Swift\r\n"
          ],
          "name": "stdout"
        }
      ]
    },
    {
      "cell_type": "code",
      "metadata": {
        "id": "2Jjl6ocW7zrY",
        "colab_type": "code",
        "outputId": "d987dc2e-7ddf-4560-d623-e87612a4932c",
        "colab": {
          "base_uri": "https://localhost:8080/",
          "height": 68
        }
      },
      "source": [
        "// Greater than (>), greater than or equal (>=), and less than (<) and not(!)\n",
        "print(a > 100)\n",
        "print(a == 100)\n",
        "print(a != 100)"
      ],
      "execution_count": 0,
      "outputs": [
        {
          "output_type": "stream",
          "text": [
            "false\r\n",
            "false\r\n",
            "true\r\n"
          ],
          "name": "stdout"
        }
      ]
    },
    {
      "cell_type": "markdown",
      "metadata": {
        "id": "7Dr3fR2H8s_i",
        "colab_type": "text"
      },
      "source": [
        "# 5. String Interpolation"
      ]
    },
    {
      "cell_type": "code",
      "metadata": {
        "id": "AVEoIf5b9-nB",
        "colab_type": "code",
        "outputId": "6eb3445d-eccf-48b5-fe0a-d25c24eacb95",
        "colab": {
          "base_uri": "https://localhost:8080/",
          "height": 197
        }
      },
      "source": [
        "// Less convinient and even can't do : String + Int as below\n",
        "print(\"Your name is \" + Name + \" and age is \" + Year)"
      ],
      "execution_count": 0,
      "outputs": [
        {
          "output_type": "error",
          "ename": "",
          "evalue": "ignored",
          "traceback": [
            "error: <Cell 40>:2:47: error: binary operator '+' cannot be applied to operands of type 'String' and 'Int'\nprint(\"Your name is \" + Name + \" and age is \" + Year)\n      ~~~~~~~~~~~~~~~~~~~~~~~~~~~~~~~~~~~~~~~ ^ ~~~~\n\n<Cell 40>:2:47: note: overloads for '+' exist with these partially matching parameter lists: (Int, Int), (String, String)\nprint(\"Your name is \" + Name + \" and age is \" + Year)\n                                              ^\n\n"
          ]
        }
      ]
    },
    {
      "cell_type": "code",
      "metadata": {
        "id": "3t06TjVz83E9",
        "colab_type": "code",
        "outputId": "37886de5-56a8-4bc4-8b63-ffef7d2b782b",
        "colab": {
          "base_uri": "https://localhost:8080/",
          "height": 51
        }
      },
      "source": [
        "// More convinient\n",
        "print(\"Your name is \\(Name) and age is \\(Year)\")\n",
        "\n",
        "// Can  even calculate\n",
        "print(\"Your name is \\(Name) and age is \\(2020 - Year)\")"
      ],
      "execution_count": 0,
      "outputs": [
        {
          "output_type": "stream",
          "text": [
            "Your name is Swift and age is 2014\r\n",
            "Your name is Swift and age is 6\r\n"
          ],
          "name": "stdout"
        }
      ]
    },
    {
      "cell_type": "markdown",
      "metadata": {
        "id": "l95b61VD-KEB",
        "colab_type": "text"
      },
      "source": [
        "# 6. Arrays"
      ]
    },
    {
      "cell_type": "code",
      "metadata": {
        "id": "lN0FQMza9XVF",
        "colab_type": "code",
        "colab": {}
      },
      "source": [
        ""
      ],
      "execution_count": 0,
      "outputs": []
    }
  ]
}