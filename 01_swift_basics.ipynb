{
  "nbformat": 4,
  "nbformat_minor": 0,
  "metadata": {
    "colab": {
      "name": "01-swift-basics.ipynb",
      "provenance": [],
      "collapsed_sections": [],
      "include_colab_link": true
    },
    "kernelspec": {
      "name": "swift",
      "display_name": "Swift"
    }
  },
  "cells": [
    {
      "cell_type": "markdown",
      "metadata": {
        "id": "view-in-github",
        "colab_type": "text"
      },
      "source": [
        "<a href=\"https://colab.research.google.com/github/rakesh4real/swift4tensorflow/blob/master/01_swift_basics.ipynb\" target=\"_parent\"><img src=\"https://colab.research.google.com/assets/colab-badge.svg\" alt=\"Open In Colab\"/></a>"
      ]
    },
    {
      "cell_type": "markdown",
      "metadata": {
        "id": "Qm7qbm9I1hSa",
        "colab_type": "text"
      },
      "source": [
        "Credits: https://www.hackingwithswift.com/read/0/"
      ]
    },
    {
      "cell_type": "markdown",
      "metadata": {
        "id": "pUSLyxrQ01DF",
        "colab_type": "text"
      },
      "source": [
        "# Variables and Constants "
      ]
    },
    {
      "cell_type": "code",
      "metadata": {
        "id": "cE5GNOba07cl",
        "colab_type": "code",
        "outputId": "09b1843b-1aa2-436d-ddb1-1209d46dea65",
        "colab": {
          "base_uri": "https://localhost:8080/",
          "height": 214
        }
      },
      "source": [
        "let a = 10\n",
        "a = 20 // Not possible because constant\n",
        "\n",
        "var b = 20\n",
        "b = 10 // Possible because variable"
      ],
      "execution_count": 0,
      "outputs": [
        {
          "output_type": "error",
          "ename": "",
          "evalue": "ignored",
          "traceback": [
            "error: <Cell 4>:2:1: error: cannot assign to value: 'a' is a 'let' constant\na = 20 // Not possible because constant\n^\n\n<Cell 4>:1:1: note: change 'let' to 'var' to make it mutable\nlet a = 10\n^~~\nvar\n\n"
          ]
        }
      ]
    },
    {
      "cell_type": "markdown",
      "metadata": {
        "id": "4TGfRHsJ1bzD",
        "colab_type": "text"
      },
      "source": [
        "# Types of Data"
      ]
    },
    {
      "cell_type": "code",
      "metadata": {
        "id": "WRp2Ks481foA",
        "colab_type": "code",
        "colab": {}
      },
      "source": [
        ""
      ],
      "execution_count": 0,
      "outputs": []
    }
  ]
}