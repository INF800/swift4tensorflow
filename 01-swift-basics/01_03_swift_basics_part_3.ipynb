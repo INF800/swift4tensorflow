{
  "nbformat": 4,
  "nbformat_minor": 0,
  "metadata": {
    "colab": {
      "name": "01_02_swift_basics_part_3",
      "provenance": [],
      "collapsed_sections": [],
      "include_colab_link": true
    },
    "kernelspec": {
      "name": "swift",
      "display_name": "Swift"
    }
  },
  "cells": [
    {
      "cell_type": "markdown",
      "metadata": {
        "id": "view-in-github",
        "colab_type": "text"
      },
      "source": [
        "<a href=\"https://colab.research.google.com/github/rakesh4real/swift4tensorflow/blob/master/01_03_swift_basics_part_3.ipynb\" target=\"_parent\"><img src=\"https://colab.research.google.com/assets/colab-badge.svg\" alt=\"Open In Colab\"/></a>"
      ]
    },
    {
      "cell_type": "markdown",
      "metadata": {
        "id": "gwUsu8bZoc0O",
        "colab_type": "text"
      },
      "source": [
        "# 20. Closures\n",
        "\n",
        "Data type like Int, String etc. used extensively in Swift. A closure can be thought of as a variable that holds code.\n",
        "\n",
        "**Note:** You never need to design your own closures so don't be afraid"
      ]
    },
    {
      "cell_type": "code",
      "metadata": {
        "id": "kZRlD4utdPuX",
        "colab_type": "code",
        "colab": {}
      },
      "source": [
        "let vw = UIView()\n",
        "\n",
        "UIView.animate(withDuration: 0.5, animations: {\n",
        "    vw.alpha = 0 // 'vw' holds 'UIView()'\n",
        "})"
      ],
      "execution_count": 0,
      "outputs": []
    },
    {
      "cell_type": "code",
      "metadata": {
        "id": "PyH-0PAup9fj",
        "colab_type": "code",
        "colab": {}
      },
      "source": [
        "// Trailing Closures\n",
        "// -----------------\n",
        "// if the last parameter to a method takes a closure, you can eliminate that \n",
        "// parameter and instead provide it as a block of code inside braces.\n",
        "\n",
        "// example, same code above can be modified to\n",
        "let vw = UIView()\n",
        "\n",
        "UIView.animate(withDuration: 0.5) {\n",
        "    vw.alpha = 0\n",
        "}"
      ],
      "execution_count": 0,
      "outputs": []
    },
    {
      "cell_type": "markdown",
      "metadata": {
        "id": "-MfcNh15qrBt",
        "colab_type": "text"
      },
      "source": [
        "# 21. Protocols\n",
        "\n",
        "They define a set of methods and properties that a type must implement if it says it conforms to the protocol.\n",
        "\n",
        "Three important things : \n",
        "\n",
        "- Both the properties have `{ get set }` after them. This means that conforming types must make them both gettable (readable) and settable (writeable), i.e it is compatible with the Employee protocol it must make those two properties `variables` rather than `constants`.\n",
        "\n",
        "- `doWork()` has no code inside it. It doesnt provide implementations but tell how someting must look like\n",
        "\n",
        "- protocol isn’t a type, which means we can’t create instances of it. But we can create classes and structs that conform to it"
      ]
    },
    {
      "cell_type": "code",
      "metadata": {
        "id": "pIUc6bPjqmz9",
        "colab_type": "code",
        "colab": {}
      },
      "source": [
        "// basic protocol\n",
        "protocol Employee {\n",
        "  var name: String {get set}\n",
        "  var job: String {get set}\n",
        "  func doWork()\n",
        "}"
      ],
      "execution_count": 0,
      "outputs": []
    },
    {
      "cell_type": "code",
      "metadata": {
        "id": "J3wdN3XzsUHB",
        "colab_type": "code",
        "outputId": "04fff6ae-9c89-4c8c-bfed-a76ca95178f6",
        "colab": {
          "base_uri": "https://localhost:8080/",
          "height": 51
        }
      },
      "source": [
        "// Create structs conforming to above protocol\n",
        "struct Executive: Employee{\n",
        "  var name: String = \"Rob\"\n",
        "  var job: String = \"Cop\"\n",
        "  func doWork(){\n",
        "    print(\"I am \\(name) and I am a \\(job)\")\n",
        "  }\n",
        "}\n",
        "\n",
        "struct Manager: Employee{\n",
        "  var name: String = \"Tom\"\n",
        "  var job: String = \"ceo\"\n",
        "  func doWork(){\n",
        "    print(\"I am \\(name) and I am a \\(job)\")\n",
        "  }\n",
        "}\n",
        "\n",
        "// array of protocol 'Employee'\n",
        "var employees: [Employee] = [Manager(), Executive()]\n",
        "\n",
        "for employee in employees{\n",
        "  employee.doWork()\n",
        "}"
      ],
      "execution_count": 30,
      "outputs": [
        {
          "output_type": "stream",
          "text": [
            "I am Tom and I am a ceo\r\n",
            "I am Rob and I am a Cop\r\n"
          ],
          "name": "stdout"
        }
      ]
    },
    {
      "cell_type": "markdown",
      "metadata": {
        "id": "nAbYGGMuuQPQ",
        "colab_type": "text"
      },
      "source": [
        "# 22. Extensions\n",
        "\n",
        "Modify Swift’s data types to add new functionality, and so on in a really clean way – our new code is indistinguishable from existing code."
      ]
    },
    {
      "cell_type": "code",
      "metadata": {
        "id": "2t6bZezxt8x6",
        "colab_type": "code",
        "colab": {}
      },
      "source": [
        "// Create extension (returnable func)\n",
        "extension Int{\n",
        "  func addOne() -> Int{\n",
        "    return self + 1\n",
        "  }\n",
        "}"
      ],
      "execution_count": 0,
      "outputs": []
    },
    {
      "cell_type": "code",
      "metadata": {
        "id": "KgqK8O8y8hMR",
        "colab_type": "code",
        "colab": {
          "base_uri": "https://localhost:8080/",
          "height": 34
        },
        "outputId": "ddb56891-153d-47b7-cf09-61624c7eeecc"
      },
      "source": [
        "var Number: Int = 5\n",
        "Number.addOne() // Note: This only returns, doesnt alter actual value"
      ],
      "execution_count": 27,
      "outputs": [
        {
          "output_type": "execute_result",
          "data": {
            "text/plain": [
              "6\n"
            ]
          },
          "metadata": {
            "tags": []
          },
          "execution_count": 27
        }
      ]
    },
    {
      "cell_type": "code",
      "metadata": {
        "id": "dQDTxI3i87yi",
        "colab_type": "code",
        "colab": {
          "base_uri": "https://localhost:8080/",
          "height": 51
        },
        "outputId": "801b0b09-74a4-4293-856b-ede817d563c8"
      },
      "source": [
        "// Create extension (modifying/mutating func)\n",
        "// Must add: 'mutating' keyword \n",
        "extension Int{\n",
        "  mutating func addOne(){\n",
        "    self += 1\n",
        "  }\n",
        "}\n",
        "\n",
        "print(\"Before\", Number)\n",
        "Number.addOne()\n",
        "print(Number)"
      ],
      "execution_count": 28,
      "outputs": [
        {
          "output_type": "stream",
          "text": [
            "Before 5\r\n",
            "6\r\n"
          ],
          "name": "stdout"
        }
      ]
    },
    {
      "cell_type": "markdown",
      "metadata": {
        "id": "EZg5ifJD-pWM",
        "colab_type": "text"
      },
      "source": [
        "*extensions work across all data types. With extensions you can have ten different pieces of functionality in ten different files – they can all modify the same type directly*"
      ]
    },
    {
      "cell_type": "markdown",
      "metadata": {
        "id": "mTZhuPex_FNC",
        "colab_type": "text"
      },
      "source": [
        "# 23. Protocol Extensions\n",
        "\n",
        "One of Swift’s most powerful features is its ability to extend whole swathes of data types at the same time. These are known as protocol extensions, and they are commonly used to build flexibility into large apps."
      ]
    },
    {
      "cell_type": "markdown",
      "metadata": {
        "id": "Ht-ib7vbAX3s",
        "colab_type": "text"
      },
      "source": [
        "There are integers of different sizes, e.g. `Int8` holds an integer made up of 8 binary digits, which holds a maximum value of 127, and `UInt64` is the largest type of integer and holds up to 18,446,744,073,709,551,615\n",
        "\n",
        "If we create an `extension` on `Int`, it will not work on `Int8` or `UInt64` or `UInt`.\n",
        "\n",
        "***Protocol extensions** solve this problem*"
      ]
    },
    {
      "cell_type": "markdown",
      "metadata": {
        "id": "wxjWXruSBGZT",
        "colab_type": "text"
      },
      "source": [
        "#### Note:\n",
        "\n",
        "`self` means *“my current value”* and `Self` (capital S) means *“my current data type.”*\n",
        "\n",
        "This `Self` matters when it comes to extending protocols because, if we are working on `UInt`; our func should return only `UInt` not `Int64` or `Int` or `Int8`"
      ]
    },
    {
      "cell_type": "code",
      "metadata": {
        "id": "f0IXpLZ89oZy",
        "colab_type": "code",
        "colab": {
          "base_uri": "https://localhost:8080/",
          "height": 34
        },
        "outputId": "e3b829f2-504b-4080-f2c4-291ee3adc2fb"
      },
      "source": [
        "// example\n",
        "// 'BinaryInteger' is a protocol that all of Swift’s integer types conform to. \n",
        "// This means all integer types get access to the 'clamp()'\n",
        "\n",
        "extension BinaryInteger {\n",
        "    func clamp(low: Self, high: Self) -> Self {\n",
        "        if (self > high) {\n",
        "            return high\n",
        "        } else if (self < low) {\n",
        "            return low\n",
        "        }\n",
        "\n",
        "        return self\n",
        "    }\n",
        "}\n",
        "\n",
        "var a: UInt = 3\n",
        "3.clamp(low:4 , high:5 )"
      ],
      "execution_count": 33,
      "outputs": [
        {
          "output_type": "execute_result",
          "data": {
            "text/plain": [
              "4\n"
            ]
          },
          "metadata": {
            "tags": []
          },
          "execution_count": 33
        }
      ]
    },
    {
      "cell_type": "markdown",
      "metadata": {
        "id": "7EE6od0ECz11",
        "colab_type": "text"
      },
      "source": [
        "They are also helpful for providing **default method**"
      ]
    },
    {
      "cell_type": "code",
      "metadata": {
        "id": "XjD1j8nzB_cc",
        "colab_type": "code",
        "colab": {}
      },
      "source": [
        "protocol Employee {\n",
        "    var name: String { get set }\n",
        "    var jobTitle: String { get set }\n",
        "    func doWork()\n",
        "}\n",
        "\n",
        "// default method for Employee Protocol\n",
        "extension Employee {\n",
        "    func doWork() {\n",
        "        print(\"I'm busy!\")\n",
        "    }\n",
        "}"
      ],
      "execution_count": 0,
      "outputs": []
    }
  ]
}