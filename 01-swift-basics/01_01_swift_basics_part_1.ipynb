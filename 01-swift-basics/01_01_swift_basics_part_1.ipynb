{
  "nbformat": 4,
  "nbformat_minor": 0,
  "metadata": {
    "colab": {
      "name": "01-01-swift-basics-part-1.ipynb",
      "provenance": [],
      "collapsed_sections": [],
      "include_colab_link": true
    },
    "kernelspec": {
      "name": "swift",
      "display_name": "Swift"
    }
  },
  "cells": [
    {
      "cell_type": "markdown",
      "metadata": {
        "id": "view-in-github",
        "colab_type": "text"
      },
      "source": [
        "<a href=\"https://colab.research.google.com/github/rakesh4real/swift4tensorflow/blob/master/01_01_swift_basics_part_1.ipynb\" target=\"_parent\"><img src=\"https://colab.research.google.com/assets/colab-badge.svg\" alt=\"Open In Colab\"/></a>"
      ]
    },
    {
      "cell_type": "markdown",
      "metadata": {
        "id": "Qm7qbm9I1hSa",
        "colab_type": "text"
      },
      "source": [
        "[Credits](https://www.hackingwithswift.com/read/0/)"
      ]
    },
    {
      "cell_type": "markdown",
      "metadata": {
        "id": "gyANlcVg4-eQ",
        "colab_type": "text"
      },
      "source": [
        "# 1. Shell Commands"
      ]
    },
    {
      "cell_type": "code",
      "metadata": {
        "id": "pVoWZrYJ33u6",
        "colab_type": "code",
        "outputId": "5b4281db-fdcb-479c-8fdd-cce603a0e885",
        "colab": {
          "base_uri": "https://localhost:8080/",
          "height": 68
        }
      },
      "source": [
        "import Foundation\n",
        "\n",
        "// Create shell func\n",
        "@discardableResult\n",
        "func shell(_ args: String...) -> Int32 {\n",
        "    let task = Process()\n",
        "    task.launchPath = \"/usr/bin/env\"\n",
        "    task.arguments = args\n",
        "    task.launch()\n",
        "    task.waitUntilExit()\n",
        "    return task.terminationStatus\n",
        "}\n",
        "\n",
        "// Run command(s) using shell func\n",
        "shell(\"ls\")\n",
        "shell(\"pwd\")\n",
        "\n",
        "// Find version of swift"
      ],
      "execution_count": 1,
      "outputs": [
        {
          "output_type": "stream",
          "text": [
            "sample_data\n",
            "/content\n"
          ],
          "name": "stdout"
        },
        {
          "output_type": "execute_result",
          "data": {
            "text/plain": [
              "0\n"
            ]
          },
          "metadata": {
            "tags": []
          },
          "execution_count": 1
        }
      ]
    },
    {
      "cell_type": "markdown",
      "metadata": {
        "id": "pUSLyxrQ01DF",
        "colab_type": "text"
      },
      "source": [
        "# 2. Variables and Constants "
      ]
    },
    {
      "cell_type": "code",
      "metadata": {
        "id": "cE5GNOba07cl",
        "colab_type": "code",
        "outputId": "ee4a702f-79f0-4b10-f0e2-512e1c337992",
        "colab": {
          "base_uri": "https://localhost:8080/",
          "height": 214
        }
      },
      "source": [
        "let a = 10\n",
        "a = 20 // Not possible because constant\n",
        "\n",
        "var b = 20\n",
        "b = 10 // Possible because variable"
      ],
      "execution_count": 2,
      "outputs": [
        {
          "output_type": "error",
          "ename": "",
          "evalue": "ignored",
          "traceback": [
            "error: <Cell 2>:2:1: error: cannot assign to value: 'a' is a 'let' constant\na = 20 // Not possible because constant\n^\n\n<Cell 2>:1:1: note: change 'let' to 'var' to make it mutable\nlet a = 10\n^~~\nvar\n\n"
          ]
        }
      ]
    },
    {
      "cell_type": "markdown",
      "metadata": {
        "id": "4TGfRHsJ1bzD",
        "colab_type": "text"
      },
      "source": [
        "# 3. Types of Data"
      ]
    },
    {
      "cell_type": "code",
      "metadata": {
        "id": "WRp2Ks481foA",
        "colab_type": "code",
        "colab": {}
      },
      "source": [
        "var Name : String\n",
        "Name = \"Swift\""
      ],
      "execution_count": 0,
      "outputs": []
    },
    {
      "cell_type": "code",
      "metadata": {
        "id": "v8FDqyRR3R2x",
        "colab_type": "code",
        "colab": {}
      },
      "source": [
        "var Year : Int\n",
        "Year = 2014"
      ],
      "execution_count": 0,
      "outputs": []
    },
    {
      "cell_type": "code",
      "metadata": {
        "id": "_lnH4JWE3WNo",
        "colab_type": "code",
        "colab": {}
      },
      "source": [
        "var Version: Float\n",
        "Version = 5.0\n",
        "\n",
        "var VersionDouble: Double\n",
        "VersionDouble = 5.00000000 // Higher precision than float"
      ],
      "execution_count": 0,
      "outputs": []
    },
    {
      "cell_type": "code",
      "metadata": {
        "id": "HWKzzXGp5dzY",
        "colab_type": "code",
        "colab": {}
      },
      "source": [
        "var TrueOrFlase : Bool\n",
        "TrueOrFlase = true"
      ],
      "execution_count": 0,
      "outputs": []
    },
    {
      "cell_type": "code",
      "metadata": {
        "id": "wq3bwRAq6B-y",
        "colab_type": "code",
        "outputId": "b85cfd6c-1d60-4b01-fde7-3f2fac71ea09",
        "colab": {
          "base_uri": "https://localhost:8080/",
          "height": 129
        }
      },
      "source": [
        "Name = 1 // Error as 'String'"
      ],
      "execution_count": 7,
      "outputs": [
        {
          "output_type": "error",
          "ename": "",
          "evalue": "ignored",
          "traceback": [
            "error: <Cell 7>:1:8: error: cannot assign value of type 'Int' to type 'String'\nName = 1 // Error as 'String'\n       ^\n\n"
          ]
        }
      ]
    },
    {
      "cell_type": "code",
      "metadata": {
        "id": "L7OQ9aqQ6G9P",
        "colab_type": "code",
        "colab": {}
      },
      "source": [
        "// We can initialize variable\n",
        "// without type and let Swift \n",
        "// decide the type\n",
        "var name = \"This is a string\"\n",
        "\n",
        "// we can initalize in one line as well\n",
        "var name2 : String = \"Written by Rakesh\""
      ],
      "execution_count": 0,
      "outputs": []
    },
    {
      "cell_type": "code",
      "metadata": {
        "id": "MWygojHp_vL0",
        "colab_type": "code",
        "colab": {
          "base_uri": "https://localhost:8080/",
          "height": 85
        },
        "outputId": "385e0dc5-220f-4587-f36b-5c7e961761a2"
      },
      "source": [
        "// Check data type\n",
        "print( type(of: name2) )\n",
        "print( type(of: Year) )\n",
        "print( type(of: VersionDouble) )\n",
        "print( type(of: TrueOrFlase) )"
      ],
      "execution_count": 23,
      "outputs": [
        {
          "output_type": "stream",
          "text": [
            "String\r\n",
            "Int\r\n",
            "Double\r\n",
            "Bool\r\n"
          ],
          "name": "stdout"
        }
      ]
    },
    {
      "cell_type": "markdown",
      "metadata": {
        "id": "Ezyux-vh63qc",
        "colab_type": "text"
      },
      "source": [
        "# 4. Operators"
      ]
    },
    {
      "cell_type": "code",
      "metadata": {
        "id": "Jr5_gwZ366e_",
        "colab_type": "code",
        "outputId": "b679e987-61b6-4abc-bbcd-8ed80f82228d",
        "colab": {
          "base_uri": "https://localhost:8080/",
          "height": 34
        }
      },
      "source": [
        "// + to add, - to subtract, * to multiply, / to divide, = to assign value,  % for reminder and so on\n",
        "var a = 10\n",
        "a += 10\n",
        "print(a)"
      ],
      "execution_count": 8,
      "outputs": [
        {
          "output_type": "stream",
          "text": [
            "20\r\n"
          ],
          "name": "stdout"
        }
      ]
    },
    {
      "cell_type": "code",
      "metadata": {
        "id": "ZVluV_o77jTn",
        "colab_type": "code",
        "outputId": "206d86f8-c126-4ca9-e52d-b070535aadf0",
        "colab": {
          "base_uri": "https://localhost:8080/",
          "height": 34
        }
      },
      "source": [
        "// String addition\n",
        "var s1 = \"This\"\n",
        "var s2 = \"Swift\"\n",
        "print(s1 + \" is \" + s2)"
      ],
      "execution_count": 9,
      "outputs": [
        {
          "output_type": "stream",
          "text": [
            "This is Swift\r\n"
          ],
          "name": "stdout"
        }
      ]
    },
    {
      "cell_type": "code",
      "metadata": {
        "id": "2Jjl6ocW7zrY",
        "colab_type": "code",
        "outputId": "6e5aa422-28f1-4012-d00a-5105f6f1e64f",
        "colab": {
          "base_uri": "https://localhost:8080/",
          "height": 68
        }
      },
      "source": [
        "// Greater than (>), greater than or equal (>=), and less than (<) and not(!)\n",
        "print(a > 100)\n",
        "print(a == 100)\n",
        "print(a != 100)"
      ],
      "execution_count": 10,
      "outputs": [
        {
          "output_type": "stream",
          "text": [
            "false\r\n",
            "false\r\n",
            "true\r\n"
          ],
          "name": "stdout"
        }
      ]
    },
    {
      "cell_type": "markdown",
      "metadata": {
        "id": "7Dr3fR2H8s_i",
        "colab_type": "text"
      },
      "source": [
        "# 5. String Interpolation"
      ]
    },
    {
      "cell_type": "code",
      "metadata": {
        "id": "AVEoIf5b9-nB",
        "colab_type": "code",
        "outputId": "fa2ceb43-4165-4621-babb-c7d4a20e2e35",
        "colab": {
          "base_uri": "https://localhost:8080/",
          "height": 197
        }
      },
      "source": [
        "// Less convinient and even can't do : String + Int as below\n",
        "print(\"Your name is \" + Name + \" and age is \" + Year)"
      ],
      "execution_count": 11,
      "outputs": [
        {
          "output_type": "error",
          "ename": "",
          "evalue": "ignored",
          "traceback": [
            "error: <Cell 11>:2:47: error: binary operator '+' cannot be applied to operands of type 'String' and 'Int'\nprint(\"Your name is \" + Name + \" and age is \" + Year)\n      ~~~~~~~~~~~~~~~~~~~~~~~~~~~~~~~~~~~~~~~ ^ ~~~~\n\n<Cell 11>:2:47: note: overloads for '+' exist with these partially matching parameter lists: (Int, Int), (String, String)\nprint(\"Your name is \" + Name + \" and age is \" + Year)\n                                              ^\n\n"
          ]
        }
      ]
    },
    {
      "cell_type": "code",
      "metadata": {
        "id": "3t06TjVz83E9",
        "colab_type": "code",
        "outputId": "09f3a4f2-72f0-490f-c48a-c28088f977b0",
        "colab": {
          "base_uri": "https://localhost:8080/",
          "height": 51
        }
      },
      "source": [
        "// More convinient\n",
        "print(\"Your name is \\(Name) and age is \\(Year)\")\n",
        "\n",
        "// Can  even calculate\n",
        "print(\"Your name is \\(Name) and age is \\(2020 - Year)\")"
      ],
      "execution_count": 12,
      "outputs": [
        {
          "output_type": "stream",
          "text": [
            "Your name is Swift and age is 2014\r\n",
            "Your name is Swift and age is 6\r\n"
          ],
          "name": "stdout"
        }
      ]
    },
    {
      "cell_type": "markdown",
      "metadata": {
        "id": "l95b61VD-KEB",
        "colab_type": "text"
      },
      "source": [
        "# 6. Arrays"
      ]
    },
    {
      "cell_type": "code",
      "metadata": {
        "id": "lN0FQMza9XVF",
        "colab_type": "code",
        "colab": {
          "base_uri": "https://localhost:8080/",
          "height": 68
        },
        "outputId": "7b3ca472-c7d5-4513-b4ab-62aca07c77f0"
      },
      "source": [
        "// Arrays with\n",
        "// 1. Numbers\n",
        "// 2. Strings\n",
        "// 3. Mixed\n",
        "var NumArr = [1, 2, 3]\n",
        "var StrArr = [\"one\", \"two\", \"three\"]\n",
        "var MixArr : [Any] = [1, 2, \"three\"] // `Any` is impt\n",
        "\n",
        "// check\n",
        "print( type(of: NumArr) )\n",
        "print( type(of: StrArr) )\n",
        "print( type(of: MixArr) )"
      ],
      "execution_count": 24,
      "outputs": [
        {
          "output_type": "stream",
          "text": [
            "Array<Int>\r\n",
            "Array<String>\r\n",
            "Array<Any>\r\n"
          ],
          "name": "stdout"
        }
      ]
    },
    {
      "cell_type": "code",
      "metadata": {
        "id": "-bpvrvPs_QAA",
        "colab_type": "code",
        "colab": {
          "base_uri": "https://localhost:8080/",
          "height": 34
        },
        "outputId": "5709f0d1-6896-4838-e193-ccdee5131005"
      },
      "source": [
        "// Access numeric indexed arrays\n",
        "StrArr[0]"
      ],
      "execution_count": 17,
      "outputs": [
        {
          "output_type": "execute_result",
          "data": {
            "text/plain": [
              "\"one\"\n"
            ]
          },
          "metadata": {
            "tags": []
          },
          "execution_count": 17
        }
      ]
    },
    {
      "cell_type": "code",
      "metadata": {
        "id": "g3cVAhCj_p0P",
        "colab_type": "code",
        "colab": {}
      },
      "source": [
        "// Arrays with ONLY!!\n",
        "// 1. Numbers\n",
        "// 2. Strings\n",
        "// 3. Mixed\n",
        "var NumArr : [Double] = [1, 2, 3]\n",
        "var StrArr : [String] = [\"one\", \"two\", \"three\"]\n",
        "var MixArr : [Any] = [1, 2, \"three\"] // `Any` is impt"
      ],
      "execution_count": 0,
      "outputs": []
    },
    {
      "cell_type": "code",
      "metadata": {
        "id": "FkGJkJTWAleC",
        "colab_type": "code",
        "colab": {
          "base_uri": "https://localhost:8080/",
          "height": 34
        },
        "outputId": "ff86d5f5-e09b-41bf-a9e7-63192840c1fb"
      },
      "source": [
        "//  limited set of operators on arrays\n",
        "var combine = NumArr + MixArr\n",
        "print(combine)"
      ],
      "execution_count": 26,
      "outputs": [
        {
          "output_type": "stream",
          "text": [
            "[1.0, 2.0, 3.0, 1, 2, \"three\"]\r\n"
          ],
          "name": "stdout"
        }
      ]
    },
    {
      "cell_type": "markdown",
      "metadata": {
        "id": "JQf7t2JwA-VD",
        "colab_type": "text"
      },
      "source": [
        "# 7. Dictionaries"
      ]
    },
    {
      "cell_type": "code",
      "metadata": {
        "id": "OCfGupT_A8DD",
        "colab_type": "code",
        "colab": {
          "base_uri": "https://localhost:8080/",
          "height": 34
        },
        "outputId": "79c37ea5-d099-44ca-b4e0-233d87d60bd7"
      },
      "source": [
        "var MyDict = [\n",
        "  \"first\" : \"Swift\",\n",
        "  \"middle\" : \"by\",\n",
        "  \"last\" : \"Apple\"\n",
        "]\n",
        "\n",
        "print(\"This is \\(MyDict[\"first\"]) \\(MyDict[\"middle\"]) \\(MyDict[\"last\"])\")"
      ],
      "execution_count": 31,
      "outputs": [
        {
          "output_type": "stream",
          "text": [
            "This is Optional(\"Swift\") Optional(\"by\") Optional(\"Apple\")\r\n"
          ],
          "name": "stdout"
        }
      ]
    },
    {
      "cell_type": "markdown",
      "metadata": {
        "id": "npta0JPaB5nM",
        "colab_type": "text"
      },
      "source": [
        "# 8. Conditional Statements"
      ]
    },
    {
      "cell_type": "code",
      "metadata": {
        "id": "vZUtxFtmBojg",
        "colab_type": "code",
        "colab": {
          "base_uri": "https://localhost:8080/",
          "height": 34
        },
        "outputId": "10c98db0-9b21-46d6-dc0e-5ad8e40e6bb6"
      },
      "source": [
        "// if, else, else if\n",
        "\n",
        "if true && false{\n",
        "  print(\"This shouldn't have been printed\")\n",
        "} else {\n",
        "  print(\"Correct!\")\n",
        "}"
      ],
      "execution_count": 32,
      "outputs": [
        {
          "output_type": "stream",
          "text": [
            "Correct!\r\n"
          ],
          "name": "stdout"
        }
      ]
    },
    {
      "cell_type": "markdown",
      "metadata": {
        "id": "_hjBC5c-Cd39",
        "colab_type": "text"
      },
      "source": [
        "# 9. Loops"
      ]
    },
    {
      "cell_type": "code",
      "metadata": {
        "id": "fTqX_cO6CbQH",
        "colab_type": "code",
        "colab": {
          "base_uri": "https://localhost:8080/",
          "height": 68
        },
        "outputId": "b1087952-29bb-4425-dd42-1de14ccff7fd"
      },
      "source": [
        "// For loop - numbers\n",
        "for i in 1...3 {\n",
        "  print(i) \n",
        "}"
      ],
      "execution_count": 40,
      "outputs": [
        {
          "output_type": "stream",
          "text": [
            "1\r\n",
            "2\r\n",
            "3\r\n"
          ],
          "name": "stdout"
        }
      ]
    },
    {
      "cell_type": "code",
      "metadata": {
        "id": "LKXhVJ0kCtYk",
        "colab_type": "code",
        "colab": {
          "base_uri": "https://localhost:8080/",
          "height": 102
        },
        "outputId": "6f709e68-b337-4a37-87fa-bfea9cace258"
      },
      "source": [
        "// For loop - strings\n",
        "for i in \"hello\" {\n",
        "  print(i)\n",
        "}"
      ],
      "execution_count": 37,
      "outputs": [
        {
          "output_type": "stream",
          "text": [
            "h\r\n",
            "e\r\n",
            "l\r\n",
            "l\r\n",
            "o\r\n"
          ],
          "name": "stdout"
        }
      ]
    },
    {
      "cell_type": "code",
      "metadata": {
        "id": "Uu8DmJ3mDjmC",
        "colab_type": "code",
        "colab": {
          "base_uri": "https://localhost:8080/",
          "height": 51
        },
        "outputId": "1cf457df-4006-4a1f-db4d-46d166e19ed2"
      },
      "source": [
        "// For loop - arrays\n",
        "for i in [\"one\", \"two\"]{\n",
        "  print(i)\n",
        "}"
      ],
      "execution_count": 39,
      "outputs": [
        {
          "output_type": "stream",
          "text": [
            "one\r\n",
            "two\r\n"
          ],
          "name": "stdout"
        }
      ]
    },
    {
      "cell_type": "code",
      "metadata": {
        "id": "OQXAvYiYC2od",
        "colab_type": "code",
        "colab": {
          "base_uri": "https://localhost:8080/",
          "height": 51
        },
        "outputId": "31bfa0a9-d40a-43a6-b9ad-41057ac1e969"
      },
      "source": [
        "// '_' doesn't take space\n",
        "// Hence, cant use it in loop body \n",
        "for _ in 1...2{\n",
        "  print(\"Hi\")\n",
        "}"
      ],
      "execution_count": 38,
      "outputs": [
        {
          "output_type": "stream",
          "text": [
            "Hi\r\n",
            "Hi\r\n"
          ],
          "name": "stdout"
        }
      ]
    },
    {
      "cell_type": "code",
      "metadata": {
        "id": "Bg-3gCX8DcBf",
        "colab_type": "code",
        "colab": {
          "base_uri": "https://localhost:8080/",
          "height": 34
        },
        "outputId": "9ae3c6e8-9458-42ef-de86-ad39912eb651"
      },
      "source": [
        "// less than\n",
        "for _ in 1..<2{\n",
        "  print(\"Hi\")\n",
        "}"
      ],
      "execution_count": 41,
      "outputs": [
        {
          "output_type": "stream",
          "text": [
            "Hi\r\n"
          ],
          "name": "stdout"
        }
      ]
    },
    {
      "cell_type": "code",
      "metadata": {
        "id": "5CDhovDbD87x",
        "colab_type": "code",
        "colab": {
          "base_uri": "https://localhost:8080/",
          "height": 34
        },
        "outputId": "33c4ed93-7802-416c-d149-1f11c8c4f093"
      },
      "source": [
        "// While loop\n",
        "while true{\n",
        "  print(\"line\")\n",
        "  // update statement\n",
        "  // continue\n",
        "  break\n",
        "}"
      ],
      "execution_count": 43,
      "outputs": [
        {
          "output_type": "stream",
          "text": [
            "line\r\n"
          ],
          "name": "stdout"
        }
      ]
    },
    {
      "cell_type": "code",
      "metadata": {
        "id": "gwKMxcB6EWyF",
        "colab_type": "code",
        "colab": {
          "base_uri": "https://localhost:8080/",
          "height": 34
        },
        "outputId": "e4378e4d-36ff-4f03-ba9b-9bc0d897a397"
      },
      "source": [
        "// repeat while loop \n",
        "repeat{\n",
        "  print(\"Hi\")\n",
        "  break\n",
        "}while(true)"
      ],
      "execution_count": 46,
      "outputs": [
        {
          "output_type": "stream",
          "text": [
            "Hi\r\n"
          ],
          "name": "stdout"
        }
      ]
    },
    {
      "cell_type": "markdown",
      "metadata": {
        "id": "mdDfXkYmE1gO",
        "colab_type": "text"
      },
      "source": [
        "# 10. Switch Case"
      ]
    },
    {
      "cell_type": "code",
      "metadata": {
        "id": "z2rDBVDsEpgc",
        "colab_type": "code",
        "colab": {
          "base_uri": "https://localhost:8080/",
          "height": 34
        },
        "outputId": "0b8df0cb-cb87-42ae-f191-6413f21448e7"
      },
      "source": [
        "let label = 10\n",
        "\n",
        "// No need for 'break'\n",
        "switch label{\n",
        "  case 10: \n",
        "    print(\"10\")\n",
        "  default: \n",
        "    print(\"error\")\n",
        "}"
      ],
      "execution_count": 48,
      "outputs": [
        {
          "output_type": "stream",
          "text": [
            "10\r\n"
          ],
          "name": "stdout"
        }
      ]
    },
    {
      "cell_type": "code",
      "metadata": {
        "id": "xwBTSEOUFZ8U",
        "colab_type": "code",
        "colab": {
          "base_uri": "https://localhost:8080/",
          "height": 34
        },
        "outputId": "de90888e-17a3-4175-e186-9f7dabcfea13"
      },
      "source": [
        "// In swift!!\n",
        "let label = 10.5\n",
        "\n",
        "switch label{\n",
        "  case 10...11: \n",
        "    print(\"between 10 and 11\")\n",
        "  default: \n",
        "    print(\"error\")\n",
        "}"
      ],
      "execution_count": 50,
      "outputs": [
        {
          "output_type": "stream",
          "text": [
            "between 10 and 11\r\n"
          ],
          "name": "stdout"
        }
      ]
    }
  ]
}