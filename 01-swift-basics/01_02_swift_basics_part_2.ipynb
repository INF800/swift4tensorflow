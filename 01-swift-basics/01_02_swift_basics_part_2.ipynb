{
  "nbformat": 4,
  "nbformat_minor": 0,
  "metadata": {
    "colab": {
      "name": "01-02-swift-basics-part-2.ipynb",
      "provenance": [],
      "collapsed_sections": [],
      "include_colab_link": true
    },
    "kernelspec": {
      "name": "swift",
      "display_name": "Swift"
    }
  },
  "cells": [
    {
      "cell_type": "markdown",
      "metadata": {
        "id": "view-in-github",
        "colab_type": "text"
      },
      "source": [
        "<a href=\"https://colab.research.google.com/github/rakesh4real/swift4tensorflow/blob/master/01_02_swift_basics_part_2.ipynb\" target=\"_parent\"><img src=\"https://colab.research.google.com/assets/colab-badge.svg\" alt=\"Open In Colab\"/></a>"
      ]
    },
    {
      "cell_type": "markdown",
      "metadata": {
        "id": "wGFflvHjHs0m",
        "colab_type": "text"
      },
      "source": [
        "# 11. Functions"
      ]
    },
    {
      "cell_type": "code",
      "metadata": {
        "id": "kZRlD4utdPuX",
        "colab_type": "code",
        "outputId": "c08ccb52-2d5a-4326-9ef9-0cc902031c56",
        "colab": {
          "base_uri": "https://localhost:8080/",
          "height": 34
        }
      },
      "source": [
        "// simple\n",
        "func printHello(){\n",
        "  print(\"hello\")\n",
        "}\n",
        "\n",
        "printHello()"
      ],
      "execution_count": 2,
      "outputs": [
        {
          "output_type": "stream",
          "text": [
            "hello\r\n"
          ],
          "name": "stdout"
        }
      ]
    },
    {
      "cell_type": "code",
      "metadata": {
        "id": "YmXOFw0GIDCH",
        "colab_type": "code",
        "outputId": "82b144e1-4c30-490e-87e0-50d171005042",
        "colab": {
          "base_uri": "https://localhost:8080/",
          "height": 34
        }
      },
      "source": [
        "// parameter\n",
        "func printMe(param : String){\n",
        "  print(\"\\(param) printed!\")\n",
        "}\n",
        "\n",
        "printMe(param: \"This\")"
      ],
      "execution_count": 10,
      "outputs": [
        {
          "output_type": "stream",
          "text": [
            "This printed!\r\n"
          ],
          "name": "stdout"
        }
      ]
    },
    {
      "cell_type": "code",
      "metadata": {
        "id": "c9T06FN1IaJF",
        "colab_type": "code",
        "outputId": "06f2c761-9a4e-4e28-8a5f-8ea4e7b3a315",
        "colab": {
          "base_uri": "https://localhost:8080/",
          "height": 34
        }
      },
      "source": [
        "// multiple params\n",
        "func printMe2(param1 : String, param2: Int){\n",
        "  print(\"\\(param1) and \\(param2) printed!\")\n",
        "}\n",
        "\n",
        "printMe2(param1: \"This\", param2: 2)"
      ],
      "execution_count": 11,
      "outputs": [
        {
          "output_type": "stream",
          "text": [
            "This and 2 printed!\r\n"
          ],
          "name": "stdout"
        }
      ]
    },
    {
      "cell_type": "code",
      "metadata": {
        "id": "sr7pUj99I_5K",
        "colab_type": "code",
        "outputId": "3dda26af-b3e7-45cc-f7a7-b8dd71f8a065",
        "colab": {
          "base_uri": "https://localhost:8080/",
          "height": 34
        }
      },
      "source": [
        "// Internal and External Parameter Names\n",
        "//--------------------------------------\n",
        "// for elegant code.\n",
        "// While that certainly works, it’s a bit wordy. \n",
        "// Plus it’s not the kind of thing you would say \n",
        "// aloud: “count letters in string string hello”.\n",
        "// Swift’s solution is to let you specify one \n",
        "// name for the parameter when it’s being called, \n",
        "// and another inside the method. \n",
        "// To use this, just write the parameter \n",
        "// name twice – once for external, one for internal.\n",
        "\n",
        "func wordcount(ExternalParamUsedForFuncCall InternalParamForFuncBody : String){\n",
        "  print(\"Number of words in \\(InternalParamForFuncBody) is \\(InternalParamForFuncBody.count)\")\n",
        "}\n",
        "\n",
        "wordcount(ExternalParamUsedForFuncCall: \"Test\")"
      ],
      "execution_count": 12,
      "outputs": [
        {
          "output_type": "stream",
          "text": [
            "Number of words in Test is 4\r\n"
          ],
          "name": "stdout"
        }
      ]
    },
    {
      "cell_type": "code",
      "metadata": {
        "id": "IB5ALIMBLntx",
        "colab_type": "code",
        "outputId": "e966eb81-f049-44a3-a426-51381859fab9",
        "colab": {
          "base_uri": "https://localhost:8080/",
          "height": 34
        }
      },
      "source": [
        "// '_' for external name mean we don't\n",
        "// need external param at all\n",
        "func wordcount(_ str : String){\n",
        "  print(\"Number of words in \\(str) is \\(str.count)\")\n",
        "}\n",
        "\n",
        "// no external param\n",
        "wordcount(\"Test\")\n",
        "\n",
        "// You’ll commonly see is external parameter \n",
        "// names like “in”, “for”, and “with”, and\n",
        "// more meaningful internal names."
      ],
      "execution_count": 13,
      "outputs": [
        {
          "output_type": "stream",
          "text": [
            "Number of words in Test is 4\r\n"
          ],
          "name": "stdout"
        }
      ]
    },
    {
      "cell_type": "code",
      "metadata": {
        "id": "K7yJHPD2MfJA",
        "colab_type": "code",
        "outputId": "58015ea0-6128-4772-e970-c8368f66f845",
        "colab": {
          "base_uri": "https://localhost:8080/",
          "height": 34
        }
      },
      "source": [
        "// Return Values\n",
        "func printFalse() -> Bool{\n",
        "  return false\n",
        "}\n",
        "\n",
        "printFalse()"
      ],
      "execution_count": 14,
      "outputs": [
        {
          "output_type": "execute_result",
          "data": {
            "text/plain": [
              "false\n"
            ]
          },
          "metadata": {
            "tags": []
          },
          "execution_count": 14
        }
      ]
    },
    {
      "cell_type": "markdown",
      "metadata": {
        "id": "ZMvA1jhISn19",
        "colab_type": "text"
      },
      "source": [
        "# 11. Optionals\n",
        "\n",
        "safe language, by which I mean it works hard to ensure your code never fails in surprising ways"
      ]
    },
    {
      "cell_type": "code",
      "metadata": {
        "id": "yIGMf8c5SPzJ",
        "colab_type": "code",
        "outputId": "d867ca9e-cf4e-4fde-a07c-dcbd8e413616",
        "colab": {
          "base_uri": "https://localhost:8080/",
          "height": 34
        }
      },
      "source": [
        "func printFalse() -> Bool{\n",
        "  return false\n",
        "} \n",
        "\n",
        "printFalse()"
      ],
      "execution_count": 15,
      "outputs": [
        {
          "output_type": "execute_result",
          "data": {
            "text/plain": [
              "false\n"
            ]
          },
          "metadata": {
            "tags": []
          },
          "execution_count": 15
        }
      ]
    },
    {
      "cell_type": "code",
      "metadata": {
        "id": "kljTcw-DS6wr",
        "colab_type": "code",
        "outputId": "5232ae70-3c9e-4865-c799-1210398550b8",
        "colab": {
          "base_uri": "https://localhost:8080/",
          "height": 129
        }
      },
      "source": [
        "// what if\n",
        "func printFalse() -> Bool{\n",
        "  return \"false\"\n",
        "} \n",
        "\n",
        "printFalse() // Type mismatch"
      ],
      "execution_count": 16,
      "outputs": [
        {
          "output_type": "error",
          "ename": "",
          "evalue": "ignored",
          "traceback": [
            "error: <Cell 16>:3:10: error: cannot convert return expression of type 'String' to return type 'Bool'\n  return \"false\"\n         ^~~~~~~\n\n"
          ]
        }
      ]
    },
    {
      "cell_type": "code",
      "metadata": {
        "id": "AwT_v7dsTA_S",
        "colab_type": "code",
        "outputId": "a0720484-5cf4-48ca-ba41-000623e80dbf",
        "colab": {
          "base_uri": "https://localhost:8080/",
          "height": 34
        }
      },
      "source": [
        "// hence we use optionals\n",
        "func printFalse2() -> Bool?{\n",
        "  return nil // Only nil allowed\n",
        "} \n",
        "\n",
        "printFalse2()"
      ],
      "execution_count": 17,
      "outputs": [
        {
          "output_type": "execute_result",
          "data": {
            "text/plain": [
              "nil\n"
            ]
          },
          "metadata": {
            "tags": []
          },
          "execution_count": 17
        }
      ]
    },
    {
      "cell_type": "code",
      "metadata": {
        "id": "q69o3gxsgTyB",
        "colab_type": "code",
        "colab": {}
      },
      "source": [
        "// initalize vars with optionals \n",
        "// to work with optional returns\n",
        "var status : Bool?\n",
        "status = printFalse2()"
      ],
      "execution_count": 0,
      "outputs": []
    },
    {
      "cell_type": "markdown",
      "metadata": {
        "id": "-OjzGmPwiqcl",
        "colab_type": "text"
      },
      "source": [
        "# 12. Optional Chaining"
      ]
    },
    {
      "cell_type": "code",
      "metadata": {
        "id": "ifvYfPzPigUJ",
        "colab_type": "code",
        "colab": {}
      },
      "source": [
        "// Note : ?\n",
        "// album = albumReleased(year: 2006)?.someOptionalValue?.someOtherOptionalValue?.whatever\n",
        "// Swift will check them from left to right until it finds nil, at which point it stops."
      ],
      "execution_count": 0,
      "outputs": []
    },
    {
      "cell_type": "code",
      "metadata": {
        "id": "AtJzVOE6ocaX",
        "colab_type": "code",
        "outputId": "7ec849af-0b8a-4751-99d5-b391ff5a4afe",
        "colab": {
          "base_uri": "https://localhost:8080/",
          "height": 34
        }
      },
      "source": [
        "// The nil coalescing operator\n",
        "func returnNil() -> String?{\n",
        "  return nil\n",
        "}\n",
        "\n",
        "// ?? mean, if 'nil' variable = \"unknown\"\n",
        "let variable = returnNil() ?? \"unknown\"\n",
        "print(variable)"
      ],
      "execution_count": 20,
      "outputs": [
        {
          "output_type": "stream",
          "text": [
            "unknown\r\n"
          ],
          "name": "stdout"
        }
      ]
    },
    {
      "cell_type": "markdown",
      "metadata": {
        "id": "eCRLh1f0pIns",
        "colab_type": "text"
      },
      "source": [
        "# 13. Enumerations\n",
        "\n",
        "A way for you to define your own kind of value(data type) in Swift. Swift adds a huge amount of power to them if you want to go beyond the basics.\n",
        "\n",
        "- Best used with switch case"
      ]
    },
    {
      "cell_type": "code",
      "metadata": {
        "id": "GbiT8BUNo63v",
        "colab_type": "code",
        "outputId": "bdf18409-0be6-4c72-9149-dd1bcd10cf8a",
        "colab": {
          "base_uri": "https://localhost:8080/",
          "height": 51
        }
      },
      "source": [
        "enum YesNo {\n",
        "  case yes, no\n",
        "}\n",
        "// Note: Instead of 'yes' or 'no' as variables\n",
        "// now you can use them as 'YesNo.yes' or 'YesNo.no'\n",
        "// as variables. 'YesNo' is simply a data type\n",
        "\n",
        "func TellYes(status: YesNo){\n",
        "  if status==YesNo.yes{\n",
        "    print(\"Yeah!\")\n",
        "  }else{\n",
        "    print(\"Nah\")\n",
        "  }\n",
        "}\n",
        "\n",
        "TellYes(status: YesNo.yes)\n",
        "TellYes(status: YesNo.no)"
      ],
      "execution_count": 21,
      "outputs": [
        {
          "output_type": "stream",
          "text": [
            "Yeah!\r\n",
            "Nah\r\n"
          ],
          "name": "stdout"
        }
      ]
    },
    {
      "cell_type": "code",
      "metadata": {
        "id": "vXFltwOiq3R5",
        "colab_type": "code",
        "outputId": "541b66f2-56df-4d65-bedf-993618973c5d",
        "colab": {
          "base_uri": "https://localhost:8080/",
          "height": 51
        }
      },
      "source": [
        "// another convinient way of definig\n",
        "enum YesNo {\n",
        "  case yes\n",
        "  case no // note difference\n",
        "}\n",
        "\n",
        "// note: .yes\n",
        "func TellYes(status: YesNo){\n",
        "  if status == .yes{\n",
        "    print(\"Yeah!\")\n",
        "  }else{\n",
        "    print(\"Nah\")\n",
        "  }\n",
        "}\n",
        "\n",
        "TellYes(status: YesNo.yes)\n",
        "TellYes(status: YesNo.no)"
      ],
      "execution_count": 22,
      "outputs": [
        {
          "output_type": "stream",
          "text": [
            "Yeah!\r\n",
            "Nah\r\n"
          ],
          "name": "stdout"
        }
      ]
    },
    {
      "cell_type": "code",
      "metadata": {
        "id": "UfcZWzm0rhmq",
        "colab_type": "code",
        "outputId": "94b6d586-0ac1-428c-af2e-74a680f724ad",
        "colab": {
          "base_uri": "https://localhost:8080/",
          "height": 51
        }
      },
      "source": [
        "// Enum with addditional values\n",
        "enum car{\n",
        "  case speed(curSpeed: Float)\n",
        "}\n",
        "\n",
        "switch car.speed(curSpeed: 100){\n",
        "  case .speed(let x) where x > 60 :\n",
        "    print(\"Over-speeding\")\n",
        "  default:\n",
        "    print(\"nil\")\n",
        "}\n",
        "\n",
        "// behaves differently\n",
        "\n",
        "switch car.speed(curSpeed: 20){\n",
        "  case .speed(let x) where x > 60 :\n",
        "    print(\"Over-speeding\")\n",
        "  case .speed:\n",
        "    print(\"Car is moving but not over-speeding\")\n",
        "  default:\n",
        "    print(\"nil\")\n",
        "}"
      ],
      "execution_count": 23,
      "outputs": [
        {
          "output_type": "stream",
          "text": [
            "Over-speeding\r\n",
            "Car is moving but not over-speeding\r\n"
          ],
          "name": "stdout"
        }
      ]
    },
    {
      "cell_type": "markdown",
      "metadata": {
        "id": "h4oGizbcvBAO",
        "colab_type": "text"
      },
      "source": [
        "# 14. Structs\n",
        "\n",
        "-  Made up of multiple values and funcs. Unlike c structs, more like python class"
      ]
    },
    {
      "cell_type": "code",
      "metadata": {
        "id": "A8zD2q7Uuujg",
        "colab_type": "code",
        "outputId": "e754a994-b975-440d-cb93-feb240469f43",
        "colab": {
          "base_uri": "https://localhost:8080/",
          "height": 85
        }
      },
      "source": [
        "struct Lang{\n",
        "  var Name: String\n",
        "  var Year: Int\n",
        "  var Level: String = \"High-level\"\n",
        "  func printName(){\n",
        "    print(Name)\n",
        "  }\n",
        "}\n",
        "\n",
        "var Swift = Lang(Name: \"Swift ios\", Year: 2014)\n",
        "print(Swift)\n",
        "print(Swift.Name) // call individual value\n",
        "print(Swift.Level) // default value\n",
        "Swift.printName() // function call"
      ],
      "execution_count": 24,
      "outputs": [
        {
          "output_type": "stream",
          "text": [
            "Lang(Name: \"Swift ios\", Year: 2014, Level: \"High-level\")\r\n",
            "Swift ios\r\n",
            "High-level\r\n",
            "Swift ios\r\n"
          ],
          "name": "stdout"
        }
      ]
    },
    {
      "cell_type": "markdown",
      "metadata": {
        "id": "fmWkEa3lxBLz",
        "colab_type": "text"
      },
      "source": [
        "# 15. Classes"
      ]
    },
    {
      "cell_type": "code",
      "metadata": {
        "id": "2yXQOSE8vqgU",
        "colab_type": "code",
        "outputId": "6acd76d1-f4cf-427d-b21f-2cdc6c3ad6db",
        "colab": {
          "base_uri": "https://localhost:8080/",
          "height": 34
        }
      },
      "source": [
        "// Cannot leave a variable uninitialized\n",
        "// initialize without constructor init\n",
        "class Language{\n",
        "  var Name : String = \"s\"\n",
        "  var Year : Int = 10\n",
        "}\n",
        "\n",
        "var python = Language()\n",
        "print(python.Name)"
      ],
      "execution_count": 25,
      "outputs": [
        {
          "output_type": "stream",
          "text": [
            "s\r\n"
          ],
          "name": "stdout"
        }
      ]
    },
    {
      "cell_type": "code",
      "metadata": {
        "id": "YChic6CTxk3L",
        "colab_type": "code",
        "outputId": "5be19ce2-0d64-4734-84f2-8c066918a521",
        "colab": {
          "base_uri": "https://localhost:8080/",
          "height": 34
        }
      },
      "source": [
        "// with constructor\n",
        "class Car{\n",
        "  var color: String\n",
        "\n",
        "  // constructor\n",
        "  init(color: String){\n",
        "    self.color = color\n",
        "  }\n",
        "}\n",
        "\n",
        "var car = Car(color: \"blue\")\n",
        "print( car.color )"
      ],
      "execution_count": 26,
      "outputs": [
        {
          "output_type": "stream",
          "text": [
            "blue\r\n"
          ],
          "name": "stdout"
        }
      ]
    },
    {
      "cell_type": "code",
      "metadata": {
        "id": "htcV5oUC3D5X",
        "colab_type": "code",
        "outputId": "5357b7f0-45ef-4866-b235-b244b25d7768",
        "colab": {
          "base_uri": "https://localhost:8080/",
          "height": 51
        }
      },
      "source": [
        "// with default constructor and a method\n",
        "class Car2{\n",
        "  var color: String\n",
        "\n",
        "  // constructor\n",
        "  init(color: String = \"balck\"){\n",
        "    self.color = color\n",
        "  }\n",
        "\n",
        "  // method\n",
        "  func horn() {\n",
        "        print(\"beep!\")\n",
        "    }\n",
        "}\n",
        "\n",
        "var car = Car2()\n",
        "print( car.color )\n",
        "car.horn()"
      ],
      "execution_count": 27,
      "outputs": [
        {
          "output_type": "stream",
          "text": [
            "balck\r\n",
            "beep!\r\n"
          ],
          "name": "stdout"
        }
      ]
    },
    {
      "cell_type": "code",
      "metadata": {
        "id": "8a2mzyDc3bb3",
        "colab_type": "code",
        "outputId": "2481a4f9-c96d-47e7-dc35-e87d7df745ee",
        "colab": {
          "base_uri": "https://localhost:8080/",
          "height": 51
        }
      },
      "source": [
        "// Inheritance and override\n",
        "class Car3{\n",
        "  var color: String\n",
        "\n",
        "  // constructor\n",
        "  init(color: String = \"balck\"){\n",
        "    self.color = color\n",
        "  }\n",
        "\n",
        "  // method\n",
        "  func horn() {\n",
        "        print(\"beep!\")\n",
        "    }\n",
        "}\n",
        "\n",
        "class Truck: Car3{\n",
        "  override func horn(){\n",
        "    print(\"grrr\")\n",
        "  }\n",
        "}\n",
        "\n",
        "var truck = Truck()\n",
        "print(truck.color) //  inheritance\n",
        "truck.horn() // override"
      ],
      "execution_count": 28,
      "outputs": [
        {
          "output_type": "stream",
          "text": [
            "balck\r\n",
            "grrr\r\n"
          ],
          "name": "stdout"
        }
      ]
    },
    {
      "cell_type": "markdown",
      "metadata": {
        "id": "ARyLpcBm6Tue",
        "colab_type": "text"
      },
      "source": [
        "# 16. Properties\n",
        "\n",
        "Structs and classes (collectively: \"types\") can have their own variables and constants, and these are called properties.\n",
        "\n",
        "Because types can also have methods you can have them behave according to their own data."
      ]
    },
    {
      "cell_type": "code",
      "metadata": {
        "id": "DDEG7WA85PSo",
        "colab_type": "code",
        "outputId": "3e5ac922-d81a-4176-e646-156e276a768d",
        "colab": {
          "base_uri": "https://localhost:8080/",
          "height": 68
        }
      },
      "source": [
        "// Property Observers - willSet and didSet\n",
        "// ---------------------------------------\n",
        "// In 'willSet' Swift provides your code with a special value called 'newValue' that \n",
        "// contains what the new property value is going to be, and in 'didSet' you are \n",
        "// given 'oldValue' to represent the previous value.\n",
        "\n",
        "// Note: willSet-newValue and didSet-oldValue pair \n",
        "// Note: extended data-types\n",
        "\n",
        "struct month{\n",
        "\n",
        "  // this func will be later used inside extended data-type\n",
        "  func GOT(climate: String){\n",
        "    if climate == \"winter\"{\n",
        "      print(\"winter is coming\")\n",
        "    }\n",
        "  }\n",
        "\n",
        "  // extended data type\n",
        "  var climate : String {\n",
        "    willSet{\n",
        "      print(\"new value: \\(newValue)\")\n",
        "      // func inside data-type\n",
        "      GOT(climate: newValue)\n",
        "    }\n",
        "    didSet{\n",
        "      print(\"old value: \\(oldValue)\")\n",
        "    }\n",
        "  }\n",
        "\n",
        "}\n",
        "\n",
        "var april = month(climate: \"summer\")\n",
        "april.climate = \"winter\""
      ],
      "execution_count": 29,
      "outputs": [
        {
          "output_type": "stream",
          "text": [
            "new value: winter\r\n",
            "winter is coming\r\n",
            "old value: summer\r\n"
          ],
          "name": "stdout"
        }
      ]
    },
    {
      "cell_type": "code",
      "metadata": {
        "id": "KAuPzggD_ZTV",
        "colab_type": "code",
        "outputId": "405f1398-cf6c-413f-fa4d-293da8107739",
        "colab": {
          "base_uri": "https://localhost:8080/",
          "height": 34
        }
      },
      "source": [
        "// Computed Properties\n",
        "// Make properties that are actually code behind the scenes.\n",
        "// Place an open brace after your property then use either\n",
        "// 'get' or 'set' to make an action happen\n",
        "\n",
        "struct Man{\n",
        "  var ageInYears: Int\n",
        "  var ageInDays: Int{\n",
        "    get{\n",
        "      ageInYears * 365\n",
        "    }\n",
        "  }\n",
        "}\n",
        "\n",
        "var you = Man(ageInYears: 19)\n",
        "print( you.ageInDays )"
      ],
      "execution_count": 30,
      "outputs": [
        {
          "output_type": "stream",
          "text": [
            "6935\r\n"
          ],
          "name": "stdout"
        }
      ]
    },
    {
      "cell_type": "code",
      "metadata": {
        "id": "xTMBkdvHD0-2",
        "colab_type": "code",
        "outputId": "c76dcfec-4af4-4579-dcb3-aa1e0d6180ab",
        "colab": {
          "base_uri": "https://localhost:8080/",
          "height": 34
        }
      },
      "source": [
        "// or can remove `get` for read operations\n",
        "struct Man{\n",
        "  var ageInYears: Int\n",
        "  var ageInDays: Int{\n",
        "      ageInYears * 365\n",
        "  }\n",
        "}\n",
        "\n",
        "var you = Man(ageInYears: 19)\n",
        "print( you.ageInDays )"
      ],
      "execution_count": 31,
      "outputs": [
        {
          "output_type": "stream",
          "text": [
            "6935\r\n"
          ],
          "name": "stdout"
        }
      ]
    },
    {
      "cell_type": "markdown",
      "metadata": {
        "id": "A5UupZqjM75s",
        "colab_type": "text"
      },
      "source": [
        "# 17. Static properties and methods\n",
        "\n",
        "properties and methods that belong to a *type*, rather than to *instances* of a type. This is helpful for organizing your data meaningfully by storing shared data.\n",
        "\n",
        "simply use `static` keyword infront of property or func"
      ]
    },
    {
      "cell_type": "code",
      "metadata": {
        "id": "09J2lhOaEE52",
        "colab_type": "code",
        "outputId": "fc71e831-6039-4f36-937b-97190347c3b3",
        "colab": {
          "base_uri": "https://localhost:8080/",
          "height": 34
        }
      },
      "source": [
        "struct Dog{\n",
        "  static var numberOfLegs = \"four\"\n",
        "  var name: String\n",
        "}\n",
        "\n",
        "let doggy = Dog(name: \"Summer\")\n",
        "print( Dog.numberOfLegs ) // Note: Dog(i.e type) used, not doggy(i.e instance)\n",
        "\n",
        "// print( doggy.numberOfLegs ) // gives error "
      ],
      "execution_count": 32,
      "outputs": [
        {
          "output_type": "stream",
          "text": [
            "four\r\n"
          ],
          "name": "stdout"
        }
      ]
    },
    {
      "cell_type": "markdown",
      "metadata": {
        "id": "TncZw5hrPDfn",
        "colab_type": "text"
      },
      "source": [
        "# 18. Access Control\n",
        "\n",
        " What data inside **structs and classes** should be exposed to the outside world\n",
        "\n",
        "- **`public`:** this means everyone can read and write the property.\n",
        "\n",
        "- **`internal`:** this means only your Swift code can read and write the property. *If you ship your code as a framework for others to use, they won’t be able to read the property.*\n",
        "\n",
        "- **`fileprivate`:** this means that only Swift code in the *same file as the type* can read and write the property.\n",
        "\n",
        "- **`private`:** this is the most restrictive option, and means the property is available only inside methods that belong to the type, or its extensions.\n",
        "\n",
        "sometimes you'll want to explicitly set a property to be `private` because it stops others from accessing it directly. This is useful because your own methods can work with that property, but others can't, thus forcing them to go through your code to perform certain actions."
      ]
    },
    {
      "cell_type": "code",
      "metadata": {
        "id": "Zdjs4FTnO6k_",
        "colab_type": "code",
        "colab": {}
      },
      "source": [
        "class Test{\n",
        "  internal var  test: String?\n",
        "}"
      ],
      "execution_count": 0,
      "outputs": []
    },
    {
      "cell_type": "markdown",
      "metadata": {
        "id": "yJT2M6SuRtBZ",
        "colab_type": "text"
      },
      "source": [
        "# 19. Polymorphism and Typecasting"
      ]
    },
    {
      "cell_type": "code",
      "metadata": {
        "id": "Pnbz3eRbRi9j",
        "colab_type": "code",
        "colab": {}
      },
      "source": [
        "class Album {\n",
        "    var name: String\n",
        "\n",
        "    init(name: String) {\n",
        "        self.name = name\n",
        "    }\n",
        "\n",
        "    func getPerformance() -> String {\n",
        "        return \"The album \\(name) sold lots\"\n",
        "    }\n",
        "}\n",
        "\n",
        "class StudioAlbum: Album {\n",
        "    var studio: String\n",
        "\n",
        "    init(name: String, studio: String) {\n",
        "        self.studio = studio\n",
        "        super.init(name: name)\n",
        "    }\n",
        "\n",
        "    override func getPerformance() -> String {\n",
        "        return \"The studio album \\(name) sold lots\"\n",
        "    }\n",
        "}\n",
        "\n",
        "class LiveAlbum: Album {\n",
        "    var location: String\n",
        "\n",
        "    init(name: String, location: String) {\n",
        "        self.location = location\n",
        "        super.init(name: name)\n",
        "    }\n",
        "\n",
        "     override func getPerformance() -> String {\n",
        "        return \"The live album \\(name) sold lots\"\n",
        "    }\n",
        "}"
      ],
      "execution_count": 0,
      "outputs": []
    },
    {
      "cell_type": "code",
      "metadata": {
        "id": "Jg-CbbBuSo3O",
        "colab_type": "code",
        "colab": {}
      },
      "source": [
        "// Demonstrate polymorphism\n",
        "var taylorSwift = StudioAlbum(name: \"Taylor Swift\", studio: \"The Castles Studios\")\n",
        "var fearless = StudioAlbum(name: \"Speak Now\", studio: \"Aimeeland Studio\")\n",
        "var iTunesLive = LiveAlbum(name: \"iTunes Live from SoHo\", location: \"New York\")\n",
        "\n",
        "// Array of type 'Album' - Perfectly fine in Swift\n",
        "var allAlbums: [Album] = [taylorSwift, fearless, iTunesLive]"
      ],
      "execution_count": 0,
      "outputs": []
    },
    {
      "cell_type": "code",
      "metadata": {
        "id": "x63yTjTvSsEf",
        "colab_type": "code",
        "colab": {}
      },
      "source": [
        "// Typecasting - Converting Types\n",
        "// ------------------------------\n"
      ],
      "execution_count": 0,
      "outputs": []
    },
    {
      "cell_type": "markdown",
      "metadata": {
        "id": "EuWJuQZxYdTd",
        "colab_type": "text"
      },
      "source": [
        "Typecasting in Swift comes in **three forms**, but most of the time you'll only meet two: `as?` and `as!`, known as **optional downcasting** and **forced downcasting**. The former means `\"I think this conversion might be true, but it might fail,\"` and the second means `\"I know this conversion is true, and I'm happy for my app to crash if I'm wrong.\"`\n",
        "\n",
        "**Note:** when I say \"conversion\" I don't mean that the object literally gets transformed. Instead, it's just converting how Swift treats the object – you're telling Swift that an object it thought was type A is actually type E.\n",
        "\n",
        "This is most commonly used with `if let` to automatically unwrap the optional result\n",
        "\n",
        "- use `!` if you are 100% sure. It may or may not return error\n",
        "\n",
        "- use `?` if you aren't sure. It will either return `nil` or expected output but never returns error "
      ]
    },
    {
      "cell_type": "code",
      "metadata": {
        "id": "EjQVHG7VYb3W",
        "colab_type": "code",
        "colab": {}
      },
      "source": [
        "for album in allAlbums {\n",
        "    let studioAlbum = album as? StudioAlbum // note: no () while creating istance\n",
        "}"
      ],
      "execution_count": 0,
      "outputs": []
    },
    {
      "cell_type": "code",
      "metadata": {
        "id": "eGCEejx8Yt7o",
        "colab_type": "code",
        "colab": {
          "base_uri": "https://localhost:8080/",
          "height": 119
        },
        "outputId": "f006ddd4-8057-4678-f86f-d9d1014fb09d"
      },
      "source": [
        "// Better with 'if let'\n",
        "\n",
        "for album in allAlbums {\n",
        "    print(album.getPerformance()) // common to all\n",
        "\n",
        "    if let studioAlbum = album as? StudioAlbum { // checks whether it can convert the 'album' value into a 'StudioAlbum', and if it can it prints out the studio name\n",
        "        print(studioAlbum.studio) // 'studio' property is present only in type 'StudioAlbum' class  \n",
        "    } else if let liveAlbum = album as? LiveAlbum { // same\n",
        "        print(liveAlbum.location) // 'location' property is present only in type 'LiveAlbum' class \n",
        "    }\n",
        "}"
      ],
      "execution_count": 44,
      "outputs": [
        {
          "output_type": "stream",
          "text": [
            "The studio album Taylor Swift sold lots\r\n",
            "The Castles Studios\r\n",
            "The studio album Speak Now sold lots\r\n",
            "Aimeeland Studio\r\n",
            "The live album iTunes Live from SoHo sold lots\r\n",
            "New York\r\n"
          ],
          "name": "stdout"
        }
      ]
    },
    {
      "cell_type": "code",
      "metadata": {
        "id": "ImmW5icCaAai",
        "colab_type": "code",
        "colab": {
          "base_uri": "https://localhost:8080/",
          "height": 51
        },
        "outputId": "efc085e4-7833-426b-b258-681ad9d18045"
      },
      "source": [
        "// Forced downcasting doesn't need to return an optional value, because you're \n",
        "// saying the conversion is definitely going to work – if you're wrong, it means\n",
        "// you wrote your code wrong.\n",
        "\n",
        "var taylorSwift = StudioAlbum(name: \"Taylor Swift\", studio: \"The Castles Studios\")\n",
        "var fearless = StudioAlbum(name: \"Speak Now\", studio: \"Aimeeland Studio\")\n",
        "\n",
        "var allAlbums: [Album] = [taylorSwift, fearless]\n",
        "\n",
        "for album in allAlbums {\n",
        "    let studioAlbum = album as! StudioAlbum\n",
        "    print(studioAlbum.studio)\n",
        "}\n",
        "\n",
        "// This example won't crash because it makes the correct assumptions"
      ],
      "execution_count": 46,
      "outputs": [
        {
          "output_type": "stream",
          "text": [
            "The Castles Studios\r\n",
            "Aimeeland Studio\r\n"
          ],
          "name": "stdout"
        }
      ]
    },
    {
      "cell_type": "code",
      "metadata": {
        "id": "9jQSjKoykO67",
        "colab_type": "code",
        "colab": {
          "base_uri": "https://localhost:8080/",
          "height": 51
        },
        "outputId": "e776b5f9-cf17-4da9-bfe8-794ebc7537fa"
      },
      "source": [
        "// forced downcast at the array level\n",
        "// using directly in loop (more efficient)\n",
        "\n",
        "for album in allAlbums as! [StudioAlbum] {\n",
        "    print(album.studio)\n",
        "}\n",
        "\n",
        "// Note:  All items in the array should be 'StudioAlbums', otherwise your code will crash."
      ],
      "execution_count": 48,
      "outputs": [
        {
          "output_type": "stream",
          "text": [
            "The Castles Studios\r\n",
            "Aimeeland Studio\r\n"
          ],
          "name": "stdout"
        }
      ]
    },
    {
      "cell_type": "code",
      "metadata": {
        "id": "jyT7IR5nlRa2",
        "colab_type": "code",
        "colab": {}
      },
      "source": [
        "// Typecasting for common types\n",
        "// ----------------------------"
      ],
      "execution_count": 0,
      "outputs": []
    },
    {
      "cell_type": "code",
      "metadata": {
        "id": "eGw0cxSmlsBl",
        "colab_type": "code",
        "colab": {
          "base_uri": "https://localhost:8080/",
          "height": 34
        },
        "outputId": "361c0f4d-21cd-4d65-a2cb-a8faf6a2eb7a"
      },
      "source": [
        "let num = 5\n",
        "let text = num as? String \n",
        "print(text) // 'nil' because cant convert Int to String "
      ],
      "execution_count": 54,
      "outputs": [
        {
          "output_type": "stream",
          "text": [
            "nil\r\n"
          ],
          "name": "stdout"
        }
      ]
    },
    {
      "cell_type": "code",
      "metadata": {
        "id": "FrDiPdf0mEYd",
        "colab_type": "code",
        "colab": {
          "base_uri": "https://localhost:8080/",
          "height": 95
        },
        "outputId": "dbb0cd86-d34d-4a04-99cf-ca0ee0d03c45"
      },
      "source": [
        "let num = 5\n",
        "let text = num as! String \n",
        "print(text) // error, because cant convert Int to String "
      ],
      "execution_count": 55,
      "outputs": [
        {
          "output_type": "error",
          "ename": "",
          "evalue": "ignored",
          "traceback": [
            "error: Execution was interrupted, reason: signal SIGILL: illegal instruction operand.\nThe process has been left at the point where it was interrupted, use \"thread return -x\" to return to the state before expression evaluation.\n"
          ]
        }
      ]
    },
    {
      "cell_type": "code",
      "metadata": {
        "id": "EVsM7VcfnX7Q",
        "colab_type": "code",
        "colab": {
          "base_uri": "https://localhost:8080/",
          "height": 34
        },
        "outputId": "3c44cca1-e9e4-472d-cbbd-52e3afe4fa48"
      },
      "source": [
        "// Alternatively use,\n",
        "let number = 5\n",
        "let text = String(number)\n",
        "print(text)"
      ],
      "execution_count": 56,
      "outputs": [
        {
          "output_type": "stream",
          "text": [
            "5\r\n"
          ],
          "name": "stdout"
        }
      ]
    },
    {
      "cell_type": "code",
      "metadata": {
        "id": "IuD1OfNEnmtf",
        "colab_type": "code",
        "colab": {}
      },
      "source": [
        ""
      ],
      "execution_count": 0,
      "outputs": []
    }
  ]
}