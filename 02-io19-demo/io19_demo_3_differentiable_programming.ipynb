{
  "nbformat": 4,
  "nbformat_minor": 0,
  "metadata": {
    "colab": {
      "name": "io19-demo-3-differentiable-programming.ipynb",
      "provenance": [],
      "collapsed_sections": [],
      "include_colab_link": true
    },
    "kernelspec": {
      "name": "swift",
      "display_name": "Swift"
    }
  },
  "cells": [
    {
      "cell_type": "markdown",
      "metadata": {
        "id": "view-in-github",
        "colab_type": "text"
      },
      "source": [
        "<a href=\"https://colab.research.google.com/github/rakesh4real/swift4tensorflow/blob/master/io19_demo_3_differentiable_programming.ipynb\" target=\"_parent\"><img src=\"https://colab.research.google.com/assets/colab-badge.svg\" alt=\"Open In Colab\"/></a>"
      ]
    },
    {
      "cell_type": "markdown",
      "metadata": {
        "id": "2IAwKdyCBlnk",
        "colab_type": "text"
      },
      "source": [
        "# Differentiable Programming\n",
        "\n",
        "## Differentiate a function"
      ]
    },
    {
      "cell_type": "markdown",
      "metadata": {
        "id": "s-BqNOHVBh7v",
        "colab_type": "text"
      },
      "source": [
        "$$f(x, y) = x^2 + y \\ \\ \\ \\ \\ \\ \\ \\ \\ \\ f(3, 2) = 11$$"
      ]
    },
    {
      "cell_type": "code",
      "metadata": {
        "id": "jG5Bbj2QBwxD",
        "colab_type": "code",
        "outputId": "338774fb-4d0e-4e03-823d-b73b43f68bca",
        "colab": {
          "base_uri": "https://localhost:8080/",
          "height": 34
        }
      },
      "source": [
        "// @differentiable\n",
        "func f(_ x: Double, _ y: Double) -> Double {\n",
        "    return x * x + y\n",
        "}\n",
        "print(f(3, 2))"
      ],
      "execution_count": 0,
      "outputs": [
        {
          "output_type": "stream",
          "text": [
            "11.0\r\n"
          ],
          "name": "stdout"
        }
      ]
    },
    {
      "cell_type": "markdown",
      "metadata": {
        "id": "eDLi6LwdB4W2",
        "colab_type": "text"
      },
      "source": [
        "$$\\nabla f(x, y) = \\langle 2x, 1 \\rangle \\ \\ \\ \\ \\ \\ \\ \\ \\ \\ \\nabla f(3, 2) = \\langle 6, 1 \\rangle$$"
      ]
    },
    {
      "cell_type": "code",
      "metadata": {
        "id": "0S9QvEfaB5VC",
        "colab_type": "code",
        "outputId": "38e69123-11f4-4299-d696-94f024f63d39",
        "colab": {
          "base_uri": "https://localhost:8080/",
          "height": 34
        }
      },
      "source": [
        "print(gradient(at: 3, 2, in: f))"
      ],
      "execution_count": 0,
      "outputs": [
        {
          "output_type": "stream",
          "text": [
            "(6.0, 1.0)\r\n"
          ],
          "name": "stdout"
        }
      ]
    },
    {
      "cell_type": "markdown",
      "metadata": {
        "id": "wrSmruxeCrkn",
        "colab_type": "text"
      },
      "source": [
        "$$g(x, y) = f(2 * x, \\sqrt{y}) \\ \\ \\ \\ \\ \\ \\ \\ \\ \\ \\nabla g(x, y) = \\text{?}$$"
      ]
    },
    {
      "cell_type": "code",
      "metadata": {
        "id": "DMrIMUSJCsMy",
        "colab_type": "code",
        "outputId": "8f176068-8596-495a-c07a-14a236ce313b",
        "colab": {
          "base_uri": "https://localhost:8080/",
          "height": 34
        }
      },
      "source": [
        "func g(_ x: Double, _ y: Double) -> Double {\n",
        "    return f(2 * x, y.squareRoot())\n",
        "}\n",
        "\n",
        "let z = valueWithGradient(at: 2, 4, in: g)\n",
        "\n",
        "print(z)\n"
      ],
      "execution_count": 0,
      "outputs": [
        {
          "output_type": "stream",
          "text": [
            "(value: 18.0, gradient: (16.0, 0.25))\r\n"
          ],
          "name": "stdout"
        }
      ]
    },
    {
      "cell_type": "markdown",
      "metadata": {
        "id": "m7Ucf6dQC9T-",
        "colab_type": "text"
      },
      "source": [
        "## Create a custom differentiable type"
      ]
    },
    {
      "cell_type": "code",
      "metadata": {
        "id": "gn1Xb-DTCuyT",
        "colab_type": "code",
        "outputId": "1d97d131-674f-413b-bbb5-fa835f3145e8",
        "colab": {
          "base_uri": "https://localhost:8080/",
          "height": 34
        }
      },
      "source": [
        "struct Point: Differentiable{\n",
        "    var x, y: Double\n",
        "}\n",
        "\n",
        "func dot(_ lhs: Point, _ rhs: Point) -> Double {\n",
        "    return lhs.x * rhs.x + lhs.y * rhs.y\n",
        "}\n",
        "\n",
        "let a = Point(x: 1, y: 2)\n",
        "let b = Point(x: 2, y: 1)\n",
        "\n",
        "let grads = gradient(at: a, b, in: dot)\n",
        "print(grads.0.x, grads.1.y)\n"
      ],
      "execution_count": 0,
      "outputs": [
        {
          "output_type": "stream",
          "text": [
            "2.0 2.0\r\n"
          ],
          "name": "stdout"
        }
      ]
    },
    {
      "cell_type": "code",
      "metadata": {
        "id": "nsFL7sx_D8Cd",
        "colab_type": "code",
        "colab": {}
      },
      "source": [
        "extension Point {\n",
        "    func roundedSum() -> Double {\n",
        "        return Double(Int(x) + Int(y))\n",
        "    }\n",
        "}"
      ],
      "execution_count": 0,
      "outputs": []
    },
    {
      "cell_type": "markdown",
      "metadata": {
        "id": "y-ny25h1EAeO",
        "colab_type": "text"
      },
      "source": [
        ""
      ]
    },
    {
      "cell_type": "markdown",
      "metadata": {
        "id": "ogNaEawqEC1c",
        "colab_type": "text"
      },
      "source": [
        "## Custom Derivative"
      ]
    },
    {
      "cell_type": "code",
      "metadata": {
        "id": "NZhGPyFCD9z7",
        "colab_type": "code",
        "outputId": "8d2b3f7a-906b-42da-b30f-411b833cc4bd",
        "colab": {
          "base_uri": "https://localhost:8080/",
          "height": 197
        }
      },
      "source": [
        "\n",
        "import Glibc\n",
        "\n",
        "gradient(at: 4) { x in\n",
        "    sqrt(x)\n",
        "}"
      ],
      "execution_count": 0,
      "outputs": [
        {
          "output_type": "error",
          "ename": "",
          "evalue": "ignored",
          "traceback": [
            "error: <Cell 11>:5:5: error: expression is not differentiable\n    sqrt(x)\n    ^\n\n<Cell 11>:5:5: note: cannot differentiate functions that have not been marked '@differentiable' and that are defined in other files\n    sqrt(x)\n    ^\n\n"
          ]
        }
      ]
    },
    {
      "cell_type": "markdown",
      "metadata": {
        "id": "3PznRQ4XEQAI",
        "colab_type": "text"
      },
      "source": [
        "$$\\frac{d \\sqrt{x}}{d x} = \\frac{-1}{2 \\sqrt{x}}$$"
      ]
    },
    {
      "cell_type": "code",
      "metadata": {
        "id": "KoJgQ3viEOSg",
        "colab_type": "code",
        "outputId": "b5996b81-39c7-4bfc-d9ac-2a3c14f9b95b",
        "colab": {
          "base_uri": "https://localhost:8080/",
          "height": 129
        }
      },
      "source": [
        "func squareRoot(_ x: Double) -> Double {\n",
        "    return sqrt(x)\n",
        "}\n",
        "\n",
        "@differentiable\n",
        "func derivative(_ x: Double) -> (value: Double, pullback: (Double) -> Double) {\n",
        "    let y = sqrt(x)\n",
        "    return (value: y, pullback: { dy in -dy/(2 * y) })\n",
        "}"
      ],
      "execution_count": 0,
      "outputs": [
        {
          "output_type": "error",
          "ename": "",
          "evalue": "ignored",
          "traceback": [
            "error: <Cell 18>:5:2: error: can only differentiate functions with results that conform to 'Differentiable', but '(value: Double, pullback: (Double) -> Double)' does not conform to 'Differentiable'\n@differentiable\n ^\n\n"
          ]
        }
      ]
    },
    {
      "cell_type": "code",
      "metadata": {
        "id": "4kSzSPv0EtGT",
        "colab_type": "code",
        "outputId": "7216159a-770a-469c-d281-c6eb04250bbb",
        "colab": {
          "base_uri": "https://localhost:8080/",
          "height": 197
        }
      },
      "source": [
        "gradient(at: 4) { x in\n",
        "    squareRoot(x)\n",
        "}"
      ],
      "execution_count": 0,
      "outputs": [
        {
          "output_type": "error",
          "ename": "",
          "evalue": "ignored",
          "traceback": [
            "error: <Cell 15>:2:5: error: expression is not differentiable\n    squareRoot(x)\n    ^\n\n<Cell 15>:2:5: note: cannot differentiate functions that have not been marked '@differentiable' and that are defined in other files\n    squareRoot(x)\n    ^\n\n"
          ]
        }
      ]
    },
    {
      "cell_type": "code",
      "metadata": {
        "id": "vmINXe_zEyej",
        "colab_type": "code",
        "colab": {}
      },
      "source": [
        ""
      ],
      "execution_count": 0,
      "outputs": []
    }
  ]
}